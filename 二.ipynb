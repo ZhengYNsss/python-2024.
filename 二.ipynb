{
 "cells": [
  {
   "cell_type": "markdown",
   "id": "fe75f6d2-7dfe-448f-bf3b-f07251b6b196",
   "metadata": {},
   "source": [
    "# 第二章"
   ]
  },
  {
   "cell_type": "markdown",
   "id": "e1aae1c5-82ad-4889-9fdc-8d0d0546df4a",
   "metadata": {},
   "source": [
    "## 2.1 运行 hello_world.py 时发生的情况\r"
   ]
  },
  {
   "cell_type": "code",
   "execution_count": 18,
   "id": "9cbd2d4d-4c99-4a41-938d-a82a079f543f",
   "metadata": {},
   "outputs": [
    {
     "name": "stdout",
     "output_type": "stream",
     "text": [
      "Hello Python world!\n"
     ]
    }
   ],
   "source": [
    "print(\"Hello Python world!\")"
   ]
  },
  {
   "cell_type": "markdown",
   "id": "586713f3-bc48-4c55-a316-bdad5d223bcb",
   "metadata": {},
   "source": [
    "## 2.2 变量"
   ]
  },
  {
   "cell_type": "code",
   "execution_count": 19,
   "id": "145f9cdb-ce9a-4986-8018-fd8073d13a19",
   "metadata": {},
   "outputs": [
    {
     "name": "stdout",
     "output_type": "stream",
     "text": [
      "Hello Python world!\n"
     ]
    }
   ],
   "source": [
    "message = \"Hello Python world!\" \n",
    "print(message)"
   ]
  },
  {
   "cell_type": "code",
   "execution_count": 21,
   "id": "1019a4f4-8bfd-4485-8ab8-59b94e2ffe7e",
   "metadata": {},
   "outputs": [
    {
     "name": "stdout",
     "output_type": "stream",
     "text": [
      "Hello Python world!\n",
      "Hello Python Crash Course world!\n"
     ]
    }
   ],
   "source": [
    "message = \"Hello Python world!\" \n",
    "print(message) \n",
    " \n",
    "message = \"Hello Python Crash Course world!\"\n",
    "print(message)"
   ]
  },
  {
   "cell_type": "markdown",
   "id": "fe2e91f0-8879-4eef-883d-f48a97fb825e",
   "metadata": {},
   "source": [
    "### 2.2.1 变量的命名和使用"
   ]
  },
  {
   "cell_type": "markdown",
   "id": "e5ff184b-efcd-40c2-9abd-0541c03480b6",
   "metadata": {},
   "source": [
    "### 2.2.2 如何在使用变量时避免命名错误"
   ]
  },
  {
   "cell_type": "code",
   "execution_count": 22,
   "id": "387c7767-cb5e-4a03-919a-0a35cdca6e0c",
   "metadata": {},
   "outputs": [
    {
     "ename": "NameError",
     "evalue": "name 'mesage' is not defined",
     "output_type": "error",
     "traceback": [
      "\u001b[1;31m---------------------------------------------------------------------------\u001b[0m",
      "\u001b[1;31mNameError\u001b[0m                                 Traceback (most recent call last)",
      "Cell \u001b[1;32mIn[22], line 2\u001b[0m\n\u001b[0;32m      1\u001b[0m message \u001b[38;5;241m=\u001b[39m \u001b[38;5;124m\"\u001b[39m\u001b[38;5;124mHello Python Crash Course reader!\u001b[39m\u001b[38;5;124m\"\u001b[39m \n\u001b[1;32m----> 2\u001b[0m \u001b[38;5;28mprint\u001b[39m(mesage)\n",
      "\u001b[1;31mNameError\u001b[0m: name 'mesage' is not defined"
     ]
    }
   ],
   "source": [
    "message = \"Hello Python Crash Course reader!\" \n",
    "print(mesage)"
   ]
  },
  {
   "cell_type": "code",
   "execution_count": 23,
   "id": "e3c6f3c5-9fa0-4573-a39d-a40aa954f066",
   "metadata": {},
   "outputs": [
    {
     "name": "stdout",
     "output_type": "stream",
     "text": [
      "Hello Python Crash Course reader!\n"
     ]
    }
   ],
   "source": [
    "mesage = \"Hello Python Crash Course reader!\" \n",
    "print(mesage)"
   ]
  },
  {
   "cell_type": "markdown",
   "id": "7918d51c-0c41-4f22-8b18-7e60cde0c0dd",
   "metadata": {
    "jp-MarkdownHeadingCollapsed": true
   },
   "source": [
    "### 2.2.3 变量是标签"
   ]
  },
  {
   "cell_type": "markdown",
   "id": "9b3f4068-44d8-439c-8b56-b09251ef0ed9",
   "metadata": {},
   "source": [
    "### 2.3 字符串"
   ]
  },
  {
   "cell_type": "markdown",
   "id": "8564ae87-6d40-46bc-aaad-66e26b56d5fb",
   "metadata": {},
   "source": [
    "### 2.3.1 使用方法修改字符串的大小写"
   ]
  },
  {
   "cell_type": "code",
   "execution_count": 24,
   "id": "ae1444f3-0460-49ed-b9f7-b46ed7a13f34",
   "metadata": {},
   "outputs": [
    {
     "name": "stdout",
     "output_type": "stream",
     "text": [
      "Ada Lovelace\n"
     ]
    }
   ],
   "source": [
    "name = \"ada lovelace\" \n",
    "print(name.title())"
   ]
  },
  {
   "cell_type": "code",
   "execution_count": 25,
   "id": "4b0ddbc9-ffef-4fe6-9114-b63ee3aabcbc",
   "metadata": {},
   "outputs": [
    {
     "name": "stdout",
     "output_type": "stream",
     "text": [
      "ADA LOVELACE\n",
      "ada lovelace\n"
     ]
    }
   ],
   "source": [
    "name = \"Ada Lovelace\" \n",
    "print(name.upper()) \n",
    "print(name.lower())\n"
   ]
  },
  {
   "cell_type": "markdown",
   "id": "1e901d63-7546-45fc-948f-38338478f63a",
   "metadata": {},
   "source": [
    "### 2.3.2 在字符串中使用变量"
   ]
  },
  {
   "cell_type": "code",
   "execution_count": 26,
   "id": "bc5f9441-0875-4a5d-8aee-25575690315f",
   "metadata": {},
   "outputs": [
    {
     "name": "stdout",
     "output_type": "stream",
     "text": [
      "ada lovelace\n"
     ]
    }
   ],
   "source": [
    "first_name = \"ada\" \n",
    "last_name = \"lovelace\" \n",
    "full_name = f\"{first_name} {last_name}\" \n",
    "print(full_name)"
   ]
  },
  {
   "cell_type": "code",
   "execution_count": 27,
   "id": "a3666678-5998-4fab-8e85-8371c4b8e48d",
   "metadata": {},
   "outputs": [
    {
     "name": "stdout",
     "output_type": "stream",
     "text": [
      "Hello, Ada Lovelace!\n"
     ]
    }
   ],
   "source": [
    "first_name = \"ada\" \n",
    "last_name = \"lovelace\"  \n",
    "full_name = f\"{first_name} {last_name}\" \n",
    "print(f\"Hello, {full_name.title()}!\")\n"
   ]
  },
  {
   "cell_type": "code",
   "execution_count": 28,
   "id": "9ecfa667-e332-4c1b-a421-f7bc6d8279c5",
   "metadata": {},
   "outputs": [
    {
     "name": "stdout",
     "output_type": "stream",
     "text": [
      "Hello, Ada Lovelace!\n"
     ]
    }
   ],
   "source": [
    "first_name = \"ada\" \n",
    "last_name = \"lovelace\" \n",
    "full_name = f\"{first_name} {last_name}\" \n",
    "message = f\"Hello, {full_name.title()}!\" \n",
    "print(message)\n"
   ]
  },
  {
   "cell_type": "markdown",
   "id": "ef2a33e2-0e88-4aa3-97a0-e07006fe3b47",
   "metadata": {},
   "source": [
    "### 2.3.3 使用制表符或换行符来添加空白"
   ]
  },
  {
   "cell_type": "code",
   "execution_count": 29,
   "id": "28c45e52-96c0-4c9a-a00e-ce4573a70511",
   "metadata": {},
   "outputs": [
    {
     "name": "stdout",
     "output_type": "stream",
     "text": [
      "Python\n",
      "\tPython\n"
     ]
    }
   ],
   "source": [
    "print(\"Python\") \n",
    " \n",
    "print(\"\\tPython\") \n",
    " "
   ]
  },
  {
   "cell_type": "code",
   "execution_count": 37,
   "id": "5a51f845-48cc-4599-96db-9dd52775a29c",
   "metadata": {},
   "outputs": [
    {
     "ename": "SyntaxError",
     "evalue": "invalid character '：' (U+FF1A) (2035871946.py, line 2)",
     "output_type": "error",
     "traceback": [
      "\u001b[1;36m  Cell \u001b[1;32mIn[37], line 2\u001b[1;36m\u001b[0m\n\u001b[1;33m    Languages：\u001b[0m\n\u001b[1;37m             ^\u001b[0m\n\u001b[1;31mSyntaxError\u001b[0m\u001b[1;31m:\u001b[0m invalid character '：' (U+FF1A)\n"
     ]
    }
   ],
   "source": [
    "print(\"Languages:\\nPython\\nC\\nJavaScript\") \n",
    "Languages：\n",
    "Python \n",
    "C \n",
    "JavaScript "
   ]
  },
  {
   "cell_type": "code",
   "execution_count": 35,
   "id": "3899320a-5d8d-4ced-b498-662f94b21ee7",
   "metadata": {},
   "outputs": [
    {
     "ename": "SyntaxError",
     "evalue": "invalid syntax (2419922177.py, line 2)",
     "output_type": "error",
     "traceback": [
      "\u001b[1;36m  Cell \u001b[1;32mIn[35], line 2\u001b[1;36m\u001b[0m\n\u001b[1;33m    Languages:\u001b[0m\n\u001b[1;37m                ^\u001b[0m\n\u001b[1;31mSyntaxError\u001b[0m\u001b[1;31m:\u001b[0m invalid syntax\n"
     ]
    }
   ],
   "source": [
    "print(\"Languages:\\n\\tPython\\n\\tC\\n\\tJavaScript\") \n",
    "Languages:  \n",
    "Python \n",
    "C \n",
    "JavaScript \n"
   ]
  },
  {
   "cell_type": "markdown",
   "id": "edfdb2e9-76e5-4192-b75f-dca9d0373c60",
   "metadata": {},
   "source": [
    "### 2.3.4 删除空白"
   ]
  },
  {
   "cell_type": "code",
   "execution_count": 46,
   "id": "37fd7d92-6095-41d1-8718-0e204a21e557",
   "metadata": {},
   "outputs": [],
   "source": [
    "favorite_language = 'python '\n",
    "favorite_language.rstrip()\n",
    "favorite_language = favorite_language.rstrip()"
   ]
  },
  {
   "cell_type": "code",
   "execution_count": 43,
   "id": "aa33d07c-1085-4566-9b02-59fb1566fee1",
   "metadata": {},
   "outputs": [],
   "source": [
    "favorite_language = ' python '\n",
    "favorite_language = favorite_language.lstrip()\n",
    "favorite_language = favorite_language.rstrip()"
   ]
  },
  {
   "cell_type": "markdown",
   "id": "4a3597a6-0030-4914-8dfa-486d564e459f",
   "metadata": {},
   "source": [
    "### 2.3.5"
   ]
  },
  {
   "cell_type": "code",
   "execution_count": 45,
   "id": "d8e8029a-6bd0-4076-8676-a4c5d4f737a7",
   "metadata": {},
   "outputs": [],
   "source": [
    "nostarch_url = 'https://nostarch.com'\n",
    "nostarch_url.removeprefix('https://') \n",
    "simple_url = nostarch_url.removeprefix('https://')"
   ]
  },
  {
   "cell_type": "markdown",
   "id": "93b2c117-0bd4-4823-b8f9-72d0cefeedb6",
   "metadata": {},
   "source": [
    "### 2.3.6"
   ]
  },
  {
   "cell_type": "code",
   "execution_count": 47,
   "id": "02958b34-625e-473d-9720-e250b4462112",
   "metadata": {},
   "outputs": [
    {
     "name": "stdout",
     "output_type": "stream",
     "text": [
      "One of Python's strengths is its diverse community\n"
     ]
    }
   ],
   "source": [
    "message = \"One of Python's strengths is its diverse community\"\n",
    "print(message)"
   ]
  },
  {
   "cell_type": "markdown",
   "id": "277f0226-f8a9-447a-8271-d1675d0d9069",
   "metadata": {},
   "source": [
    "## 数"
   ]
  },
  {
   "cell_type": "markdown",
   "id": "6c32e564-b1a6-40ab-af4b-dace8c91dc60",
   "metadata": {},
   "source": [
    "### 2.4.1"
   ]
  },
  {
   "cell_type": "code",
   "execution_count": 48,
   "id": "458a666c-c542-45dc-aa15-301d758fd400",
   "metadata": {},
   "outputs": [
    {
     "data": {
      "text/plain": [
       "5"
      ]
     },
     "execution_count": 48,
     "metadata": {},
     "output_type": "execute_result"
    }
   ],
   "source": [
    "2+3"
   ]
  },
  {
   "cell_type": "code",
   "execution_count": 49,
   "id": "098bb05a-1467-44ed-9427-a462d65ba574",
   "metadata": {},
   "outputs": [
    {
     "data": {
      "text/plain": [
       "1"
      ]
     },
     "execution_count": 49,
     "metadata": {},
     "output_type": "execute_result"
    }
   ],
   "source": [
    "3-2"
   ]
  },
  {
   "cell_type": "code",
   "execution_count": 51,
   "id": "0579435e-3961-493e-ab74-71f2329a7215",
   "metadata": {},
   "outputs": [
    {
     "data": {
      "text/plain": [
       "6"
      ]
     },
     "execution_count": 51,
     "metadata": {},
     "output_type": "execute_result"
    }
   ],
   "source": [
    "2*3"
   ]
  },
  {
   "cell_type": "code",
   "execution_count": 52,
   "id": "0f6bddd4-995f-4a43-9666-66f9721b02f1",
   "metadata": {},
   "outputs": [
    {
     "data": {
      "text/plain": [
       "1.5"
      ]
     },
     "execution_count": 52,
     "metadata": {},
     "output_type": "execute_result"
    }
   ],
   "source": [
    "3/2"
   ]
  },
  {
   "cell_type": "code",
   "execution_count": 53,
   "id": "c2fc1903-b6ce-409c-9643-594a711cb18f",
   "metadata": {},
   "outputs": [
    {
     "data": {
      "text/plain": [
       "27"
      ]
     },
     "execution_count": 53,
     "metadata": {},
     "output_type": "execute_result"
    }
   ],
   "source": [
    "3**3"
   ]
  },
  {
   "cell_type": "code",
   "execution_count": 57,
   "id": "58e16c8d-43b0-4a83-b8ed-2290b32713f7",
   "metadata": {},
   "outputs": [
    {
     "data": {
      "text/plain": [
       "1000000"
      ]
     },
     "execution_count": 57,
     "metadata": {},
     "output_type": "execute_result"
    }
   ],
   "source": [
    "10**6"
   ]
  },
  {
   "cell_type": "code",
   "execution_count": 55,
   "id": "0e8f1b6e-e522-47aa-bb6d-d434c6a260fe",
   "metadata": {},
   "outputs": [
    {
     "data": {
      "text/plain": [
       "20"
      ]
     },
     "execution_count": 55,
     "metadata": {},
     "output_type": "execute_result"
    }
   ],
   "source": [
    "(2+3)*4"
   ]
  },
  {
   "cell_type": "code",
   "execution_count": 56,
   "id": "ad23de4a-090d-4308-bcf1-fb43a171b2df",
   "metadata": {},
   "outputs": [
    {
     "data": {
      "text/plain": [
       "14"
      ]
     },
     "execution_count": 56,
     "metadata": {},
     "output_type": "execute_result"
    }
   ],
   "source": [
    "2+3*4"
   ]
  },
  {
   "cell_type": "markdown",
   "id": "8632d951-8b7b-45ce-a71f-1128a794a338",
   "metadata": {},
   "source": [
    "### 2.4.2"
   ]
  },
  {
   "cell_type": "code",
   "execution_count": 58,
   "id": "4e24e5c4-48e3-4e72-8e70-6e69c5ded9b2",
   "metadata": {},
   "outputs": [
    {
     "data": {
      "text/plain": [
       "0.2"
      ]
     },
     "execution_count": 58,
     "metadata": {},
     "output_type": "execute_result"
    }
   ],
   "source": [
    "0.1+0.1"
   ]
  },
  {
   "cell_type": "code",
   "execution_count": 59,
   "id": "89d4176f-51ce-41cc-9cd1-c8cbf46e0ae6",
   "metadata": {},
   "outputs": [
    {
     "data": {
      "text/plain": [
       "0.4"
      ]
     },
     "execution_count": 59,
     "metadata": {},
     "output_type": "execute_result"
    }
   ],
   "source": [
    "0.2+0.2"
   ]
  },
  {
   "cell_type": "code",
   "execution_count": 60,
   "id": "742c0dd1-8210-4f14-aaf3-7d75d4d93e2f",
   "metadata": {},
   "outputs": [
    {
     "data": {
      "text/plain": [
       "0.2"
      ]
     },
     "execution_count": 60,
     "metadata": {},
     "output_type": "execute_result"
    }
   ],
   "source": [
    "2*0.1"
   ]
  },
  {
   "cell_type": "code",
   "execution_count": 61,
   "id": "8f661dfe-f3b5-447d-be23-bd608a80b91f",
   "metadata": {},
   "outputs": [
    {
     "data": {
      "text/plain": [
       "0.4"
      ]
     },
     "execution_count": 61,
     "metadata": {},
     "output_type": "execute_result"
    }
   ],
   "source": [
    "2*0.2"
   ]
  },
  {
   "cell_type": "code",
   "execution_count": 62,
   "id": "e3d8deb9-1ae8-4f01-aa3b-27170f7b7dea",
   "metadata": {},
   "outputs": [
    {
     "data": {
      "text/plain": [
       "0.30000000000000004"
      ]
     },
     "execution_count": 62,
     "metadata": {},
     "output_type": "execute_result"
    }
   ],
   "source": [
    "0.2+0.1"
   ]
  },
  {
   "cell_type": "code",
   "execution_count": 63,
   "id": "0d465490-b5e5-45f8-a836-79d283082bb0",
   "metadata": {},
   "outputs": [
    {
     "data": {
      "text/plain": [
       "0.30000000000000004"
      ]
     },
     "execution_count": 63,
     "metadata": {},
     "output_type": "execute_result"
    }
   ],
   "source": [
    "3*0.1"
   ]
  },
  {
   "cell_type": "markdown",
   "id": "bf8a6b8c-1c30-427f-9d9b-37d083d84048",
   "metadata": {},
   "source": [
    "### 2.4.3"
   ]
  },
  {
   "cell_type": "code",
   "execution_count": 64,
   "id": "a0a4f681-e197-4a45-ac61-a7f838f8d577",
   "metadata": {},
   "outputs": [
    {
     "data": {
      "text/plain": [
       "2.0"
      ]
     },
     "execution_count": 64,
     "metadata": {},
     "output_type": "execute_result"
    }
   ],
   "source": [
    "4/2"
   ]
  },
  {
   "cell_type": "code",
   "execution_count": 65,
   "id": "73ad753e-48db-4d95-8018-e581553ea619",
   "metadata": {},
   "outputs": [
    {
     "data": {
      "text/plain": [
       "1.2"
      ]
     },
     "execution_count": 65,
     "metadata": {},
     "output_type": "execute_result"
    }
   ],
   "source": [
    "1+0.2"
   ]
  },
  {
   "cell_type": "code",
   "execution_count": 67,
   "id": "a4304cb5-690e-4061-ba19-2f94c3c54bd2",
   "metadata": {},
   "outputs": [
    {
     "data": {
      "text/plain": [
       "8.0"
      ]
     },
     "execution_count": 67,
     "metadata": {},
     "output_type": "execute_result"
    }
   ],
   "source": [
    "2**3.0"
   ]
  },
  {
   "cell_type": "code",
   "execution_count": 68,
   "id": "5c85adb3-079a-4b0d-8169-fb3372908998",
   "metadata": {},
   "outputs": [
    {
     "data": {
      "text/plain": [
       "9.0"
      ]
     },
     "execution_count": 68,
     "metadata": {},
     "output_type": "execute_result"
    }
   ],
   "source": [
    "3.0**2"
   ]
  },
  {
   "cell_type": "markdown",
   "id": "e318422f-7080-4b6b-b491-56fd60e3abec",
   "metadata": {},
   "source": [
    "### 2.4.4"
   ]
  },
  {
   "cell_type": "code",
   "execution_count": 69,
   "id": "d7166e98-3ed0-4dcf-bede-d0f4acb0f519",
   "metadata": {},
   "outputs": [
    {
     "name": "stdout",
     "output_type": "stream",
     "text": [
      "14000000000\n"
     ]
    }
   ],
   "source": [
    "universe_age = 14_000_000_000\n",
    "print(universe_age)"
   ]
  },
  {
   "cell_type": "markdown",
   "id": "f253c7ca-e921-4403-8406-ab0bd8274425",
   "metadata": {},
   "source": [
    "### 2.4.5"
   ]
  },
  {
   "cell_type": "code",
   "execution_count": null,
   "id": "4c17c80c-4274-49b4-b5ed-ad7487cdad20",
   "metadata": {},
   "outputs": [],
   "source": [
    "x,y,z=0,0,0"
   ]
  },
  {
   "cell_type": "markdown",
   "id": "bfee6b71-c7b1-4e3e-9da2-64da406b53d1",
   "metadata": {},
   "source": [
    "### 2.4.6"
   ]
  },
  {
   "cell_type": "code",
   "execution_count": 70,
   "id": "6616e8dc-74ac-4096-8df5-c5cada46daa5",
   "metadata": {},
   "outputs": [],
   "source": [
    "MAX_CONNECTIONS = 5000"
   ]
  },
  {
   "cell_type": "markdown",
   "id": "04433a49-e3ee-40ae-bf11-4d66db587955",
   "metadata": {},
   "source": [
    "## 2.5注释"
   ]
  },
  {
   "cell_type": "code",
   "execution_count": 71,
   "id": "98bfab09-abaa-4c9c-a0b0-64b980af7d90",
   "metadata": {},
   "outputs": [
    {
     "name": "stdout",
     "output_type": "stream",
     "text": [
      "Hello Python people!\n"
     ]
    }
   ],
   "source": [
    "\n",
    "print(\"Hello Python people!\")"
   ]
  },
  {
   "cell_type": "markdown",
   "id": "60a72458-b499-4fc2-8632-9c68c73055f2",
   "metadata": {},
   "source": [
    "## 2.6 python之禅"
   ]
  },
  {
   "cell_type": "code",
   "execution_count": 72,
   "id": "cface3ae-b8d1-4d06-bc1e-62935ab1013d",
   "metadata": {},
   "outputs": [
    {
     "ename": "SyntaxError",
     "evalue": "unterminated string literal (detected at line 10) (2478409117.py, line 10)",
     "output_type": "error",
     "traceback": [
      "\u001b[1;36m  Cell \u001b[1;32mIn[72], line 10\u001b[1;36m\u001b[0m\n\u001b[1;33m    Special cases aren't special enough to break the rules.\u001b[0m\n\u001b[1;37m                      ^\u001b[0m\n\u001b[1;31mSyntaxError\u001b[0m\u001b[1;31m:\u001b[0m unterminated string literal (detected at line 10)\n"
     ]
    }
   ],
   "source": [
    "The Zen of Python, by Tim Peters\n",
    "\n",
    "Beautiful is better than ugly.\n",
    "Explicit is better than implicit.\n",
    "Simple is better than complex.\n",
    "Complex is better than complicated.\n",
    "Flat is better than nested.\n",
    "Sparse is better than dense.\n",
    "Readability counts.\n",
    "Special cases aren't special enough to break the rules.\n",
    "Although practicality beats purity.\n",
    "Errors should never pass silently.\n",
    "Unless explicitly silenced.\n",
    "In the face of ambiguity, refuse the temptation to guess.\n",
    "There should be one-- and preferably only one --obvious way to do it.\n",
    "Although that way may not be obvious at first unless you're Dutch.\n",
    "Now is better than never.\n",
    "Although never is often better than *right* now.\n",
    "If the implementation is hard to explain, it's a bad idea.\n",
    "If the implementation is easy to explain, it may be a good idea.\n",
    "Namespaces are one honking great idea -- let's do more of those!"
   ]
  },
  {
   "cell_type": "markdown",
   "id": "3533de66-30df-4c9a-90d5-a4fba5632e0f",
   "metadata": {},
   "source": [
    "#第二章练习题"
   ]
  },
  {
   "cell_type": "markdown",
   "id": "162c023a-dbf8-49d5-99b5-50132e94fdef",
   "metadata": {},
   "source": [
    "#2.1简单消息) "
   ]
  },
  {
   "cell_type": "code",
   "execution_count": 2,
   "id": "16604286-32e6-426e-8c34-d71e0df50f68",
   "metadata": {},
   "outputs": [
    {
     "name": "stdout",
     "output_type": "stream",
     "text": [
      "I love learning to use Python.\n"
     ]
    }
   ],
   "source": [
    "msg = \"I love learning to use Python.\" \n",
    "print(msg) "
   ]
  },
  {
   "cell_type": "markdown",
   "id": "16406f6a-b29b-4719-b1dc-7ae6af406ca3",
   "metadata": {},
   "source": [
    "#2.2多条简单消息"
   ]
  },
  {
   "cell_type": "code",
   "execution_count": 3,
   "id": "e969bf70-e940-4dff-bc0c-384a9377a8ca",
   "metadata": {},
   "outputs": [
    {
     "name": "stdout",
     "output_type": "stream",
     "text": [
      "I love learning to use Python.\n",
      "It's really satisfying!\n"
     ]
    }
   ],
   "source": [
    "msg = \"I love learning to use Python.\" \n",
    "print(msg) \n",
    " \n",
    "msg = \"It's really satisfying!\" \n",
    "print(msg)"
   ]
  },
  {
   "cell_type": "markdown",
   "id": "d6217a23-bcb3-46f5-a92b-fa4ab55d4542",
   "metadata": {},
   "source": [
    "#2.3 个性化消息 "
   ]
  },
  {
   "cell_type": "code",
   "execution_count": 4,
   "id": "42213b2f-b514-4d06-9a59-7f6333306622",
   "metadata": {},
   "outputs": [
    {
     "name": "stdout",
     "output_type": "stream",
     "text": [
      "Hello Eric, would you like to learn some Python today?\n"
     ]
    }
   ],
   "source": [
    "name = \"eric\" \n",
    "msg = f\"Hello {name.title()}, would you like to learn some Python today?\" \n",
    " \n",
    "print(msg) "
   ]
  },
  {
   "cell_type": "markdown",
   "id": "bfd4c6f6-86da-4d46-b19c-68f7f50cb9f6",
   "metadata": {},
   "source": [
    "#2.4调整名字的大小写 "
   ]
  },
  {
   "cell_type": "code",
   "execution_count": 5,
   "id": "cfdafd68-10ee-43a3-a490-e5b8d8b27ff2",
   "metadata": {},
   "outputs": [
    {
     "name": "stdout",
     "output_type": "stream",
     "text": [
      "eric\n",
      "ERIC\n",
      "Eric\n"
     ]
    }
   ],
   "source": [
    "name = \"eric\" \n",
    " \n",
    "print(name.lower()) \n",
    "print(name.upper()) \n",
    "print(name.title()) "
   ]
  },
  {
   "cell_type": "markdown",
   "id": "b68fa6e7-70e7-43c1-af5b-b8d323a56c92",
   "metadata": {},
   "source": [
    "#2.5 名言 1 "
   ]
  },
  {
   "cell_type": "code",
   "execution_count": 6,
   "id": "9e7df1ff-fcdf-41a4-85cc-4e0cd9fe4299",
   "metadata": {},
   "outputs": [
    {
     "name": "stdout",
     "output_type": "stream",
     "text": [
      "Albert Einstein once said, \"A person who never made a mistake\n",
      "never tried anything new.\"\n"
     ]
    }
   ],
   "source": [
    "print('Albert Einstein once said, \"A person who never made a mistake') \n",
    "print('never tried anything new.\"') "
   ]
  },
  {
   "cell_type": "markdown",
   "id": "35e60aee-36ea-4fe3-b31d-b819d2c6332c",
   "metadata": {},
   "source": [
    "#2.6 名言 2 "
   ]
  },
  {
   "cell_type": "code",
   "execution_count": 14,
   "id": "d38b4497-f0df-4d52-9b54-118dec957895",
   "metadata": {},
   "outputs": [
    {
     "name": "stdout",
     "output_type": "stream",
     "text": [
      "Albert Einstein once said, \"A person who never made a mistake never tried anything new.\"\n"
     ]
    }
   ],
   "source": [
    "famous_person = \"Albert Einstein\" \n",
    "message = f'{famous_person} once said, \"A person who never made a mistake' \n",
    "message += ' never tried anything new.\"' \n",
    "print(message) "
   ]
  },
  {
   "cell_type": "markdown",
   "id": "e4397025-d869-40ce-8ae1-6df253b4acf5",
   "metadata": {},
   "source": [
    "#2.7 删除人名中的空白 "
   ]
  },
  {
   "cell_type": "code",
   "execution_count": 15,
   "id": "8f855f9a-62a5-45a0-9bd9-61a3b4ced352",
   "metadata": {},
   "outputs": [
    {
     "name": "stdout",
     "output_type": "stream",
     "text": [
      "Unmodified:\n",
      "\tEric Matthes\n",
      "\n",
      "\n",
      "Using lstrip():\n",
      "Eric Matthes\n",
      "\n",
      "\n",
      "Using rstrip():\n",
      "\tEric Matthes\n",
      "\n",
      "Using strip():\n",
      "Eric Matthes\n"
     ]
    }
   ],
   "source": [
    "name = \"\\tEric Matthes\\n\"\n",
    "print(\"Unmodified:\") \n",
    "print(name) \n",
    " \n",
    "print(\"\\nUsing lstrip():\") \n",
    "print(name.lstrip()) \n",
    " \n",
    "print(\"\\nUsing rstrip():\") \n",
    "print(name.rstrip()) \n",
    " \n",
    "print(\"\\nUsing strip():\") \n",
    "print(name.strip()) "
   ]
  },
  {
   "cell_type": "markdown",
   "id": "78c0e63f-822a-4dd3-bc72-35e9512edc10",
   "metadata": {},
   "source": [
    "#2.8 文件扩展名"
   ]
  },
  {
   "cell_type": "code",
   "execution_count": 16,
   "id": "c8edc268-50a3-4342-9c45-f9b5ddaab03b",
   "metadata": {},
   "outputs": [
    {
     "name": "stdout",
     "output_type": "stream",
     "text": [
      "python_notes\n"
     ]
    }
   ],
   "source": [
    "filename = 'python_notes.txt' \n",
    "simple_filename = filename.removesuffix('.txt') \n",
    " \n",
    "print(simple_filename) "
   ]
  },
  {
   "cell_type": "code",
   "execution_count": null,
   "id": "1e1e258f-1d2c-4633-9bd5-6a77f4fe6e89",
   "metadata": {},
   "outputs": [],
   "source": [
    "#2.10 最喜欢的数 "
   ]
  },
  {
   "cell_type": "code",
   "execution_count": 17,
   "id": "1baaf120-63d6-42db-863e-022069cfdd93",
   "metadata": {},
   "outputs": [
    {
     "name": "stdout",
     "output_type": "stream",
     "text": [
      "My favorite number is 42.\n"
     ]
    }
   ],
   "source": [
    "fav_num = 42 \n",
    "msg = f\"My favorite number is {fav_num}.\" \n",
    " \n",
    "print(msg) "
   ]
  },
  {
   "cell_type": "code",
   "execution_count": null,
   "id": "176638a8-b7d3-407a-86d5-d510d26c36a8",
   "metadata": {},
   "outputs": [],
   "source": []
  }
 ],
 "metadata": {
  "kernelspec": {
   "display_name": "Python 3 (ipykernel)",
   "language": "python",
   "name": "python3"
  },
  "language_info": {
   "codemirror_mode": {
    "name": "ipython",
    "version": 3
   },
   "file_extension": ".py",
   "mimetype": "text/x-python",
   "name": "python",
   "nbconvert_exporter": "python",
   "pygments_lexer": "ipython3",
   "version": "3.11.7"
  }
 },
 "nbformat": 4,
 "nbformat_minor": 5
}
