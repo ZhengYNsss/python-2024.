{
 "cells": [
  {
   "cell_type": "markdown",
   "id": "15e1070f-c1c7-415f-ac9e-a2b6ed17c376",
   "metadata": {},
   "source": [
    "#第 10 章 文件和异常"
   ]
  },
  {
   "cell_type": "markdown",
   "id": "72c4eff4-a186-423a-bca4-1ce497a586a8",
   "metadata": {},
   "source": [
    "##10.1 读取文件"
   ]
  },
  {
   "cell_type": "markdown",
   "id": "670607bc-e1ca-4cd3-81dc-f7699ac83dbf",
   "metadata": {},
   "source": [
    "###10.1.1 读取文件的全部内容"
   ]
  },
  {
   "cell_type": "code",
   "execution_count": 4,
   "id": "d1015985-c82f-4d66-9e6b-235686b87a3e",
   "metadata": {},
   "outputs": [
    {
     "name": "stdout",
     "output_type": "stream",
     "text": [
      "3.1415926535 \n",
      "  8979323846\n",
      "  2643383279\n",
      "\n"
     ]
    }
   ],
   "source": [
    "from pathlib import Path \n",
    "path = Path('pi_digits.txt') \n",
    "contents = path.read_text() \n",
    "print(contents)"
   ]
  },
  {
   "cell_type": "code",
   "execution_count": 5,
   "id": "98ff1d2f-5a15-4768-91ba-365fc1cb30eb",
   "metadata": {},
   "outputs": [
    {
     "name": "stdout",
     "output_type": "stream",
     "text": [
      "3.1415926535 \n",
      "  8979323846\n",
      "  2643383279\n"
     ]
    }
   ],
   "source": [
    "from pathlib import Path \n",
    " \n",
    "path = Path('pi_digits.txt') \n",
    "contents = path.read_text() \n",
    "contents = contents.rstrip() \n",
    "print(contents) "
   ]
  },
  {
   "cell_type": "markdown",
   "id": "b5c7367f-3dc3-4c9d-a594-706141bec5ef",
   "metadata": {},
   "source": [
    "#10.1.2 相对文件路径和绝对文件路径"
   ]
  },
  {
   "cell_type": "code",
   "execution_count": 6,
   "id": "a01e7d00-a604-4c77-896c-ca3d1c9f73df",
   "metadata": {},
   "outputs": [],
   "source": [
    "path = Path('text_files/filename.txt')"
   ]
  },
  {
   "cell_type": "markdown",
   "id": "36553d85-fa60-4c1d-87c2-9fe1e22f1bac",
   "metadata": {},
   "source": [
    "##由于文件夹 text_files 位于文件夹 python_work\n",
    "中，因此需要创建一个以 text_files 打头并以文件名结尾的路径"
   ]
  },
  {
   "cell_type": "code",
   "execution_count": 7,
   "id": "87c7e1e9-b61a-4935-926d-c10d632cd5d5",
   "metadata": {},
   "outputs": [],
   "source": [
    " path = Path('/home/eric/data_files/text_files/filename.txt') "
   ]
  },
  {
   "cell_type": "markdown",
   "id": "0ce05d80-c6a6-4259-bfab-cf5719a5d1dc",
   "metadata": {},
   "source": [
    "##可以将文件在计算机中的准确位置告诉 Python，这样就不用管当前运行的程序\n",
    "存储在什么地方了。这称为绝对文件路径。"
   ]
  },
  {
   "cell_type": "markdown",
   "id": "9c8b4ae2-7ec0-4e3e-9d70-c05e4826aa9d",
   "metadata": {},
   "source": [
    "#10.1.3 访问文件中的各行"
   ]
  },
  {
   "cell_type": "code",
   "execution_count": 8,
   "id": "db1d3ea0-0c3d-40ce-8193-ad2309cff2d0",
   "metadata": {},
   "outputs": [
    {
     "name": "stdout",
     "output_type": "stream",
     "text": [
      "3.1415926535 \n",
      "  8979323846\n",
      "  2643383279\n"
     ]
    }
   ],
   "source": [
    "from pathlib import Path \n",
    " \n",
    "path = Path('pi_digits.txt') \n",
    "contents = path.read_text() \n",
    " \n",
    "lines = contents.splitlines() \n",
    "for line in lines: \n",
    " print(line)"
   ]
  },
  {
   "cell_type": "markdown",
   "id": "e72517ec-c3ad-49a6-8b36-9fbfce6a126d",
   "metadata": {},
   "source": [
    "#10.1.4 使用文件的内容"
   ]
  },
  {
   "cell_type": "code",
   "execution_count": 10,
   "id": "6395ea1c-6bc2-4ae8-8984-d533c7dffd3d",
   "metadata": {},
   "outputs": [
    {
     "name": "stdout",
     "output_type": "stream",
     "text": [
      "3.1415926535   8979323846  2643383279\n",
      "37\n"
     ]
    }
   ],
   "source": [
    "from pathlib import Path \n",
    " \n",
    "path = Path('pi_digits.txt') \n",
    "contents = path.read_text() \n",
    "\n",
    "lines = contents.splitlines() \n",
    "pi_string = '' \n",
    "for line in lines: \n",
    "   pi_string += line \n",
    "\n",
    "print(pi_string) \n",
    "print(len(pi_string))"
   ]
  },
  {
   "cell_type": "markdown",
   "id": "765f2b89-995b-422c-a492-8d3147e0ff1e",
   "metadata": {},
   "source": [
    "#变量 pi_string 存储的字符串包含原来位于每行左端的空格。要删除这些空格，可\n",
    "对每行调用 lstrip()"
   ]
  },
  {
   "cell_type": "code",
   "execution_count": 12,
   "id": "b04801c0-fe9d-4fd0-b24a-adf00ae9aac3",
   "metadata": {},
   "outputs": [
    {
     "name": "stdout",
     "output_type": "stream",
     "text": [
      "3.1415926535 89793238462643383279\n",
      "33\n"
     ]
    }
   ],
   "source": [
    "from pathlib import Path \n",
    " \n",
    "path = Path('pi_digits.txt') \n",
    "contents = path.read_text() \n",
    "\n",
    "lines = contents.splitlines() \n",
    "pi_string = '' \n",
    "for line in lines: \n",
    " pi_string += line.lstrip() \n",
    " \n",
    "print(pi_string) \n",
    "print(len(pi_string)) \n"
   ]
  },
  {
   "cell_type": "markdown",
   "id": "8dd31c90-2035-48d7-aab1-a753ca0527d8",
   "metadata": {},
   "source": [
    "#10.1.5 包含 100 万位的大型文件"
   ]
  },
  {
   "cell_type": "code",
   "execution_count": null,
   "id": "5b05bb59-84f0-4b94-82b2-8eededafa1c4",
   "metadata": {},
   "outputs": [],
   "source": [
    "from pathlib import Path \n",
    " \n",
    "path = Path('pi_million_digits.txt') \n",
    "contents = path.read_text() \n",
    " \n",
    "lines = contents.splitlines() \n",
    "pi_string = '' \n",
    "for line in lines: \n",
    " pi_string += line.lstrip() \n",
    " \n",
    "print(f\"{pi_string[:52]}...\") \n",
    "print(len(pi_string)) "
   ]
  },
  {
   "cell_type": "markdown",
   "id": "020cb8e2-90db-4640-9482-409b1916211a",
   "metadata": {},
   "source": [
    "#10.1.6 圆周率值中包含你的生日吗"
   ]
  },
  {
   "cell_type": "code",
   "execution_count": 17,
   "id": "b637b78f-33bf-4381-b8f2-7507b8253ddf",
   "metadata": {},
   "outputs": [
    {
     "name": "stdin",
     "output_type": "stream",
     "text": [
      "2.22:  322\n"
     ]
    },
    {
     "name": "stdout",
     "output_type": "stream",
     "text": [
      "Your birthday does not appear in the first million digits of pi.\n"
     ]
    }
   ],
   "source": [
    "from pathlib import Path \n",
    " \n",
    "path = Path('pi_digits.txt') \n",
    "contents = path.read_text()\n",
    "\n",
    "lines = contents.splitlines() \n",
    "pi_string = ''\n",
    "for line in lines: \n",
    " pi_string += line.strip() \n",
    " \n",
    "birthday = input(\"2.22: \")\n",
    "if birthday in pi_string: \n",
    " print(\"Your birthday appears in the first million digits of pi!\")\n",
    "else: \n",
    " print(\"Your birthday does not appear in the first million digits of pi.\")"
   ]
  },
  {
   "cell_type": "markdown",
   "id": "3b2ca85e-e293-4789-a55d-3e583e8fb632",
   "metadata": {},
   "source": [
    "#10.2 写入文件\n"
   ]
  },
  {
   "cell_type": "markdown",
   "id": "dc0c650e-9c79-46b8-aee7-4f61ba46641e",
   "metadata": {},
   "source": [
    "#10.2.1 写入一行"
   ]
  },
  {
   "cell_type": "code",
   "execution_count": null,
   "id": "ccc4cb89-179c-46d1-8fb0-9424e8d813c5",
   "metadata": {},
   "outputs": [],
   "source": [
    "from pathlib import Path \n",
    " \n",
    "path = Path('programming.txt') \n",
    "path.write_text(\"I love programming.\")"
   ]
  },
  {
   "cell_type": "markdown",
   "id": "55613c4e-4cd7-4b75-9634-6e942be2f4a2",
   "metadata": {},
   "source": [
    "#10.2.2 写入多行"
   ]
  },
  {
   "cell_type": "code",
   "execution_count": 20,
   "id": "eae63e69-51c8-42db-970f-3a9712dcddd0",
   "metadata": {},
   "outputs": [
    {
     "data": {
      "text/plain": [
       "78"
      ]
     },
     "execution_count": 20,
     "metadata": {},
     "output_type": "execute_result"
    }
   ],
   "source": [
    "from pathlib import Path \n",
    " \n",
    "contents = \"I love programming.\\n\"\n",
    "contents += \"I love creating new games.\\n\"\n",
    "contents += \"I also love working with data.\\n\" \n",
    " \n",
    "path = Path('programming.txt') \n",
    "path.write_text(contents)"
   ]
  },
  {
   "cell_type": "markdown",
   "id": "3519525e-c16f-4f19-9483-112e550fa405",
   "metadata": {},
   "source": [
    "#10.3 异常"
   ]
  },
  {
   "cell_type": "markdown",
   "id": "f27eb951-7834-4876-a298-07761e43f579",
   "metadata": {},
   "source": [
    "#10.3.1 处理 ZeroDivisionError 异常"
   ]
  },
  {
   "cell_type": "code",
   "execution_count": 21,
   "id": "6dd6045b-aaa0-45bb-bf4e-e4bf2031eb4f",
   "metadata": {},
   "outputs": [
    {
     "ename": "ZeroDivisionError",
     "evalue": "division by zero",
     "output_type": "error",
     "traceback": [
      "\u001b[1;31m---------------------------------------------------------------------------\u001b[0m",
      "\u001b[1;31mZeroDivisionError\u001b[0m                         Traceback (most recent call last)",
      "Cell \u001b[1;32mIn[21], line 1\u001b[0m\n\u001b[1;32m----> 1\u001b[0m \u001b[38;5;28mprint\u001b[39m(\u001b[38;5;241m5\u001b[39m\u001b[38;5;241m/\u001b[39m\u001b[38;5;241m0\u001b[39m)\n",
      "\u001b[1;31mZeroDivisionError\u001b[0m: division by zero"
     ]
    }
   ],
   "source": [
    "print(5/0)"
   ]
  },
  {
   "cell_type": "markdown",
   "id": "e5de080f-ac7b-4c88-8c0c-06874c6ca3b8",
   "metadata": {},
   "source": [
    "#10.3.2 使用 try-except 代码块"
   ]
  },
  {
   "cell_type": "code",
   "execution_count": null,
   "id": "a10eec0e-47d9-4006-8efa-2f7fee8ac93a",
   "metadata": {},
   "outputs": [],
   "source": [
    "try: \n",
    " print(5/0) \n",
    "except ZeroDivisionError: \n",
    " print(\"You can't divide by zero!\")"
   ]
  },
  {
   "cell_type": "markdown",
   "id": "a8557d72-ce8e-4cc8-b3df-d0cfcab0ba04",
   "metadata": {},
   "source": [
    "#10.3.3 使用异常避免崩溃"
   ]
  },
  {
   "cell_type": "code",
   "execution_count": null,
   "id": "7bd52601-a1a4-4a6a-a0ac-f65baaefd841",
   "metadata": {},
   "outputs": [],
   "source": [
    "print(\"Give me two numbers, and I'll divide them.\") \n",
    " print(\"Enter 'q' to quit.\") \n",
    " \n",
    " while True: \n",
    "   first_number = input(\"\\nFirst number: \") \n",
    "   if first_number == 'q': \n",
    "      break \n",
    "   second_number = input(\"Second number: \") \n",
    "   if second_number == 'q': \n",
    "      break \n",
    "   answer = int(first_number) / int(second_number) \n",
    "   print(answer)"
   ]
  },
  {
   "cell_type": "markdown",
   "id": "5ab91d2b-20a4-474d-b340-40f503a45870",
   "metadata": {},
   "source": [
    "#10.3.4 else 代码块"
   ]
  },
  {
   "cell_type": "code",
   "execution_count": null,
   "id": "8c9d5249-595f-4189-a8ce-23eccef2ad60",
   "metadata": {},
   "outputs": [],
   "source": [
    "print(\"Give me two numbers, and I'll divide them.\") \n",
    "print(\"Enter 'q' to quit.\") \n",
    " \n",
    "while True: \n",
    "   first_number = input(\"\\nFirst number: \") \n",
    "   if first_number == 'q': \n",
    "      break \n",
    "   second_number = input(\"Second number: \")\n",
    "   if second_number == 'q': \n",
    "     break \n",
    "   try: \n",
    "     answer = int(first_number) / int(second_number) \n",
    "   except ZeroDivisionError: \n",
    "      print(\"You can't divide by 0!\") \n",
    "   else: \n",
    "      print(answer)"
   ]
  },
  {
   "cell_type": "markdown",
   "id": "e2eb0547-e8d0-463e-bdb6-001106c23e1b",
   "metadata": {},
   "source": [
    "#10.3.5 处理 FileNotFoundError 异常"
   ]
  },
  {
   "cell_type": "code",
   "execution_count": null,
   "id": "bc481cc1-8835-4581-8a6f-891f6bee675f",
   "metadata": {},
   "outputs": [],
   "source": [
    "from pathlib import Path \n",
    " \n",
    "path = Path('alice.txt') \n",
    "contents = path.read_text(encoding='utf-8')"
   ]
  },
  {
   "cell_type": "code",
   "execution_count": null,
   "id": "40aa75a1-dea4-4e7d-8123-ddc32879146d",
   "metadata": {},
   "outputs": [],
   "source": [
    " from pathlib import Path \n",
    " \n",
    " path = Path('alice.txt') \n",
    " try: \n",
    " contents = path.read_text(encoding='utf-8') \n",
    " except FileNotFoundError: \n",
    " print(f\"Sorry, the file {path} does not exist.\")"
   ]
  },
  {
   "cell_type": "markdown",
   "id": "0865e376-7bba-40f8-b5f9-fc97be9b92fe",
   "metadata": {},
   "source": [
    "#10.3.6"
   ]
  },
  {
   "cell_type": "code",
   "execution_count": 2,
   "id": "eaceff90-63d3-4900-9c11-0280267babcb",
   "metadata": {},
   "outputs": [
    {
     "name": "stdout",
     "output_type": "stream",
     "text": [
      "Sorry, the file alice.txt does not exist.\n"
     ]
    }
   ],
   "source": [
    "from pathlib import Path \n",
    " \n",
    "path = Path('alice.txt') \n",
    "try: \n",
    " contents = path.read_text(encoding='utf-8') \n",
    "except FileNotFoundError:  \n",
    "    print(f\"Sorry, the file {path} does not exist.\") \n",
    "else: \n",
    " #计算文件大致包含多少个单词 \n",
    " words = contents.split() \n",
    " num_words = len(words) \n",
    " print(f\"The file {path} has about {num_words} words.\")"
   ]
  },
  {
   "cell_type": "markdown",
   "id": "6deafac7-d5e6-44fa-b217-3f8899466166",
   "metadata": {},
   "source": [
    "#10.3.7"
   ]
  },
  {
   "cell_type": "code",
   "execution_count": 4,
   "id": "fabd9282-2f69-42e9-aa17-b2179301ba9e",
   "metadata": {},
   "outputs": [
    {
     "name": "stdout",
     "output_type": "stream",
     "text": [
      "Sorry, the file alice.txt does not exist.\n"
     ]
    }
   ],
   "source": [
    "from pathlib import Path \n",
    " \n",
    "def count_words(path): \n",
    " \"\"\"计算一个文件大致包含多少个单词\"\"\" \n",
    " try: \n",
    "  contents = path.read_text(encoding='utf-8') \n",
    " except FileNotFoundError: \n",
    "  print(f\"Sorry, the file {path} does not exist.\") \n",
    " else: \n",
    "  # 计算文件大致包含多少个单词 \n",
    "  words = contents.split() \n",
    "  num_words = len(words) \n",
    "  print(f\"The file {path} has about {num_words} words.\") \n",
    " \n",
    "path = Path('alice.txt') \n",
    "count_words(path)"
   ]
  },
  {
   "cell_type": "code",
   "execution_count": null,
   "id": "1aa76616-177a-4c30-8da3-27c24f992873",
   "metadata": {},
   "outputs": [],
   "source": [
    "from pathlib import Path \n",
    " \n",
    "def count_words(filename): \n",
    " try: \n",
    "  contents = path.read_text(encoding='utf-8') \n",
    " except FileNotFoundError: \n",
    "  print(f\"Sorry, the file {path} does not exist.\") \n",
    " else: \n",
    "  # 计算文件大致包含多少个单词 \n",
    "  words = contents.split() \n",
    "  num_words = len(words) \n",
    "  print(f\"The file {path} has about {num_words} words.\") \n",
    " \n",
    " \n",
    " filenames = ['alice.txt', 'siddhartha.txt', 'moby_dick.txt', \n",
    " 'little_women.txt'] \n",
    " for filename in filenames: \n",
    " path = Path(filename) \n",
    " count_words(path) \n"
   ]
  },
  {
   "cell_type": "markdown",
   "id": "3fad5252-77c8-425c-b83d-91b5094f94f3",
   "metadata": {},
   "source": [
    "#10.3.8"
   ]
  },
  {
   "cell_type": "code",
   "execution_count": null,
   "id": "ba5536a2-a760-4325-a1aa-5339bb78f5ff",
   "metadata": {},
   "outputs": [],
   "source": [
    "def count_words(path): \n",
    " \"\"\"计算一个文件大致包含多少个单词\"\"\" \n",
    " try: \n",
    "  contents = path.read_text(encoding='utf-8') \n",
    " except FileNotFoundError: \n",
    "  print(f\"Sorry, the file {path} does not exist.\")  \n",
    " except FileNotFoundError: \n",
    " pass  else: \n",
    "  # 计算文件大致包含多少个单词 \n",
    "  words = contents.split() \n",
    "  num_words = len(words) \n",
    "  print(f\"The file {path} has about {num_words} words.\") \n",
    " \n",
    "path = Path('alice.txt') \n",
    "count_words(path)"
   ]
  },
  {
   "cell_type": "markdown",
   "id": "554d8dc1-a015-4131-997b-21a724c2f42e",
   "metadata": {},
   "source": [
    "## 练习"
   ]
  },
  {
   "cell_type": "code",
   "execution_count": 5,
   "id": "2f4c34e0-ff84-40ab-86b4-af7b6e89d35d",
   "metadata": {},
   "outputs": [
    {
     "name": "stdout",
     "output_type": "stream",
     "text": [
      "--- Reading in the entire file:\n",
      "\n",
      "In Python you can store as much information as you want. \n",
      "In Python you can connect pieces of information. \n",
      "In Python you can model real-world situations. \n",
      " \n",
      "\n",
      "\n",
      "--- Looping over the lines:\n",
      "\n",
      "In Python you can store as much information as you want. \n",
      "In Python you can connect pieces of information. \n",
      "In Python you can model real-world situations. \n",
      " \n"
     ]
    }
   ],
   "source": [
    "#10.1\n",
    "from pathlib import Path \n",
    " \n",
    "print(\"--- Reading in the entire file:\") \n",
    "path = Path('learning_python.txt') \n",
    "contents = path.read_text() \n",
    "print(contents) \n",
    " \n",
    "print(\"\\n--- Looping over the lines:\") \n",
    "lines = contents.splitlines() \n",
    "for line in lines: \n",
    " print(line) "
   ]
  },
  {
   "cell_type": "code",
   "execution_count": 6,
   "id": "3f32f530-6ca0-4549-8e27-16d6aaae80c0",
   "metadata": {},
   "outputs": [
    {
     "name": "stdout",
     "output_type": "stream",
     "text": [
      "\n",
      "In C you can store as much information as you want. \n",
      "In C you can connect pieces of information. \n",
      "In C you can model real-world situations. \n",
      " \n"
     ]
    }
   ],
   "source": [
    "#10.2\n",
    "from pathlib import Path \n",
    " \n",
    "path = Path('learning_python.txt') \n",
    "contents = path.read_text() \n",
    " \n",
    "lines = contents.splitlines() \n",
    "for line in lines: \n",
    " line = line.replace('Python', 'C') \n",
    " print(line) "
   ]
  },
  {
   "cell_type": "code",
   "execution_count": 7,
   "id": "5746e7ab-213b-4b20-89c7-ee0417b55134",
   "metadata": {},
   "outputs": [
    {
     "name": "stdout",
     "output_type": "stream",
     "text": [
      "3.1415926535 \n",
      "  8979323846\n",
      "  2643383279\n"
     ]
    }
   ],
   "source": [
    "#10.3\n",
    "from pathlib import Path \n",
    "path = Path('pi_digits.txt') \n",
    "contents = path.read_text() \n",
    "  \n",
    "# 直接遍历 splitlines() 返回的列表  \n",
    "for line in contents.splitlines():  \n",
    "    print(line)\n",
    "#直接使用 splitlines() 方法返回的列表，而不需要将其赋值给一个临时变量。\n",
    "#上面是一个修改后的版本，它直接遍历 splitlines() 返回的列表，从而省去了临时变量 lines"
   ]
  },
  {
   "cell_type": "code",
   "execution_count": 8,
   "id": "2347588e-b7f8-476a-ae5e-e003cfffbf25",
   "metadata": {},
   "outputs": [
    {
     "name": "stdout",
     "output_type": "stream",
     "text": [
      "  2643383279\n"
     ]
    }
   ],
   "source": [
    "from pathlib import Path \n",
    " \n",
    "path = Path('pi_digits.txt') \n",
    "contents = path.read_text() \n",
    "contents = contents.rstrip() \n",
    "from pathlib import Path \n",
    "print(line)"
   ]
  },
  {
   "cell_type": "code",
   "execution_count": 9,
   "id": "c75c2786-4551-4d83-828b-43e36b4121a7",
   "metadata": {},
   "outputs": [
    {
     "name": "stdout",
     "output_type": "stream",
     "text": [
      "3.1415926535 \n",
      "  8979323846\n",
      "  2643383279\n"
     ]
    }
   ],
   "source": [
    "from pathlib import Path \n",
    " \n",
    "path = Path('pi_digits.txt') \n",
    "contents = path.read_text() \n",
    " \n",
    "lines = contents.splitlines() \n",
    "for line in contents.splitlines():  \n",
    "    print(line)"
   ]
  },
  {
   "cell_type": "code",
   "execution_count": 10,
   "id": "e96962a6-e893-4a81-8751-da8b53f431d6",
   "metadata": {},
   "outputs": [
    {
     "name": "stdout",
     "output_type": "stream",
     "text": [
      "3.1415926535   8979323846  2643383279\n",
      "37\n"
     ]
    }
   ],
   "source": [
    "from pathlib import Path \n",
    " \n",
    "path = Path('pi_digits.txt') \n",
    "contents = path.read_text() \n",
    "\n",
    "lines = contents.splitlines() \n",
    "pi_string = '' \n",
    "for line in contents.splitlines():\n",
    "   pi_string += line \n",
    "\n",
    "print(pi_string) \n",
    "print(len(pi_string))"
   ]
  },
  {
   "cell_type": "code",
   "execution_count": 11,
   "id": "beecb3e7-514d-4230-ba02-83bac74e21b1",
   "metadata": {},
   "outputs": [
    {
     "name": "stdout",
     "output_type": "stream",
     "text": [
      "3.1415926535 89793238462643383279\n",
      "33\n"
     ]
    }
   ],
   "source": [
    "from pathlib import Path \n",
    " \n",
    "path = Path('pi_digits.txt') \n",
    "contents = path.read_text() \n",
    "\n",
    "lines = contents.splitlines() \n",
    "pi_string = '' \n",
    "for line in contents.splitlines():\n",
    " pi_string += line.lstrip() \n",
    " \n",
    "print(pi_string) \n",
    "print(len(pi_string)) "
   ]
  },
  {
   "cell_type": "code",
   "execution_count": null,
   "id": "669840e0-3896-4f68-85f7-d8a8aa4cd91e",
   "metadata": {},
   "outputs": [],
   "source": [
    "from pathlib import Path \n",
    " \n",
    "path = Path('pi_digits.txt') \n",
    "contents = path.read_text() \n",
    " \n",
    "lines = contents.splitlines() \n",
    "pi_string = '' \n",
    "for line in contents.splitlines():\n",
    " pi_string += line.lstrip() \n",
    " \n",
    "print(f\"{pi_string[:52]}...\") \n",
    "print(len(pi_string)) "
   ]
  },
  {
   "cell_type": "code",
   "execution_count": 12,
   "id": "771609a5-043e-497f-9264-215494957085",
   "metadata": {},
   "outputs": [
    {
     "name": "stdin",
     "output_type": "stream",
     "text": [
      "2.22:  5\n"
     ]
    },
    {
     "name": "stdout",
     "output_type": "stream",
     "text": [
      "Your birthday appears in the first million digits of pi!\n"
     ]
    }
   ],
   "source": [
    "from pathlib import Path \n",
    " \n",
    "path = Path('pi_digits.txt') \n",
    "contents = path.read_text()\n",
    "\n",
    "lines = contents.splitlines() \n",
    "pi_string = ''\n",
    "for line in contents.splitlines():\n",
    " pi_string += line.strip() \n",
    " \n",
    "birthday = input(\"2.22: \")\n",
    "if birthday in pi_string: \n",
    " print(\"Your birthday appears in the first million digits of pi!\")\n",
    "else: \n",
    " print(\"Your birthday does not appear in the first million digits of pi.\")"
   ]
  },
  {
   "cell_type": "code",
   "execution_count": 13,
   "id": "683b0c10-2002-4eea-94b8-5809f4baeb90",
   "metadata": {},
   "outputs": [
    {
     "name": "stdin",
     "output_type": "stream",
     "text": [
      "请输入您的名字:  a\n"
     ]
    },
    {
     "name": "stdout",
     "output_type": "stream",
     "text": [
      "名字已被写入到文件：guest.txt\n"
     ]
    }
   ],
   "source": [
    "#10.4\n",
    "from pathlib import Path  \n",
    "  \n",
    "# 提示用户输入名字  \n",
    "name = input(\"请输入您的名字: \")  \n",
    "  \n",
    "# 创建要写入的内容  \n",
    "contents = f\"客人的名字是：{name}\\n\"  \n",
    "  \n",
    "# 定义文件路径  \n",
    "path = Path('guest.txt')  \n",
    "  \n",
    "# 将内容写入文件  \n",
    "path.write_text(contents)  \n",
    "  \n",
    "print(f\"名字已被写入到文件：{path}\")"
   ]
  },
  {
   "cell_type": "code",
   "execution_count": 14,
   "id": "57e39c23-7285-4236-addc-77aa1f0dd00d",
   "metadata": {},
   "outputs": [
    {
     "name": "stdin",
     "output_type": "stream",
     "text": [
      "请输入您的名字（输入'q'退出）:  q\n"
     ]
    },
    {
     "name": "stdout",
     "output_type": "stream",
     "text": [
      "所有名字已被写入到文件：guest_book.txt\n"
     ]
    }
   ],
   "source": [
    "#10.5\n",
    "from pathlib import Path  \n",
    "  \n",
    "# 初始化一个空列表来存储名字  \n",
    "names = []  \n",
    "  \n",
    "# 循环提示用户输入名字，直到输入'q'  \n",
    "while True:  \n",
    "    name = input(\"请输入您的名字（输入'q'退出）: \")  \n",
    "    if name.lower() == 'q':  \n",
    "        break  # 退出循环  \n",
    "    names.append(name)  # 将名字添加到列表中  \n",
    "  \n",
    "# 将名字列表转换为字符串，每个名字占一行  \n",
    "contents = '\\n'.join(names)  \n",
    "  \n",
    "# 定义文件路径  \n",
    "path = Path('guest_book.txt')  \n",
    "  \n",
    "# 将内容写入文件  \n",
    "path.write_text(contents)  \n",
    "  \n",
    "print(f\"所有名字已被写入到文件：{path}\")"
   ]
  },
  {
   "cell_type": "code",
   "execution_count": 15,
   "id": "55ff60cc-2949-4024-a8c4-9a1af527456e",
   "metadata": {},
   "outputs": [
    {
     "name": "stdin",
     "output_type": "stream",
     "text": [
      "请输入第一个数:  1\n",
      "请输入第二个数:  0\n"
     ]
    },
    {
     "name": "stdout",
     "output_type": "stream",
     "text": [
      "1.0 + 0.0 = 1.0\n"
     ]
    }
   ],
   "source": [
    "#10.6\n",
    "def add_two_numbers():  \n",
    "    try:  \n",
    "        num1 = float(input(\"请输入第一个数: \"))  \n",
    "        num2 = float(input(\"请输入第二个数: \"))  \n",
    "        result = num1 + num2  \n",
    "        print(f\"{num1} + {num2} = {result}\")  \n",
    "    except ValueError:  \n",
    "        print(\"输入错误！请输入有效的数字。\")  \n",
    "  \n",
    "add_two_numbers()"
   ]
  },
  {
   "cell_type": "code",
   "execution_count": 16,
   "id": "0fc434fc-bea1-4340-8cdb-dce5a244195d",
   "metadata": {},
   "outputs": [
    {
     "name": "stdin",
     "output_type": "stream",
     "text": [
      "请输入第一个数:  2\n",
      "请输入第二个数:  5\n"
     ]
    },
    {
     "name": "stdout",
     "output_type": "stream",
     "text": [
      "2.0 + 5.0 = 7.0\n"
     ]
    }
   ],
   "source": [
    "#10.7\n",
    "def add_two_numbers():  \n",
    "    while True:  \n",
    "        try:  \n",
    "            num1 = float(input(\"请输入第一个数: \"))  \n",
    "            num2 = float(input(\"请输入第二个数: \"))  \n",
    "            result = num1 + num2  \n",
    "            print(f\"{num1} + {num2} = {result}\")  \n",
    "            break  # 如果输入成功，则跳出循环  \n",
    "        except ValueError:  \n",
    "            print(\"输入错误！请输入有效的数字后重试。\")  \n",
    "  \n",
    "add_two_numbers()"
   ]
  },
  {
   "cell_type": "code",
   "execution_count": 17,
   "id": "1e997d0f-b8bb-45b8-93b7-b85174ffe3c2",
   "metadata": {},
   "outputs": [
    {
     "name": "stdout",
     "output_type": "stream",
     "text": [
      "Contents of cat.txt:\n",
      "bibbia\n",
      "harppy\n",
      "wooolf\n",
      "Contents of dog.txt:\n",
      "whytenii\n",
      "eden\n",
      "sriiiris\n",
      "\n"
     ]
    }
   ],
   "source": [
    "#10.8\n",
    "def print_file_contents(filename):  \n",
    "    try:  \n",
    "        with open(filename, 'r') as file:  \n",
    "            contents = file.read()  \n",
    "            print(f\"Contents of {filename}:\\n{contents}\")  \n",
    "    except FileNotFoundError:  \n",
    "        print(f\"The file {filename} does not exist.\")  \n",
    "  \n",
    "# 尝试打印 cats.txt 和 dogs.txt 的内容  \n",
    "print_file_contents('cat.txt')  \n",
    "print_file_contents('dog.txt')"
   ]
  },
  {
   "cell_type": "code",
   "execution_count": 18,
   "id": "947665ee-2a6e-4897-a162-fd329399b388",
   "metadata": {},
   "outputs": [
    {
     "name": "stdout",
     "output_type": "stream",
     "text": [
      "Contents of cat.txt:\n",
      "bibbia\n",
      "harppy\n",
      "wooolf\n",
      "Contents of dog.txt:\n",
      "whytenii\n",
      "eden\n",
      "sriiiris\n",
      "\n"
     ]
    }
   ],
   "source": [
    "#10.9\n",
    "def print_file_contents(filename):  \n",
    "    try:  \n",
    "        with open(filename, 'r') as file:  \n",
    "            contents = file.read()  \n",
    "            print(f\"Contents of {filename}:\\n{contents}\")  \n",
    "    except FileNotFoundError:  \n",
    "        print(f\"The file {filename} does not exist.\")  \n",
    "  \n",
    "# 尝试打印 cats.txt 和 dogs.txt 的内容  \n",
    "print_file_contents('cat.txt')  \n",
    "print_file_contents('dog.txt')"
   ]
  },
  {
   "cell_type": "code",
   "execution_count": 19,
   "id": "a8b598ce-c91e-4651-9513-9da12a7a4ab6",
   "metadata": {},
   "outputs": [
    {
     "name": "stdout",
     "output_type": "stream",
     "text": [
      "Contents of cat.txt:\n",
      "bibbia\n",
      "harppy\n",
      "wooolf\n",
      "Contents of dog.txt:\n",
      "whytenii\n",
      "eden\n",
      "sriiiris\n",
      "\n"
     ]
    }
   ],
   "source": [
    "#10.10\n",
    "def print_file_contents(filename):  \n",
    "    try:  \n",
    "        with open(filename, 'r') as file:  \n",
    "            contents = file.read()  \n",
    "            print(f\"Contents of {filename}:\\n{contents}\")  \n",
    "    except FileNotFoundError:  \n",
    "        print(f\"The file {filename} does not exist.\")  \n",
    "  \n",
    "# 尝试打印 cats.txt 和 dogs.txt 的内容  \n",
    "print_file_contents('cat.txt')  \n",
    "print_file_contents('dog.txt')"
   ]
  },
  {
   "cell_type": "code",
   "execution_count": 20,
   "id": "06398f1e-df03-43a3-8913-a567df5fb34a",
   "metadata": {},
   "outputs": [
    {
     "name": "stdin",
     "output_type": "stream",
     "text": [
      "请输入你喜欢的数:  8\n"
     ]
    },
    {
     "name": "stdout",
     "output_type": "stream",
     "text": [
      "你喜欢的数已经保存。\n"
     ]
    }
   ],
   "source": [
    "#10.11\n",
    "import json  \n",
    "  \n",
    "favorite_number = input(\"请输入你喜欢的数: \")  \n",
    "  \n",
    "# 将输入转换为整数或浮点数（如果需要）  \n",
    "try:  \n",
    "    favorite_number = int(favorite_number)  # 或者 float(favorite_number)  \n",
    "except ValueError:  \n",
    "    print(\"输入的不是有效的数字，请重新输入。\")  \n",
    "    exit()  \n",
    "  \n",
    "# 将数字写入文件  \n",
    "with open('favorite_number.json', 'w') as file:  \n",
    "    json.dump(favorite_number, file)  \n",
    "  \n",
    "print(\"你喜欢的数已经保存。\")"
   ]
  },
  {
   "cell_type": "code",
   "execution_count": 21,
   "id": "5e1ccf15-e0ba-4fdf-81a0-4c84517991f7",
   "metadata": {},
   "outputs": [
    {
     "name": "stdout",
     "output_type": "stream",
     "text": [
      "I know your favorite number! It's 8.\n"
     ]
    }
   ],
   "source": [
    "import json  \n",
    "  \n",
    "try:  \n",
    "    with open('favorite_number.json', 'r') as file:  \n",
    "        favorite_number = json.load(file)  \n",
    "    print(f\"I know your favorite number! It's {favorite_number}.\")  \n",
    "except FileNotFoundError:  \n",
    "    print(\"找不到你喜欢的数，请运行存储程序先保存它。\")"
   ]
  },
  {
   "cell_type": "code",
   "execution_count": 23,
   "id": "b91c76c3-f94a-4b17-a588-caa454554c5c",
   "metadata": {},
   "outputs": [
    {
     "name": "stdout",
     "output_type": "stream",
     "text": [
      "I know your favorite number! It's 8.\n"
     ]
    }
   ],
   "source": [
    "#10.12\n",
    "import json  \n",
    "  \n",
    "try:  \n",
    "    with open('favorite_number.json', 'r') as file:  \n",
    "        favorite_number = json.load(file)  \n",
    "    print(f\"I know your favorite number! It's {favorite_number}.\")  \n",
    "except FileNotFoundError:  \n",
    "    favorite_number = input(\"请输入你喜欢的数: \")  \n",
    "  \n",
    "    # 将输入转换为整数或浮点数（如果需要）  \n",
    "    try:  \n",
    "        favorite_number = int(favorite_number)  # 或者 float(favorite_number)  \n",
    "    except ValueError:  \n",
    "        print(\"输入的不是有效的数字，请重新输入。\")  \n",
    "        exit()  \n",
    "  \n",
    "    # 将数字写入文件  \n",
    "    with open('favorite_number.json', 'w') as file:  \n",
    "        json.dump(favorite_number, file)  \n",
    "  \n",
    "    print(\"你喜欢的数已经保存。\")"
   ]
  },
  {
   "cell_type": "code",
   "execution_count": 24,
   "id": "a1311763-67df-4962-9ce2-3cca3d8953bd",
   "metadata": {},
   "outputs": [
    {
     "name": "stdout",
     "output_type": "stream",
     "text": [
      "我记住了你的以下信息:\n",
      "username: 89\n",
      "favorite_number: 22\n",
      "email: p\n"
     ]
    }
   ],
   "source": [
    "#10.13\n",
    "import json  \n",
    "  \n",
    "# 尝试从文件中读取用户信息  \n",
    "try:  \n",
    "    with open('user_info.json', 'r') as file:  \n",
    "        user_info = json.load(file)  \n",
    "except FileNotFoundError:  \n",
    "    user_info = {}  \n",
    "  \n",
    "# 如果用户信息为空，则收集新的用户信息  \n",
    "if not user_info:  \n",
    "    user_info['username'] = input(\"请输入你的用户名: \")  \n",
    "    user_info['favorite_number'] = input(\"请输入你喜欢的数: \")  \n",
    "    try:  \n",
    "        user_info['favorite_number'] = int(user_info['favorite_number'])  # 假设是数字  \n",
    "    except ValueError:  \n",
    "        print(\"输入的不是有效的数字，请重新输入。\")  \n",
    "        exit()  \n",
    "    user_info['email'] = input(\"请输入你的电子邮件地址: \")  \n",
    "  \n",
    "    # 将用户信息写入文件  \n",
    "    with open('user_info.json', 'w') as file:  \n",
    "        json.dump(user_info, file)  \n",
    "  \n",
    "    print(\"你的信息已经保存。\")  \n",
    "  \n",
    "# 打印用户摘要  \n",
    "print(f\"我记住了你的以下信息:\")  \n",
    "for key, value in user_info.items():  \n",
    "    print(f\"{key}: {value}\")"
   ]
  },
  {
   "cell_type": "code",
   "execution_count": 25,
   "id": "d4175052-59ef-4301-86b7-97b5961315a4",
   "metadata": {},
   "outputs": [
    {
     "name": "stdin",
     "output_type": "stream",
     "text": [
      "Is '999' your name? (yes/no):  yes\n"
     ]
    },
    {
     "name": "stdout",
     "output_type": "stream",
     "text": [
      "Welcome back, 999!\n"
     ]
    }
   ],
   "source": [
    "#10.14\n",
    "from pathlib import Path   \n",
    "import json   \n",
    "  \n",
    "def get_stored_username(path):   \n",
    "    \"\"\"如果存储了用户名，就获取它\"\"\"   \n",
    "    if path.exists():   \n",
    "        contents = path.read_text()   \n",
    "        username = json.loads(contents)    \n",
    "        return username   \n",
    "    else:   \n",
    "        return None  \n",
    "  \n",
    "def get_new_username(path):   \n",
    "    \"\"\"提示用户输入用户名并保存\"\"\"   \n",
    "    username = input(\"What is your name? \")   \n",
    "    contents = json.dumps(username)   \n",
    "    path.write_text(contents)   \n",
    "    return username   \n",
    "  \n",
    "def confirm_username(stored_username):  \n",
    "    \"\"\"确认用户名是否正确\"\"\"  \n",
    "    confirmed_username = input(f\"Is '{stored_username}' your name? (yes/no): \")  \n",
    "    if confirmed_username.lower() != 'yes':  \n",
    "        return get_new_username(Path('username.json'))  \n",
    "    return stored_username  \n",
    "  \n",
    "def greet_user():   \n",
    "    \"\"\"问候用户，并指出其名字\"\"\"   \n",
    "    path = Path('username.json')   \n",
    "    username = get_stored_username(path)   \n",
    "    if username:   \n",
    "        username = confirm_username(username)  \n",
    "        print(f\"Welcome back, {username}!\")   \n",
    "    else:   \n",
    "        username = get_new_username(path)   \n",
    "        print(f\"We'll remember you when you come back, {username}!\")   \n",
    "  \n",
    "greet_user()"
   ]
  },
  {
   "cell_type": "code",
   "execution_count": null,
   "id": "137ae233-83e2-48e1-ae49-e795040bcfee",
   "metadata": {},
   "outputs": [],
   "source": []
  },
  {
   "cell_type": "code",
   "execution_count": null,
   "id": "672988d1-e693-4aac-9329-8a7086c2758d",
   "metadata": {},
   "outputs": [],
   "source": []
  },
  {
   "cell_type": "code",
   "execution_count": null,
   "id": "5882a485-cdee-4380-9c7a-91785f4cf4da",
   "metadata": {},
   "outputs": [],
   "source": []
  }
 ],
 "metadata": {
  "kernelspec": {
   "display_name": "Python 3 (ipykernel)",
   "language": "python",
   "name": "python3"
  },
  "language_info": {
   "codemirror_mode": {
    "name": "ipython",
    "version": 3
   },
   "file_extension": ".py",
   "mimetype": "text/x-python",
   "name": "python",
   "nbconvert_exporter": "python",
   "pygments_lexer": "ipython3",
   "version": "3.11.7"
  }
 },
 "nbformat": 4,
 "nbformat_minor": 5
}
