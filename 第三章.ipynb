{
 "cells": [
  {
   "cell_type": "markdown",
   "id": "bbea90e1-6a9b-4188-b00f-e68b754d6694",
   "metadata": {},
   "source": [
    "# 第三章"
   ]
  },
  {
   "cell_type": "markdown",
   "id": "fb7faf70-82df-49dd-b997-8a5d038bda53",
   "metadata": {},
   "source": [
    "## 3.1 列表是什么"
   ]
  },
  {
   "cell_type": "code",
   "execution_count": 1,
   "id": "9da17e5a-2600-412a-949f-0f7cdab705b0",
   "metadata": {},
   "outputs": [
    {
     "name": "stdout",
     "output_type": "stream",
     "text": [
      "['trek', 'cannondale', 'redline', 'specialized']\n"
     ]
    }
   ],
   "source": [
    "bicycles = ['trek', 'cannondale', 'redline', 'specialized'] \n",
    "print(bicycles)"
   ]
  },
  {
   "cell_type": "markdown",
   "id": "6a4f931f-e2d2-44d8-bba7-9c0bbb4fbbbe",
   "metadata": {},
   "source": [
    "### 3.1.1"
   ]
  },
  {
   "cell_type": "code",
   "execution_count": 2,
   "id": "e9c2b13d-41b5-41dd-8f8f-7da16f13bb09",
   "metadata": {},
   "outputs": [
    {
     "name": "stdout",
     "output_type": "stream",
     "text": [
      "trek\n"
     ]
    }
   ],
   "source": [
    "bicycles = ['trek', 'cannondale', 'redline', 'specialized'] \n",
    "print(bicycles[0])"
   ]
  },
  {
   "cell_type": "code",
   "execution_count": 3,
   "id": "c34e1f00-3262-4189-b7ad-4c069e33ef6a",
   "metadata": {},
   "outputs": [
    {
     "name": "stdout",
     "output_type": "stream",
     "text": [
      "Trek\n"
     ]
    }
   ],
   "source": [
    "bicycles = ['trek', 'cannondale', 'redline', 'specialized'] \n",
    "print(bicycles[0].title())"
   ]
  },
  {
   "cell_type": "markdown",
   "id": "e9aec292-2023-4f29-9aca-17517a6ce337",
   "metadata": {},
   "source": [
    "### 3.1.2"
   ]
  },
  {
   "cell_type": "code",
   "execution_count": 4,
   "id": "f0fb0ad5-a31c-40c7-90e9-b7b89c315502",
   "metadata": {},
   "outputs": [
    {
     "name": "stdout",
     "output_type": "stream",
     "text": [
      "cannondale\n",
      "specialized\n"
     ]
    }
   ],
   "source": [
    "bicycles = ['trek', 'cannondale', 'redline', 'specialized'] \n",
    "print(bicycles[1])\n",
    "print(bicycles[3])"
   ]
  },
  {
   "cell_type": "code",
   "execution_count": 5,
   "id": "1f9a0f6e-360f-4f1b-868c-beb8276ce958",
   "metadata": {},
   "outputs": [
    {
     "name": "stdout",
     "output_type": "stream",
     "text": [
      "specialized\n"
     ]
    }
   ],
   "source": [
    "bicycles = ['trek', 'cannondale', 'redline', 'specialized'] \n",
    "print(bicycles[-1])"
   ]
  },
  {
   "cell_type": "markdown",
   "id": "e3eff37d-f98e-4a10-8558-99f2198797f0",
   "metadata": {},
   "source": [
    "### 3.1.3"
   ]
  },
  {
   "cell_type": "code",
   "execution_count": 6,
   "id": "cb4de27b-0006-431b-8b3c-0780240f681e",
   "metadata": {},
   "outputs": [
    {
     "name": "stdout",
     "output_type": "stream",
     "text": [
      "My first bicycle was a Trek.\n"
     ]
    }
   ],
   "source": [
    "bicycles = ['trek', 'cannondale', 'redline', 'specialized'] \n",
    "message = f\"My first bicycle was a {bicycles[0].title()}.\" \n",
    " \n",
    "print(message)"
   ]
  },
  {
   "cell_type": "markdown",
   "id": "3605338d-c1b6-4d78-b33b-0aeff4a43b96",
   "metadata": {},
   "source": [
    "## 3.2 修改添加和删除元素"
   ]
  },
  {
   "cell_type": "markdown",
   "id": "5ec5f8af-50e9-466c-bf8e-b544fd4b1e53",
   "metadata": {},
   "source": [
    "### 3.2.1"
   ]
  },
  {
   "cell_type": "code",
   "execution_count": 7,
   "id": "593fd694-da04-4721-9dfa-d02481c45d0c",
   "metadata": {},
   "outputs": [
    {
     "name": "stdout",
     "output_type": "stream",
     "text": [
      "['honda', 'yamaha', 'suzuki']\n",
      "['ducati', 'yamaha', 'suzuki']\n"
     ]
    }
   ],
   "source": [
    "motorcycles = ['honda', 'yamaha', 'suzuki'] \n",
    "print(motorcycles) \n",
    " \n",
    "motorcycles[0] = 'ducati' \n",
    "print(motorcycles)"
   ]
  },
  {
   "cell_type": "code",
   "execution_count": 8,
   "id": "658791fc-080f-4716-ab62-f01ad53616e6",
   "metadata": {},
   "outputs": [
    {
     "name": "stdout",
     "output_type": "stream",
     "text": [
      "['ducati', 'yamaha', 'suzuki']\n",
      "['ducati', 'yamaha', 'suzuki']\n"
     ]
    }
   ],
   "source": [
    "\n",
    "motorcycles = ['ducati', 'yamaha', 'suzuki']\n",
    "print(motorcycles) \n",
    " \n",
    "motorcycles[0] = 'ducati' \n",
    "print(motorcycles)"
   ]
  },
  {
   "cell_type": "markdown",
   "id": "9f5a7b49-191d-4089-bf75-d87de3066933",
   "metadata": {},
   "source": [
    "### 3.2.2"
   ]
  },
  {
   "cell_type": "code",
   "execution_count": 11,
   "id": "8bfbe8da-b022-44fe-98c8-80c0c14d82cc",
   "metadata": {},
   "outputs": [
    {
     "name": "stdout",
     "output_type": "stream",
     "text": [
      "['honda', 'yamaha', 'suzuki']\n",
      "['honda', 'yamaha', 'suzuki', 'ducati']\n"
     ]
    }
   ],
   "source": [
    "\n",
    "motorcycles = ['honda','yamaha','suzuki']\n",
    "print(motorcycles)\n",
    "motorcycles.append('ducati')\n",
    "print(motorcycles)"
   ]
  },
  {
   "cell_type": "code",
   "execution_count": 12,
   "id": "b95af405-9094-42b1-8e5d-cd14e8b6ef02",
   "metadata": {},
   "outputs": [
    {
     "name": "stdout",
     "output_type": "stream",
     "text": [
      "['honda', 'yamaha', 'suzuki']\n"
     ]
    }
   ],
   "source": [
    "motorbicycles = []\n",
    "motorbicycles.append('honda')\n",
    "motorbicycles.append('yamaha')\n",
    "motorbicycles.append('suzuki')\n",
    "print(motorbicycles)"
   ]
  },
  {
   "cell_type": "code",
   "execution_count": 13,
   "id": "2228c50f-fbef-439e-be42-0e0282167dad",
   "metadata": {},
   "outputs": [
    {
     "name": "stdout",
     "output_type": "stream",
     "text": [
      "['ducati', 'honda', 'yamaha', 'suzuki']\n"
     ]
    }
   ],
   "source": [
    "\n",
    "motorcycles = ['honda','yamaha','suzuki']\n",
    "motorbicycles.insert(0,'ducati')\n",
    "print(motorbicycles)"
   ]
  },
  {
   "cell_type": "markdown",
   "id": "9c1a8c9f-75d5-4868-bdfd-2574b92671d8",
   "metadata": {},
   "source": [
    "### 3.2.3"
   ]
  },
  {
   "cell_type": "code",
   "execution_count": 14,
   "id": "8ab1db61-68ea-4f32-911a-c4929e4ed7df",
   "metadata": {},
   "outputs": [
    {
     "name": "stdout",
     "output_type": "stream",
     "text": [
      "['honda', 'yamaha', 'suzuki']\n",
      "['yamaha', 'suzuki']\n"
     ]
    }
   ],
   "source": [
    "motorcycles = ['honda','yamaha','suzuki']\n",
    "print(motorcycles)\n",
    "del motorcycles[0]\n",
    "print(motorcycles)"
   ]
  },
  {
   "cell_type": "code",
   "execution_count": 15,
   "id": "a9acea9c-dd2a-4340-97cb-d5759db6604a",
   "metadata": {},
   "outputs": [
    {
     "name": "stdout",
     "output_type": "stream",
     "text": [
      "['honda', 'yamaha', 'suzuki']\n",
      "['honda', 'suzuki']\n"
     ]
    }
   ],
   "source": [
    "motorcycles = ['honda','yamaha','suzuki']\n",
    "print(motorcycles)\n",
    "del motorcycles[1]\n",
    "print(motorcycles)"
   ]
  },
  {
   "cell_type": "code",
   "execution_count": 16,
   "id": "99a9c0d0-d3cb-414f-9c67-c217ec7a0a9a",
   "metadata": {},
   "outputs": [
    {
     "name": "stdout",
     "output_type": "stream",
     "text": [
      "['honda', 'yamaha', 'suzuki']\n",
      "['honda', 'yamaha']\n",
      "suzuki\n"
     ]
    }
   ],
   "source": [
    "motorcycles = ['honda','yamaha','suzuki']\n",
    "print(motorcycles)\n",
    "popped_motorcycle = motorcycles.pop()\n",
    "print(motorcycles)\n",
    "print(popped_motorcycle)"
   ]
  },
  {
   "cell_type": "code",
   "execution_count": 17,
   "id": "141cb25a-8cc2-468f-b624-22a0fafd3346",
   "metadata": {},
   "outputs": [
    {
     "name": "stdout",
     "output_type": "stream",
     "text": [
      "The last motorcycle I owned was a suzuki.title()\n"
     ]
    }
   ],
   "source": [
    "motorcycles = ['honda','yamaha','suzuki']\n",
    "last_owned = motorcycles.pop()\n",
    "print(f\"The last motorcycle I owned was a {last_owned}.title()\")"
   ]
  },
  {
   "cell_type": "code",
   "execution_count": 18,
   "id": "e6fe5a5b-2f1d-474f-ad8b-eea02c680a6c",
   "metadata": {},
   "outputs": [
    {
     "name": "stdout",
     "output_type": "stream",
     "text": [
      "The first motorcycle I owned was a Honda.\n"
     ]
    }
   ],
   "source": [
    "motorcycles = ['honda','yamaha','suzuki']\n",
    "first_owned = motorcycles.pop(0)\n",
    "print(f\"The first motorcycle I owned was a {first_owned.title()}.\")"
   ]
  },
  {
   "cell_type": "code",
   "execution_count": 19,
   "id": "090b3086-1d79-494a-b20d-558d1d4ecc66",
   "metadata": {},
   "outputs": [
    {
     "name": "stdout",
     "output_type": "stream",
     "text": [
      "['honda', 'yamaha', 'suzuki', 'ducati']\n",
      "['honda', 'yamaha', 'suzuki']\n"
     ]
    }
   ],
   "source": [
    "motorcycles = ['honda','yamaha','suzuki','ducati']\n",
    "print(motorcycles)\n",
    "motorcycles.remove('ducati')\n",
    "print(motorcycles)"
   ]
  },
  {
   "cell_type": "code",
   "execution_count": 20,
   "id": "801ea004-6516-4578-b640-10dc1431f5b1",
   "metadata": {},
   "outputs": [
    {
     "name": "stdout",
     "output_type": "stream",
     "text": [
      "['honda', 'yamaha', 'suzuki', 'ducati']\n",
      "['honda', 'yamaha', 'suzuki']\n",
      "\n",
      "A Ducati is too expensive for me.\n"
     ]
    }
   ],
   "source": [
    "motorcycles = ['honda','yamaha','suzuki','ducati']\n",
    "print(motorcycles)\n",
    "too_expensive = 'ducati'\n",
    "motorcycles.remove(too_expensive)\n",
    "print(motorcycles)\n",
    "print(f\"\\nA {too_expensive.title()} is too expensive for me.\")"
   ]
  },
  {
   "cell_type": "markdown",
   "id": "12732c33-28eb-4cb7-96cb-a599172b8810",
   "metadata": {},
   "source": [
    "## 3.3管理列表"
   ]
  },
  {
   "cell_type": "markdown",
   "id": "b69dd543-c359-46b4-9215-a5477877cd73",
   "metadata": {},
   "source": [
    "### 3.3.1"
   ]
  },
  {
   "cell_type": "code",
   "execution_count": 21,
   "id": "113a191f-47b2-4120-8643-4fdf32ec584e",
   "metadata": {},
   "outputs": [
    {
     "name": "stdout",
     "output_type": "stream",
     "text": [
      "['audi', 'bmw', 'subaru', 'toyota']\n"
     ]
    }
   ],
   "source": [
    "\n",
    "cars = ['bmw','audi','toyota','subaru']\n",
    "cars.sort()\n",
    "print(cars)"
   ]
  },
  {
   "cell_type": "code",
   "execution_count": 22,
   "id": "d787dd6c-da77-4a36-a45c-5899be87cb45",
   "metadata": {},
   "outputs": [
    {
     "name": "stdout",
     "output_type": "stream",
     "text": [
      "['toyota', 'subaru', 'bmw', 'audi']\n"
     ]
    }
   ],
   "source": [
    "cars = ['bmw','audi','toyota','subaru']\n",
    "cars.sort(reverse=True)\n",
    "print(cars)"
   ]
  },
  {
   "cell_type": "markdown",
   "id": "1b59c9cf-eef3-4e0e-926c-d1423151fb3f",
   "metadata": {},
   "source": [
    "### 3.3.2"
   ]
  },
  {
   "cell_type": "code",
   "execution_count": 23,
   "id": "4ba99afe-f2f5-4c73-82e9-04dcc000d469",
   "metadata": {},
   "outputs": [
    {
     "name": "stdout",
     "output_type": "stream",
     "text": [
      "\n",
      "Here is the original list:\n",
      "['bmw', 'audi', 'toyota', 'subaru']\n",
      "\n",
      "Here is the sorted list:\n",
      "['audi', 'bmw', 'subaru', 'toyota']\n",
      "\n",
      "Here is the original list:\n",
      "['bmw', 'audi', 'toyota', 'subaru']\n"
     ]
    }
   ],
   "source": [
    "cars = ['bmw','audi','toyota','subaru']\n",
    "print(\"\\nHere is the original list:\")\n",
    "print(cars)\n",
    "print(\"\\nHere is the sorted list:\")\n",
    "print(sorted(cars))\n",
    "print(\"\\nHere is the original list:\")\n",
    "print(cars)"
   ]
  },
  {
   "cell_type": "markdown",
   "id": "55ab97e7-573a-44a9-a8ae-06b91981f9d7",
   "metadata": {},
   "source": [
    "### 3.3.3"
   ]
  },
  {
   "cell_type": "code",
   "execution_count": 24,
   "id": "60504902-8e47-4def-865d-7a76675a3f4a",
   "metadata": {},
   "outputs": [
    {
     "name": "stdout",
     "output_type": "stream",
     "text": [
      "['bmw', 'audi', 'toyota', 'subaru']\n",
      "['subaru', 'toyota', 'audi', 'bmw']\n"
     ]
    }
   ],
   "source": [
    "cars = ['bmw','audi','toyota','subaru']\n",
    "print(cars)\n",
    "cars.reverse()\n",
    "print(cars)"
   ]
  },
  {
   "cell_type": "markdown",
   "id": "0a47eee4-767c-4f6c-b7d4-6d460e889da3",
   "metadata": {},
   "source": [
    "### 3.3.4"
   ]
  },
  {
   "cell_type": "code",
   "execution_count": 25,
   "id": "20735d17-f11a-47ff-afdc-3f1da96617c0",
   "metadata": {},
   "outputs": [
    {
     "data": {
      "text/plain": [
       "4"
      ]
     },
     "execution_count": 25,
     "metadata": {},
     "output_type": "execute_result"
    }
   ],
   "source": [
    "\n",
    "cars = ['bmw','audi','toyota','subaru']\n",
    "len(cars)"
   ]
  },
  {
   "cell_type": "markdown",
   "id": "33b7474c-c40b-41cc-82be-cbad45be6baf",
   "metadata": {},
   "source": [
    "## 3.4 使用列表时避免索引错误"
   ]
  },
  {
   "cell_type": "code",
   "execution_count": 26,
   "id": "2fefe28e-5ffb-43e5-8f43-81743af37b94",
   "metadata": {},
   "outputs": [
    {
     "name": "stdout",
     "output_type": "stream",
     "text": [
      "suzuki\n"
     ]
    }
   ],
   "source": [
    "motorcycles = ['honda','yamaha','suzuki']\n",
    "print(motorcycles[-1])"
   ]
  },
  {
   "cell_type": "markdown",
   "id": "903fd81a-5e5f-476d-b0f2-737101716c7e",
   "metadata": {},
   "source": [
    "## 练习题"
   ]
  },
  {
   "cell_type": "code",
   "execution_count": 27,
   "id": "9ccd3654-cba4-44c8-83f3-6f0edefc590a",
   "metadata": {},
   "outputs": [
    {
     "name": "stdout",
     "output_type": "stream",
     "text": [
      "ruka\n",
      "sakuya\n",
      "seb\n"
     ]
    }
   ],
   "source": [
    "#3.1\n",
    "names = ['ruka', 'sakuya', 'seb'] \n",
    " \n",
    "print(names[0]) \n",
    "print(names[1]) \n",
    "print(names[2])"
   ]
  },
  {
   "cell_type": "code",
   "execution_count": 28,
   "id": "cf2deed9-cb42-408c-8b31-71dd9379e0f4",
   "metadata": {},
   "outputs": [
    {
     "name": "stdout",
     "output_type": "stream",
     "text": [
      "Hello, Ruka!\n",
      "Hello, Sakuya!\n",
      "Hello, Seb!\n"
     ]
    }
   ],
   "source": [
    "#3.2\n",
    "names = ['ruka', 'sakuya', 'seb'] \n",
    "msg = f\"Hello, {names[0].title()}!\" \n",
    "print(msg) \n",
    " \n",
    "msg = f\"Hello, {names[1].title()}!\" \n",
    "print(msg) \n",
    " \n",
    "msg = f\"Hello, {names[2].title()}!\" \n",
    "print(msg) \n"
   ]
  },
  {
   "cell_type": "code",
   "execution_count": 29,
   "id": "f0f9d3f2-5823-4281-bd95-eb143a6739ca",
   "metadata": {},
   "outputs": [
    {
     "name": "stdout",
     "output_type": "stream",
     "text": [
      "Yanxiu, please come to dinner.\n",
      "Shu, please come to dinner.\n",
      "Zhongwu, please come to dinner.\n"
     ]
    }
   ],
   "source": [
    "#3.4\n",
    "guests = ['yanxiu', 'shu', 'zhongwu'] \n",
    " \n",
    "name = guests[0].title() \n",
    "print(f\"{name}, please come to dinner.\") \n",
    " \n",
    "name = guests[1].title() \n",
    "print(f\"{name}, please come to dinner.\") \n",
    " \n",
    "name = guests[2].title() \n",
    "print(f\"{name}, please come to dinner.\") "
   ]
  },
  {
   "cell_type": "code",
   "execution_count": 31,
   "id": "37bd4605-2584-4f25-94c7-43b44b5c861e",
   "metadata": {},
   "outputs": [
    {
     "name": "stdout",
     "output_type": "stream",
     "text": [
      "Yanxiu, please come to dinner.\n",
      "Yanzhao, please come to dinner.\n",
      "Shiyi, please come to dinner.\n",
      "\n",
      "Sorry, Yanzhao can't make it to dinner.\n",
      "\n",
      "Yanxiu, please come to dinner.\n",
      "Shu, please come to dinner.\n",
      "Shiyi, please come to dinner.\n"
     ]
    }
   ],
   "source": [
    "#3.5\n",
    "# 邀请一些嘉宾与你共进晚餐 \n",
    "guests = ['yanxiu', 'yanzhao', 'shiyi'] \n",
    " \n",
    "name = guests[0].title() \n",
    "print(f\"{name}, please come to dinner.\") \n",
    " \n",
    "name = guests[1].title() \n",
    "print(f\"{name}, please come to dinner.\") \n",
    " \n",
    "name = guests[2].title() \n",
    "print(f\"{name}, please come to dinner.\") \n",
    " \n",
    "name = guests[1].title() \n",
    "print(f\"\\nSorry, {name} can't make it to dinner.\") \n",
    " \n",
    "# yanzhao无法赴约，转而邀请 shu\n",
    "del(guests[1]) \n",
    "guests.insert(1, 'shu') \n",
    " \n",
    "# 重新打印邀请函 \n",
    "name = guests[0].title() \n",
    "print(f\"\\n{name}, please come to dinner.\") \n",
    " \n",
    "name = guests[1].title() \n",
    "print(f\"{name}, please come to dinner.\") \n",
    " \n",
    "name = guests[2].title() \n",
    "print(f\"{name}, please come to dinner.\") \n"
   ]
  },
  {
   "cell_type": "code",
   "execution_count": 32,
   "id": "cd6372c7-68a7-411e-ac02-bc5a50a773f4",
   "metadata": {},
   "outputs": [
    {
     "name": "stdout",
     "output_type": "stream",
     "text": [
      "Yanxiu, please come to dinner.\n",
      "Yanzhao, please come to dinner.\n",
      "Shiyi, please come to dinner.\n",
      "\n",
      "Sorry, Yanzhao can't make it to dinner.\n",
      "\n",
      "Yanxiu, please come to dinner.\n",
      "Shu, please come to dinner.\n",
      "Shiyi, please come to dinner.\n",
      "\n",
      "Yanxiu, please come to dinner.\n",
      "Shu, please come to dinner.\n",
      "Shiyi, please come to dinner.\n",
      "\n",
      "We got a bigger table!\n",
      "Zhongwu, please come to dinner.\n",
      "Yanxiu, please come to dinner.\n",
      "Mo, please come to dinner.\n",
      "Shu, please come to dinner.\n",
      "Shiyi, please come to dinner.\n",
      "Zha, please come to dinner.\n"
     ]
    }
   ],
   "source": [
    "#3.6\n",
    "# 邀请一些嘉宾与你共进晚餐 \n",
    "guests = ['yanxiu', 'yanzhao', 'shiyi'] \n",
    " \n",
    "name = guests[0].title() \n",
    "print(f\"{name}, please come to dinner.\") \n",
    " \n",
    "name = guests[1].title() \n",
    "print(f\"{name}, please come to dinner.\") \n",
    " \n",
    "name = guests[2].title() \n",
    "print(f\"{name}, please come to dinner.\") \n",
    " \n",
    "name = guests[1].title() \n",
    "print(f\"\\nSorry, {name} can't make it to dinner.\") \n",
    " \n",
    "# yanzhao无法赴约，转而邀请 shu\n",
    "del(guests[1]) \n",
    "guests.insert(1, 'shu') \n",
    " \n",
    "# 重新打印邀请函 \n",
    "name = guests[0].title() \n",
    "print(f\"\\n{name}, please come to dinner.\") \n",
    " \n",
    "name = guests[1].title() \n",
    "print(f\"{name}, please come to dinner.\") \n",
    " \n",
    "name = guests[2].title() \n",
    "print(f\"{name}, please come to dinner.\") \n",
    "# 重新打印邀请函 \n",
    "name = guests[0].title() \n",
    "print(f\"\\n{name}, please come to dinner.\") \n",
    " \n",
    "name = guests[1].title() \n",
    "print(f\"{name}, please come to dinner.\") \n",
    " \n",
    "name = guests[2].title() \n",
    "print(f\"{name}, please come to dinner.\") \n",
    " \n",
    "# 找到了更大的餐桌，再邀请一些嘉宾 \n",
    "print(\"\\nWe got a bigger table!\") \n",
    "guests.insert(0, 'zhongwu') \n",
    "guests.insert(2, 'mo') \n",
    "guests.append('zha') \n",
    " \n",
    "name = guests[0].title() \n",
    "print(f\"{name}, please come to dinner.\") \n",
    " \n",
    "name = guests[1].title() \n",
    "print(f\"{name}, please come to dinner.\") \n",
    " \n",
    "name = guests[2].title() \n",
    "print(f\"{name}, please come to dinner.\") \n",
    " \n",
    "name = guests[3].title() \n",
    "print(f\"{name}, please come to dinner.\") \n",
    " \n",
    "name = guests[4].title() \n",
    "print(f\"{name}, please come to dinner.\") \n",
    " \n",
    "name = guests[5].title() \n",
    "print(f\"{name}, please come to dinner.\") "
   ]
  },
  {
   "cell_type": "code",
   "execution_count": 33,
   "id": "c325ea7d-2814-4739-becb-5b046db28737",
   "metadata": {},
   "outputs": [
    {
     "name": "stdout",
     "output_type": "stream",
     "text": [
      "Yanxiu, please come to dinner.\n",
      "Yanzhao, please come to dinner.\n",
      "Shiyi, please come to dinner.\n",
      "\n",
      "Sorry, Yanzhao can't make it to dinner.\n",
      "\n",
      "Yanxiu, please come to dinner.\n",
      "Shu, please come to dinner.\n",
      "Shiyi, please come to dinner.\n",
      "\n",
      "Yanxiu, please come to dinner.\n",
      "Shu, please come to dinner.\n",
      "Shiyi, please come to dinner.\n",
      "\n",
      "We got a bigger table!\n",
      "Zhongwu, please come to dinner.\n",
      "Yanxiu, please come to dinner.\n",
      "Mo, please come to dinner.\n",
      "Shu, please come to dinner.\n",
      "Shiyi, please come to dinner.\n",
      "Zha, please come to dinner.\n",
      "\n",
      "Sorry, we can only invite two people to dinner.\n",
      "Sorry, Zha there's no room at the table.\n",
      "Sorry, Shiyi there's no room at the table.\n",
      "Sorry, Shu there's no room at the table.\n",
      "Sorry, Mo there's no room at the table.\n",
      "Zhongwu, please come to dinner.\n",
      "Yanxiu, please come to dinner.\n",
      "[]\n"
     ]
    }
   ],
   "source": [
    "#练习 3.7 缩短名单\n",
    "# 邀请一些嘉宾与你共进晚餐 \n",
    "guests = ['yanxiu', 'yanzhao', 'shiyi'] \n",
    " \n",
    "name = guests[0].title() \n",
    "print(f\"{name}, please come to dinner.\") \n",
    " \n",
    "name = guests[1].title() \n",
    "print(f\"{name}, please come to dinner.\") \n",
    " \n",
    "name = guests[2].title() \n",
    "print(f\"{name}, please come to dinner.\") \n",
    " \n",
    "name = guests[1].title() \n",
    "print(f\"\\nSorry, {name} can't make it to dinner.\") \n",
    " \n",
    "# yanzhao无法赴约，转而邀请 shu\n",
    "del(guests[1]) \n",
    "guests.insert(1, 'shu') \n",
    " \n",
    "# 重新打印邀请函 \n",
    "name = guests[0].title() \n",
    "print(f\"\\n{name}, please come to dinner.\") \n",
    " \n",
    "name = guests[1].title() \n",
    "print(f\"{name}, please come to dinner.\") \n",
    " \n",
    "name = guests[2].title() \n",
    "print(f\"{name}, please come to dinner.\") \n",
    "# 重新打印邀请函 \n",
    "name = guests[0].title() \n",
    "print(f\"\\n{name}, please come to dinner.\") \n",
    " \n",
    "name = guests[1].title() \n",
    "print(f\"{name}, please come to dinner.\") \n",
    " \n",
    "name = guests[2].title() \n",
    "print(f\"{name}, please come to dinner.\") \n",
    " \n",
    "# 找到了更大的餐桌，再邀请一些嘉宾 \n",
    "print(\"\\nWe got a bigger table!\") \n",
    "guests.insert(0, 'zhongwu') \n",
    "guests.insert(2, 'mo') \n",
    "guests.append('zha') \n",
    " \n",
    "name = guests[0].title() \n",
    "print(f\"{name}, please come to dinner.\") \n",
    " \n",
    "name = guests[1].title() \n",
    "print(f\"{name}, please come to dinner.\") \n",
    " \n",
    "name = guests[2].title() \n",
    "print(f\"{name}, please come to dinner.\") \n",
    " \n",
    "name = guests[3].title() \n",
    "print(f\"{name}, please come to dinner.\") \n",
    " \n",
    "name = guests[4].title() \n",
    "print(f\"{name}, please come to dinner.\") \n",
    " \n",
    "name = guests[5].title() \n",
    "print(f\"{name}, please come to dinner.\") \n",
    "# 糟糕，餐桌无法及时送达！ \n",
    "print(\"\\nSorry, we can only invite two people to dinner.\") \n",
    " \n",
    "name = guests.pop() \n",
    "print(f\"Sorry, {name.title()} there's no room at the table.\") \n",
    " \n",
    "name = guests.pop() \n",
    "print(f\"Sorry, {name.title()} there's no room at the table.\") \n",
    " \n",
    "name = guests.pop() \n",
    "print(f\"Sorry, {name.title()} there's no room at the table.\") \n",
    " \n",
    "name = guests.pop() \n",
    "print(f\"Sorry, {name.title()} there's no room at the table.\") \n",
    " \n",
    "# 应该只剩下两位嘉宾了，向他们发出邀请 \n",
    "name = guests[0].title() \n",
    "print(f\"{name}, please come to dinner.\") \n",
    " \n",
    "name = guests[1].title() \n",
    "print(f\"{name}, please come to dinner.\") \n",
    " \n",
    "# 清空名单 \n",
    "del(guests[0]) \n",
    "del(guests[0]) \n",
    " \n",
    "# 核实名单是空的 \n",
    "print(guests) \n"
   ]
  },
  {
   "cell_type": "code",
   "execution_count": 34,
   "id": "354f19da-24a0-4e5d-b6d7-a7cf26f6aaf5",
   "metadata": {},
   "outputs": [
    {
     "name": "stdout",
     "output_type": "stream",
     "text": [
      "Original order:\n",
      "['himalaya', 'andes', 'tierra del fuego', 'labrador', 'guam']\n",
      "\n",
      "Alphabetical:\n",
      "['andes', 'guam', 'himalaya', 'labrador', 'tierra del fuego']\n",
      "\n",
      "Original order:\n",
      "['himalaya', 'andes', 'tierra del fuego', 'labrador', 'guam']\n",
      "\n",
      "Reverse alphabetical:\n",
      "['tierra del fuego', 'labrador', 'himalaya', 'guam', 'andes']\n",
      "\n",
      "Original order:\n",
      "['himalaya', 'andes', 'tierra del fuego', 'labrador', 'guam']\n",
      "\n",
      "Reversed:\n",
      "['guam', 'labrador', 'tierra del fuego', 'andes', 'himalaya']\n",
      "\n",
      "Original order:\n",
      "['himalaya', 'andes', 'tierra del fuego', 'labrador', 'guam']\n",
      "\n",
      "Alphabetical\n",
      "['andes', 'guam', 'himalaya', 'labrador', 'tierra del fuego']\n",
      "\n",
      "Reverse alphabetical\n",
      "['tierra del fuego', 'labrador', 'himalaya', 'guam', 'andes']\n"
     ]
    }
   ],
   "source": [
    "#3.8\n",
    "locations = ['himalaya', 'andes', 'tierra del fuego', 'labrador', 'guam'] \n",
    " \n",
    "print(\"Original order:\") \n",
    "print(locations) \n",
    " \n",
    "print(\"\\nAlphabetical:\") \n",
    "print(sorted(locations)) \n",
    " \n",
    "print(\"\\nOriginal order:\") \n",
    "print(locations) \n",
    " \n",
    "print(\"\\nReverse alphabetical:\") \n",
    "print(sorted(locations, reverse=True)) \n",
    " \n",
    "print(\"\\nOriginal order:\") \n",
    "print(locations) \n",
    " \n",
    "print(\"\\nReversed:\") \n",
    "locations.reverse() \n",
    "print(locations) \n",
    " \n",
    "print(\"\\nOriginal order:\") \n",
    "locations.reverse() \n",
    "print(locations) \n",
    " \n",
    "print(\"\\nAlphabetical\") \n",
    "locations.sort() \n",
    "print(locations) \n",
    " \n",
    "print(\"\\nReverse alphabetical\") \n",
    "locations.sort(reverse=True) \n",
    "print(locations) "
   ]
  }
 ],
 "metadata": {
  "kernelspec": {
   "display_name": "Python 3 (ipykernel)",
   "language": "python",
   "name": "python3"
  },
  "language_info": {
   "codemirror_mode": {
    "name": "ipython",
    "version": 3
   },
   "file_extension": ".py",
   "mimetype": "text/x-python",
   "name": "python",
   "nbconvert_exporter": "python",
   "pygments_lexer": "ipython3",
   "version": "3.11.7"
  }
 },
 "nbformat": 4,
 "nbformat_minor": 5
}
