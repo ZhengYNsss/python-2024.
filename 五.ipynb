{
 "cells": [
  {
   "cell_type": "markdown",
   "id": "6e47a4ad-9c83-4bd0-abf3-f3a2276972df",
   "metadata": {},
   "source": [
    "# 第五章\r"
   ]
  },
  {
   "cell_type": "code",
   "execution_count": 1,
   "id": "3a25bc96-b17e-462e-83f3-52c7688a4b3d",
   "metadata": {},
   "outputs": [
    {
     "name": "stdout",
     "output_type": "stream",
     "text": [
      "Audi\n",
      "BMW\n",
      "Subaru\n",
      "Toyota\n"
     ]
    }
   ],
   "source": [
    "cars = ['audi', 'bmw', 'subaru', 'toyota']\n",
    "for car in cars:\n",
    " if car == 'bmw':\n",
    "  print(car.upper())\n",
    " else:\n",
    "  print(car.title())"
   ]
  },
  {
   "cell_type": "code",
   "execution_count": 2,
   "id": "4cc4c1cd-88b8-4b91-85bd-f5157a2d7173",
   "metadata": {},
   "outputs": [
    {
     "name": "stdout",
     "output_type": "stream",
     "text": [
      "Hold the anchovies!\n"
     ]
    }
   ],
   "source": [
    "requested_topping = 'mushrooms'\n",
    "if requested_topping != 'anchovies':\n",
    " print(\"Hold the anchovies!\")"
   ]
  },
  {
   "cell_type": "code",
   "execution_count": 3,
   "id": "3bcdcc9a-c65f-4673-9aa6-8eb3fd428168",
   "metadata": {},
   "outputs": [
    {
     "name": "stdout",
     "output_type": "stream",
     "text": [
      "That is not the correct answer. Please try again!\n"
     ]
    }
   ],
   "source": [
    "answer = 17\n",
    "if answer != 42:\n",
    " print(\"That is not the correct answer. Please try again!\")"
   ]
  },
  {
   "cell_type": "markdown",
   "id": "25ae3d25-b850-4bfe-b4bb-e0b67df7230c",
   "metadata": {},
   "source": [
    "#条件测试"
   ]
  },
  {
   "cell_type": "code",
   "execution_count": 4,
   "id": "36e0cdb7-9671-423a-a584-2d38e6972531",
   "metadata": {},
   "outputs": [
    {
     "data": {
      "text/plain": [
       "False"
      ]
     },
     "execution_count": 4,
     "metadata": {},
     "output_type": "execute_result"
    }
   ],
   "source": [
    "age_0 = 22\n",
    "age_1 = 18\n",
    "(age_0 >= 21) and (age_1 >= 21)"
   ]
  },
  {
   "cell_type": "code",
   "execution_count": 5,
   "id": "5c5627ed-7d54-410c-8461-f065191be52e",
   "metadata": {},
   "outputs": [
    {
     "name": "stdout",
     "output_type": "stream",
     "text": [
      "Hold the anchovies!\n"
     ]
    }
   ],
   "source": [
    "requested_topping = 'mushrooms' \n",
    " \n",
    "if requested_topping != 'anchovies': \n",
    " print(\"Hold the anchovies!\")"
   ]
  },
  {
   "cell_type": "code",
   "execution_count": 6,
   "id": "3ecae673-690f-4e2e-badb-a8d6fda34efc",
   "metadata": {},
   "outputs": [
    {
     "name": "stdout",
     "output_type": "stream",
     "text": [
      "Hold the anchovies!\n"
     ]
    }
   ],
   "source": [
    "requested_topping = 'mushrooms' \n",
    " \n",
    "if requested_topping != 'anchovies': \n",
    " print(\"Hold the anchovies!\")"
   ]
  },
  {
   "cell_type": "code",
   "execution_count": 7,
   "id": "1722a482-437c-47b3-a74a-b7ce18049fde",
   "metadata": {},
   "outputs": [
    {
     "data": {
      "text/plain": [
       "False"
      ]
     },
     "execution_count": 7,
     "metadata": {},
     "output_type": "execute_result"
    }
   ],
   "source": [
    "age_0 = 18 \n",
    "age_0 >= 21 or age_1 >= 21 \n"
   ]
  },
  {
   "cell_type": "code",
   "execution_count": 8,
   "id": "f7fe9ad4-eeb9-4e88-80f9-511e2e8dd94c",
   "metadata": {},
   "outputs": [
    {
     "data": {
      "text/plain": [
       "True"
      ]
     },
     "execution_count": 8,
     "metadata": {},
     "output_type": "execute_result"
    }
   ],
   "source": [
    "requested_toppings = ['mushrooms', 'onions', 'pineapple'] \n",
    "'mushrooms' in requested_toppings "
   ]
  },
  {
   "cell_type": "code",
   "execution_count": 9,
   "id": "3195e1f9-3c59-47f4-a456-3e118de20b4a",
   "metadata": {},
   "outputs": [
    {
     "data": {
      "text/plain": [
       "False"
      ]
     },
     "execution_count": 9,
     "metadata": {},
     "output_type": "execute_result"
    }
   ],
   "source": [
    "requested_toppings = ['mushrooms', 'onions', 'pineapple'] \n",
    "'pepperoni' in requested_toppings \n"
   ]
  },
  {
   "cell_type": "code",
   "execution_count": 10,
   "id": "3d992c77-7396-4395-99ae-d464f086f464",
   "metadata": {},
   "outputs": [
    {
     "data": {
      "text/plain": [
       "False"
      ]
     },
     "execution_count": 10,
     "metadata": {},
     "output_type": "execute_result"
    }
   ],
   "source": [
    "requested_toppings = ['mushrooms', 'onions', 'pineapple'] \n",
    "'pepperoni' in requested_toppings \n"
   ]
  },
  {
   "cell_type": "markdown",
   "id": "e49797f5-6b03-4d80-b910-582f8a7ca73a",
   "metadata": {},
   "source": [
    "#if语句"
   ]
  },
  {
   "cell_type": "code",
   "execution_count": 11,
   "id": "8e593448-f2c3-426d-83a6-6e2a9f57fa5d",
   "metadata": {},
   "outputs": [
    {
     "name": "stdout",
     "output_type": "stream",
     "text": [
      "You are old enough to vote!\n"
     ]
    }
   ],
   "source": [
    "age = 19 \n",
    "if age >= 18: \n",
    " print(\"You are old enough to vote!\")"
   ]
  },
  {
   "cell_type": "code",
   "execution_count": 12,
   "id": "3cdbc3e6-939b-41c1-ac5e-f8ea6e4f7b29",
   "metadata": {},
   "outputs": [
    {
     "name": "stdout",
     "output_type": "stream",
     "text": [
      "You are old enough to vote!\n",
      "Have you registered to vote yet?\n"
     ]
    }
   ],
   "source": [
    "age = 19 \n",
    "if age >= 18:  \n",
    " print(\"You are old enough to vote!\") \n",
    " print(\"Have you registered to vote yet?\")"
   ]
  },
  {
   "cell_type": "code",
   "execution_count": 13,
   "id": "fe4897f5-09df-4a22-a019-442b49a057ad",
   "metadata": {},
   "outputs": [
    {
     "name": "stdout",
     "output_type": "stream",
     "text": [
      "Sorry, you are too young to vote.\n",
      "Please register to vote as soon as you turn 18!\n"
     ]
    }
   ],
   "source": [
    "age = 17 \n",
    "if age >= 18: \n",
    " print(\"You are old enough to vote!\") \n",
    " print(\"Have you registered to vote yet?\") \n",
    "else: \n",
    " print(\"Sorry, you are too young to vote.\") \n",
    " print(\"Please register to vote as soon as you turn 18!\")"
   ]
  },
  {
   "cell_type": "code",
   "execution_count": 14,
   "id": "014bfd13-b255-4138-874d-660f4d1ff25a",
   "metadata": {},
   "outputs": [
    {
     "name": "stdout",
     "output_type": "stream",
     "text": [
      "Your admission cost is $25.\n"
     ]
    }
   ],
   "source": [
    "age = 12 \n",
    "if age < 4: \n",
    " print(\"Your admission cost is $0.\") \n",
    "elif age < 18: \n",
    " print(\"Your admission cost is $25.\") \n",
    "else: \n",
    " print(\"Your admission cost is $40.\")\n"
   ]
  },
  {
   "cell_type": "code",
   "execution_count": 15,
   "id": "3413d184-2c0d-45ed-be5a-7ace0963e572",
   "metadata": {},
   "outputs": [
    {
     "name": "stdout",
     "output_type": "stream",
     "text": [
      "Your admission cost is $25.\n"
     ]
    }
   ],
   "source": [
    "age = 12 \n",
    " \n",
    "if age < 4: \n",
    " price = 0 \n",
    "elif age < 18: \n",
    " price = 25 \n",
    "else: \n",
    " price = 40 \n",
    " \n",
    "print(f\"Your admission cost is ${price}.\")"
   ]
  },
  {
   "cell_type": "code",
   "execution_count": 16,
   "id": "d46d884d-c066-496e-a505-b0dee97e9202",
   "metadata": {},
   "outputs": [
    {
     "name": "stdout",
     "output_type": "stream",
     "text": [
      "Your admission cost is $25.\n"
     ]
    }
   ],
   "source": [
    "ge = 12 \n",
    " \n",
    "if age < 4: \n",
    " price = 0 \n",
    "elif age < 18: \n",
    " price = 25 \n",
    "elif age < 65: \n",
    " price = 40\n",
    "else: \n",
    " price = 20 \n",
    " \n",
    "print(f\"Your admission cost is ${price}.\") "
   ]
  },
  {
   "cell_type": "code",
   "execution_count": 17,
   "id": "e88a2b16-304c-4bee-af9b-c11d5712b26a",
   "metadata": {},
   "outputs": [
    {
     "name": "stdout",
     "output_type": "stream",
     "text": [
      "Adding mushrooms.\n",
      "Adding extra cheese.\n",
      "\n",
      "Finished making your pizza!\n"
     ]
    }
   ],
   "source": [
    "requested_toppings = ['mushrooms', 'extra cheese'] \n",
    " \n",
    "if 'mushrooms' in requested_toppings: \n",
    " print(\"Adding mushrooms.\") \n",
    "if 'pepperoni' in requested_toppings: \n",
    " print(\"Adding pepperoni.\") \n",
    "if 'extra cheese' in requested_toppings: \n",
    " print(\"Adding extra cheese.\") \n",
    " \n",
    " print(\"\\nFinished making your pizza!\")"
   ]
  },
  {
   "cell_type": "markdown",
   "id": "f8c638d5-d67d-4aa9-90a8-b58f4170b505",
   "metadata": {},
   "source": [
    "#使用 if 语句处理列表\n"
   ]
  },
  {
   "cell_type": "code",
   "execution_count": 18,
   "id": "d1b4284c-de34-4be4-8702-9fb1c279e374",
   "metadata": {},
   "outputs": [
    {
     "name": "stdout",
     "output_type": "stream",
     "text": [
      "Adding mushrooms.\n",
      "Adding green peppers.\n",
      "Adding extra cheese.\n",
      "\n",
      "Finished making your pizza!\n"
     ]
    }
   ],
   "source": [
    "5.4\n",
    "requested_toppings = ['mushrooms', 'green peppers', 'extra cheese'] \n",
    " \n",
    "for requested_topping in requested_toppings: \n",
    " print(f\"Adding {requested_topping}.\") \n",
    " \n",
    "print(\"\\nFinished making your pizza!\")"
   ]
  },
  {
   "cell_type": "code",
   "execution_count": 19,
   "id": "70a798bc-2c5e-4835-b0c7-76ed425614f6",
   "metadata": {},
   "outputs": [
    {
     "name": "stdout",
     "output_type": "stream",
     "text": [
      "Adding mushrooms.\n",
      "Sorry, we are out of green peppers right now.\n",
      "Adding extra cheese.\n",
      "\n",
      "Finished making your pizza!\n"
     ]
    }
   ],
   "source": [
    "requested_toppings = ['mushrooms', 'green peppers', 'extra cheese'] \n",
    " \n",
    "for requested_topping in requested_toppings: \n",
    " if requested_topping == 'green peppers': \n",
    "  print(\"Sorry, we are out of green peppers right now.\") \n",
    " else: \n",
    "  print(f\"Adding {requested_topping}.\") \n",
    " \n",
    "print(\"\\nFinished making your pizza!\")"
   ]
  },
  {
   "cell_type": "code",
   "execution_count": 20,
   "id": "bb50c66a-b91f-48b2-a56e-b7a12a2437b3",
   "metadata": {},
   "outputs": [
    {
     "name": "stdout",
     "output_type": "stream",
     "text": [
      "Are you sure you want a plain pizza?\n"
     ]
    }
   ],
   "source": [
    "requested_toppings = [] \n",
    " \n",
    "if requested_toppings: \n",
    " for requested_topping in requested_toppings: \n",
    "  print(f\"Adding {requested_topping}.\") \n",
    " print(\"\\nFinished making your pizza!\") \n",
    "else: \n",
    " print(\"Are you sure you want a plain pizza?\")"
   ]
  },
  {
   "cell_type": "code",
   "execution_count": 21,
   "id": "0322ef4c-5bfc-45c8-a2c2-017fc5f7b9aa",
   "metadata": {},
   "outputs": [
    {
     "name": "stdout",
     "output_type": "stream",
     "text": [
      "Adding mushrooms.\n",
      "Sorry, we don't have french fries.\n",
      "Adding extra cheese.\n",
      "\n",
      "Finished making your pizza!\n"
     ]
    }
   ],
   "source": [
    "available_toppings = ['mushrooms', 'olives', 'green peppers', \n",
    " 'pepperoni', 'pineapple', 'extra cheese'] \n",
    "requested_toppings = ['mushrooms', 'french fries', 'extra cheese'] \n",
    " \n",
    "for requested_topping in requested_toppings: \n",
    " if requested_topping in available_toppings: \n",
    "  print(f\"Adding {requested_topping}.\") \n",
    " else: \n",
    "  print(f\"Sorry, we don't have {requested_topping}.\") \n",
    " \n",
    "print(\"\\nFinished making your pizza!\")"
   ]
  },
  {
   "cell_type": "markdown",
   "id": "33813631-bed5-412e-8ad6-70b1697fc003",
   "metadata": {},
   "source": [
    "# 练习题"
   ]
  },
  {
   "cell_type": "code",
   "execution_count": 23,
   "id": "479a853a-3846-4d9a-bf6f-9b374cddfe8f",
   "metadata": {},
   "outputs": [
    {
     "name": "stdout",
     "output_type": "stream",
     "text": [
      "Is life == 'water'? I predict True.\n"
     ]
    }
   ],
   "source": [
    "5.1\n",
    "life= 'water' \n",
    "print(\"Is life == 'water'? I predict True.\")\n"
   ]
  },
  {
   "cell_type": "code",
   "execution_count": 24,
   "id": "f1168681-9771-4e91-8f3d-e623f8743a8f",
   "metadata": {},
   "outputs": [
    {
     "name": "stdout",
     "output_type": "stream",
     "text": [
      "True\n"
     ]
    }
   ],
   "source": [
    "car='water'\n",
    "print(car == 'water') "
   ]
  },
  {
   "cell_type": "code",
   "execution_count": 25,
   "id": "956dc774-3b74-4bde-987e-3b3513e676dc",
   "metadata": {},
   "outputs": [
    {
     "name": "stdout",
     "output_type": "stream",
     "text": [
      "\n",
      "Is life='water'?I predict False\n"
     ]
    }
   ],
   "source": [
    "life= 'water'\n",
    "print(\"\\nIs life='water'?I predict False\")"
   ]
  },
  {
   "cell_type": "code",
   "execution_count": 26,
   "id": "466f324b-10c8-42d8-a9a0-dd0a90fa3064",
   "metadata": {},
   "outputs": [
    {
     "ename": "TypeError",
     "evalue": "'life' is an invalid keyword argument for print()",
     "output_type": "error",
     "traceback": [
      "\u001b[1;31m---------------------------------------------------------------------------\u001b[0m",
      "\u001b[1;31mTypeError\u001b[0m                                 Traceback (most recent call last)",
      "Cell \u001b[1;32mIn[26], line 2\u001b[0m\n\u001b[0;32m      1\u001b[0m life\u001b[38;5;241m=\u001b[39m \u001b[38;5;124m'\u001b[39m\u001b[38;5;124mwater\u001b[39m\u001b[38;5;124m'\u001b[39m\n\u001b[1;32m----> 2\u001b[0m \u001b[38;5;28mprint\u001b[39m(life\u001b[38;5;241m=\u001b[39m\u001b[38;5;124m'\u001b[39m\u001b[38;5;124msalt\u001b[39m\u001b[38;5;124m'\u001b[39m)\n",
      "\u001b[1;31mTypeError\u001b[0m: 'life' is an invalid keyword argument for print()"
     ]
    }
   ],
   "source": [
    "life= 'water'\n",
    "print(life='salt')"
   ]
  },
  {
   "cell_type": "code",
   "execution_count": 27,
   "id": "a007d977-38da-4698-8124-3d50ff2e8390",
   "metadata": {},
   "outputs": [
    {
     "name": "stdout",
     "output_type": "stream",
     "text": [
      "\n",
      "Is number greater than 5? I predict True.\n",
      "True\n"
     ]
    }
   ],
   "source": [
    "number = 10 \n",
    "print(\"\\nIs number greater than 5? I predict True.\")\n",
    "print(number > 5)  "
   ]
  },
  {
   "cell_type": "code",
   "execution_count": 28,
   "id": "2b688cbc-5c00-41b3-b49c-98b9fd3e1e35",
   "metadata": {},
   "outputs": [
    {
     "name": "stdout",
     "output_type": "stream",
     "text": [
      "\n",
      "Is string a string? I predict True.\n",
      "True\n",
      "\n",
      "Is 3 in list_of_numbers? I predict True.\n",
      "True\n",
      "\n",
      "Does dictionary have a key 'key'? I predict True.\n",
      "True\n",
      "\n",
      "Is boolean_value equal to True? I predict True.\n",
      "True\n",
      "\n",
      "Is number less than 5? I predict False.\n",
      "False\n",
      "\n",
      "Is string equal to 'world'? I predict False.\n",
      "False\n",
      "\n",
      "Is 6 in list_of_numbers? I predict False.\n",
      "False\n",
      "\n",
      "Does dictionary have a key 'value'? I predict False.\n",
      "False\n",
      "\n",
      "Is boolean_value equal to False? I predict False.\n",
      "False\n"
     ]
    }
   ],
   "source": [
    "string = \"hello\"  \n",
    "list_of_numbers = [1, 2, 3, 4, 5]  \n",
    "dictionary = {\"key\": \"value\"}  \n",
    "boolean_value = True \n",
    "\n",
    "print(\"\\nIs string a string? I predict True.\")  \n",
    "print(isinstance(string, str))   \n",
    "  \n",
    "print(\"\\nIs 3 in list_of_numbers? I predict True.\")  \n",
    "print(3 in list_of_numbers) \n",
    "  \n",
    "print(\"\\nDoes dictionary have a key 'key'? I predict True.\")  \n",
    "print(\"key\" in dictionary)  \n",
    "  \n",
    "print(\"\\nIs boolean_value equal to True? I predict True.\")  \n",
    "print(boolean_value == True)  \n",
    "  \n",
    "\n",
    "print(\"\\nIs number less than 5? I predict False.\")  \n",
    "print(number < 5)  # False  \n",
    "  \n",
    "print(\"\\nIs string equal to 'world'? I predict False.\")  \n",
    "print(string == \"world\")  \n",
    "  \n",
    "print(\"\\nIs 6 in list_of_numbers? I predict False.\")  \n",
    "print(6 in list_of_numbers)  \n",
    "  \n",
    "print(\"\\nDoes dictionary have a key 'value'? I predict False.\")  \n",
    "print(\"value\" in dictionary) \n",
    "  \n",
    "print(\"\\nIs boolean_value equal to False? I predict False.\")  \n",
    "print(boolean_value == False)  "
   ]
  },
  {
   "cell_type": "code",
   "execution_count": 29,
   "id": "875c199e-f1c2-422c-bf7e-53dbc8c8e8cc",
   "metadata": {},
   "outputs": [
    {
     "name": "stdout",
     "output_type": "stream",
     "text": [
      "apple=banana?False \n",
      "apple=grape? True\n",
      "apple != banana? False\n",
      "apple != grape? True\n"
     ]
    }
   ],
   "source": [
    "5.2\n",
    "apple =\"red\"  \n",
    "banana = \"red\"  \n",
    "grape = \"purple\"  \n",
    "  \n",
    "\n",
    "print(f\"apple=banana?{apple != banana} \")   \n",
    "print(f\"apple=grape? {apple != grape}\")   \n",
    "  \n",
    "\n",
    "print(f\"apple != banana? {apple != banana}\")  \n",
    "print(f\"apple != grape? {apple != grape}\")  \n"
   ]
  },
  {
   "cell_type": "code",
   "execution_count": 30,
   "id": "5525cd93-f70c-48cf-b31e-fbfe99195070",
   "metadata": {},
   "outputs": [
    {
     "name": "stdout",
     "output_type": "stream",
     "text": [
      "mixed_case.lower() == lower_case? True\n",
      "mixed_case.lower() == 'HELLO WORLD'? False\n"
     ]
    }
   ],
   "source": [
    "mixed_case = \"Hello World\"  \n",
    "lower_case = \"hello world\"  \n",
    "  \n",
    "print(f\"mixed_case.lower() == lower_case? {mixed_case.lower() == lower_case}\")   \n",
    "print(f\"mixed_case.lower() == 'HELLO WORLD'? {mixed_case.lower() == 'HELLO WORLD'}\") "
   ]
  },
  {
   "cell_type": "code",
   "execution_count": 31,
   "id": "5895cd65-0829-4085-b039-fc9c0938a0d1",
   "metadata": {},
   "outputs": [
    {
     "name": "stdout",
     "output_type": "stream",
     "text": [
      "num1 == num2? False\n",
      "num1 != num2? True\n",
      "num1 < num2? True\n",
      "num1 > num2? False\n",
      "num1 <= num2? True\n",
      "num1 >= num2? False\n"
     ]
    }
   ],
   "source": [
    "num1 = 5  \n",
    "num2 = 10  \n",
    "   \n",
    "print(f\"num1 == num2? {num1 == num2}\")   \n",
    "print(f\"num1 != num2? {num1 != num2}\") \n",
    "print(f\"num1 < num2? {num1 < num2}\") \n",
    "print(f\"num1 > num2? {num1 > num2}\")   \n",
    "print(f\"num1 <= num2? {num1 <= num2}\")  \n",
    "print(f\"num1 >= num2? {num1 >= num2}\")  "
   ]
  },
  {
   "cell_type": "code",
   "execution_count": 32,
   "id": "99e95e8b-52f9-43f9-9753-1f7b16d0b4c8",
   "metadata": {},
   "outputs": [
    {
     "name": "stdout",
     "output_type": "stream",
     "text": [
      "condition1 and condition1? True\n",
      "condition1 and condition2? False\n",
      "condition1 or condition2? True\n",
      "condition2 or condition2? False\n"
     ]
    }
   ],
   "source": [
    "condition1 = True  \n",
    "condition2 = False  \n",
    "  \n",
    "\n",
    "print(f\"condition1 and condition1? {condition1 and condition1}\")  \n",
    "print(f\"condition1 and condition2? {condition1 and condition2}\")   \n",
    "  \n",
    "\n",
    "print(f\"condition1 or condition2? {condition1 or condition2}\")   \n",
    "print(f\"condition2 or condition2? {condition2 or condition2}\")  \n"
   ]
  },
  {
   "cell_type": "code",
   "execution_count": 33,
   "id": "b3b24d0d-00c6-472a-b696-116656650b49",
   "metadata": {},
   "outputs": [
    {
     "name": "stdout",
     "output_type": "stream",
     "text": [
      "3 in my_list? True\n",
      "6 in my_list? False\n"
     ]
    }
   ],
   "source": [
    "my_list = [1, 2, 3, 4, 5]  \n",
    "value_to_check = 3  \n",
    "not_in_list = 6  \n",
    "  \n",
    "\n",
    "print(f\"{value_to_check} in my_list? {value_to_check in my_list}\")  \n",
    "print(f\"{not_in_list} in my_list? {not_in_list in my_list}\") \n"
   ]
  },
  {
   "cell_type": "code",
   "execution_count": 34,
   "id": "547549ea-9830-46e2-a253-b856dc6b777e",
   "metadata": {},
   "outputs": [
    {
     "name": "stdout",
     "output_type": "stream",
     "text": [
      "not 6 in my_list? True\n",
      "not 3 in my_list? False\n"
     ]
    }
   ],
   "source": [
    "print(f\"not {not_in_list} in my_list? {not not_in_list in my_list}\") \n",
    "print(f\"not {value_to_check} in my_list? {not value_to_check in my_list}\")  \n"
   ]
  },
  {
   "cell_type": "code",
   "execution_count": 35,
   "id": "3a6ccbd0-c9d3-4b25-a074-b2aa3a7af0a4",
   "metadata": {},
   "outputs": [
    {
     "name": "stdout",
     "output_type": "stream",
     "text": [
      "You get 5 points!\n"
     ]
    }
   ],
   "source": [
    "5.3\n",
    "alien_color='green'\n",
    "if alien_color == 'green':  \n",
    "    print(\"You get 5 points!\")"
   ]
  },
  {
   "cell_type": "code",
   "execution_count": 42,
   "id": "dec027b8-ca97-4e00-aa99-034e067b7156",
   "metadata": {},
   "outputs": [],
   "source": [
    "alien_color='red'\n",
    "if alien_color == 'green':  \n",
    "    print(\"You get 5 points!\")"
   ]
  },
  {
   "cell_type": "code",
   "execution_count": 41,
   "id": "26a06d8e-f0db-465e-be1a-8c23c4640e71",
   "metadata": {},
   "outputs": [
    {
     "name": "stdout",
     "output_type": "stream",
     "text": [
      "You get 5 points!\n"
     ]
    }
   ],
   "source": [
    "5.4\n",
    "alien_color='green'\n",
    "if alien_color == 'green':  \n",
    "    print(\"You get 5 points!\")\n",
    "else:\n",
    "    print(\"You get 10 points!\")"
   ]
  },
  {
   "cell_type": "code",
   "execution_count": 43,
   "id": "a865dae2-625d-481c-b1af-37005347df6c",
   "metadata": {},
   "outputs": [
    {
     "name": "stdout",
     "output_type": "stream",
     "text": [
      "You get 15 points!\n"
     ]
    }
   ],
   "source": [
    "5.5\n",
    "alien_color='red'\n",
    "if alien_color=='green':\n",
    "   print(\"You get 5 points!\")\n",
    "elif alien_color=='yellow':\n",
    "   print(\"You get 5 points!\")\n",
    "else:\n",
    "   print(\"You get 15 points!\")"
   ]
  },
  {
   "cell_type": "code",
   "execution_count": 44,
   "id": "685a1372-72a4-449d-bb29-cbdd1201ccd3",
   "metadata": {},
   "outputs": [
    {
     "name": "stdout",
     "output_type": "stream",
     "text": [
      "这个人是中青年人。\n"
     ]
    }
   ],
   "source": [
    "5.6\n",
    "age=20\n",
    "if age < 2:  \n",
    "    print(\"这个人是婴儿。\")  \n",
    "elif 2 <= age < 4:  \n",
    "    print(\"这个人是幼儿。\")  \n",
    "elif 4 <= age < 13:  \n",
    "    print(\"这个人是儿童。\")  \n",
    "elif 13 <= age < 18:  \n",
    "    print(\"这个人是少年。\")  \n",
    "elif 18 <= age < 65:  \n",
    "    print(\"这个人是中青年人。\")  \n",
    "else: \n",
    "    print(\"这个人是老年人。\")"
   ]
  },
  {
   "cell_type": "code",
   "execution_count": 45,
   "id": "e75a5b94-e2c3-4fe6-ac25-87de76b2ce85",
   "metadata": {},
   "outputs": [
    {
     "name": "stdout",
     "output_type": "stream",
     "text": [
      "You really like bananas！\n",
      "You really like apples!\n",
      "You really like oranges！\n",
      " You don't like strawberry.\n",
      "You don't like grapes.\n"
     ]
    }
   ],
   "source": [
    "5.7\n",
    "favorite_fruits = ['banana', 'apple', 'orange']  \n",
    "  \n",
    "if 'banana' in favorite_fruits:  \n",
    "    print(\"You really like bananas！\")  \n",
    "  \n",
    "if 'apple' in favorite_fruits:  \n",
    "    print(\"You really like apples!\")  \n",
    "  \n",
    "if 'orange' in favorite_fruits:  \n",
    "    print(\"You really like oranges！\")  \n",
    "  \n",
    "if 'strawberry' in favorite_fruits:  \n",
    "    print(\"You really like strawberry！\")  \n",
    "else:  \n",
    "    print(\" You don't like strawberry.\")  \n",
    "  \n",
    "if 'grape' in favorite_fruits:  \n",
    "    print(\"You really like grapes!\")  \n",
    "else:  \n",
    "    print(\"You don't like grapes.\")\n"
   ]
  },
  {
   "cell_type": "code",
   "execution_count": 46,
   "id": "2c4a9ba5-fa9f-4b93-96e1-0f2da2afa22b",
   "metadata": {},
   "outputs": [
    {
     "name": "stdout",
     "output_type": "stream",
     "text": [
      "Hello Jaden, thank you for logging in again.\n",
      "Hello Alice, thank you for logging in again.\n",
      "Hello Bob, thank you for logging in again.\n",
      "Hello Charlie, thank you for logging in again.\n",
      "Hello admin, would you like to see a status report?\n"
     ]
    }
   ],
   "source": [
    "5.8\n",
    "users = ['Jaden', 'Alice', 'Bob', 'Charlie', 'admin']  \n",
    "  \n",
    "\n",
    "for user in users:  \n",
    "  if user == 'admin':  \n",
    "          print(f\"Hello {user}, would you like to see a status report?\") \n",
    "  elif user=='':\n",
    "          print(\"We need to find some users!\")\n",
    "  else:  \n",
    "          print(f\"Hello {user}, thank you for logging in again.\")\n"
   ]
  },
  {
   "cell_type": "code",
   "execution_count": 47,
   "id": "dca2e752-3b01-4694-9e31-d3e1f8bad86e",
   "metadata": {},
   "outputs": [
    {
     "name": "stdout",
     "output_type": "stream",
     "text": [
      "ID 'Frank' is ok。\n",
      "ID 'Alice' has been used，plese use another ID。\n",
      "ID 'Grace' is ok。\n",
      "ID 'bob' has been used，plese use another ID。\n",
      "ID 'Henry' is ok。\n"
     ]
    }
   ],
   "source": [
    "current_users = ['Alice', 'bob', 'Charlie', 'david', 'Eve']  \n",
    "new_users = ['Frank', 'Alice', 'Grace', 'bob', 'Henry']  \n",
    "  \n",
    "lowercase_current_users = [user.lower() for user in current_users]  \n",
    "  \n",
    "for new_user in new_users:      \n",
    "    lowercase_new_user = new_user.lower()  \n",
    "       \n",
    "    if lowercase_new_user in lowercase_current_users:     \n",
    "        print(f\"ID '{new_user}' has been used，plese use another ID。\")  \n",
    "    else:  \n",
    "        print(f\"ID '{new_user}' is ok。\")"
   ]
  },
  {
   "cell_type": "code",
   "execution_count": 48,
   "id": "831a17a7-08c3-4e6a-bafc-9c4c91b6cb0b",
   "metadata": {},
   "outputs": [
    {
     "name": "stdout",
     "output_type": "stream",
     "text": [
      "1st\n",
      "2nd\n",
      "3rd\n",
      "4th\n",
      "5th\n",
      "6th\n",
      "7th\n",
      "8th\n",
      "9th\n"
     ]
    }
   ],
   "source": [
    "numbers = [1, 2, 3, 4, 5, 6, 7, 8, 9]  \n",
    "    \n",
    "for number in numbers:  \n",
    "    if number == 1:  \n",
    "        print(\"1st\")  \n",
    "    elif number == 2:  \n",
    "        print(\"2nd\")  \n",
    "    elif number == 3:  \n",
    "        print(\"3rd\")  \n",
    "    else:   \n",
    "        print(f\"{number}th\")"
   ]
  }
 ],
 "metadata": {
  "kernelspec": {
   "display_name": "Python 3 (ipykernel)",
   "language": "python",
   "name": "python3"
  },
  "language_info": {
   "codemirror_mode": {
    "name": "ipython",
    "version": 3
   },
   "file_extension": ".py",
   "mimetype": "text/x-python",
   "name": "python",
   "nbconvert_exporter": "python",
   "pygments_lexer": "ipython3",
   "version": "3.11.7"
  }
 },
 "nbformat": 4,
 "nbformat_minor": 5
}
