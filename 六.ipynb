{
 "cells": [
  {
   "cell_type": "markdown",
   "id": "6faa8101-2f3c-4720-ade7-35f538f0632f",
   "metadata": {},
   "source": [
    "# 第六章"
   ]
  },
  {
   "cell_type": "markdown",
   "id": "bc1a9d30-c306-4c45-99c6-d0cc1cbe22a2",
   "metadata": {},
   "source": [
    "#一个简单的字典"
   ]
  },
  {
   "cell_type": "code",
   "execution_count": 1,
   "id": "3ae71d41-8db2-43d2-a8d1-1144ff9ef832",
   "metadata": {},
   "outputs": [
    {
     "name": "stdout",
     "output_type": "stream",
     "text": [
      "green\n",
      "5\n"
     ]
    }
   ],
   "source": [
    "alien_0 = {'color': 'green', 'points': 5} \n",
    " \n",
    "print(alien_0['color']) \n",
    "print(alien_0['points'])"
   ]
  },
  {
   "cell_type": "markdown",
   "id": "0a610d69-8490-4164-a1a1-26caa782dccd",
   "metadata": {},
   "source": [
    "#使用字典"
   ]
  },
  {
   "cell_type": "code",
   "execution_count": 2,
   "id": "98934ea1-22bb-4df8-ba5c-cfdf056c157d",
   "metadata": {},
   "outputs": [
    {
     "name": "stdout",
     "output_type": "stream",
     "text": [
      "green\n"
     ]
    }
   ],
   "source": [
    "alien_0 = {'color': 'green'} \n",
    "print(alien_0['color'])"
   ]
  },
  {
   "cell_type": "code",
   "execution_count": 3,
   "id": "ef8bed29-19f1-422d-8812-a7b4dcb6e4ff",
   "metadata": {},
   "outputs": [
    {
     "name": "stdout",
     "output_type": "stream",
     "text": [
      "You just earned 5 points!\n"
     ]
    }
   ],
   "source": [
    "alien_0 = {'color': 'green', 'points': 5} \n",
    " \n",
    "new_points = alien_0['points']\n",
    "print(f\"You just earned {new_points} points!\")"
   ]
  },
  {
   "cell_type": "code",
   "execution_count": 4,
   "id": "d8939967-b59e-4ad9-b978-66f627960f02",
   "metadata": {},
   "outputs": [
    {
     "name": "stdout",
     "output_type": "stream",
     "text": [
      "{'color': 'green', 'points': 5}\n",
      "{'color': 'green', 'points': 5, 'x_position': 0, 'y_position': 25}\n"
     ]
    }
   ],
   "source": [
    "alien_0 = {'color': 'green', 'points': 5} \n",
    "print(alien_0) \n",
    " \n",
    "alien_0['x_position'] = 0\n",
    "alien_0['y_position'] = 25\n",
    "print(alien_0)\n"
   ]
  },
  {
   "cell_type": "code",
   "execution_count": 5,
   "id": "bca8aa7f-eec6-4454-96ea-d3d62c395c3a",
   "metadata": {},
   "outputs": [
    {
     "name": "stdout",
     "output_type": "stream",
     "text": [
      "{'color': 'green', 'points': 5}\n"
     ]
    }
   ],
   "source": [
    "alien_0 = {} \n",
    " \n",
    "alien_0['color'] = 'green' \n",
    "alien_0['points'] = 5 \n",
    " \n",
    "print(alien_0)"
   ]
  },
  {
   "cell_type": "code",
   "execution_count": 6,
   "id": "f8a21e9e-e2eb-47e6-8b3b-2e6e4d66181f",
   "metadata": {},
   "outputs": [
    {
     "name": "stdout",
     "output_type": "stream",
     "text": [
      "The alien is green.\n",
      "The alien is now yellow.\n"
     ]
    }
   ],
   "source": [
    "alien_0 = {'color': 'green'} \n",
    "print(f\"The alien is {alien_0['color']}.\") \n",
    " \n",
    "alien_0['color'] = 'yellow' \n",
    "print(f\"The alien is now {alien_0['color']}.\")\n"
   ]
  },
  {
   "cell_type": "code",
   "execution_count": 13,
   "id": "4cc46770-32cd-4a94-8c60-dd325632f975",
   "metadata": {},
   "outputs": [
    {
     "name": "stdout",
     "output_type": "stream",
     "text": [
      "Original position: 0\n",
      "New position: 2\n"
     ]
    }
   ],
   "source": [
    "alien_0 = {'x_position': 0, 'y_position': 25, 'speed': 'medium'} \n",
    "print(f\"Original position: {alien_0['x_position']}\") \n",
    "\n",
    " # 向右移动外星人  # 根据当前速度确定将外星人向右移动多远 \n",
    "if alien_0['speed'] == 'slow': \n",
    " x_increment = 1 \n",
    "elif alien_0['speed'] == 'medium': \n",
    " x_increment = 2 \n",
    "else: \n",
    " # 这个外星人的移动速度肯定很快 \n",
    " x_increment = 3 \n",
    " \n",
    " # 新位置为旧位置加上移动距离 \n",
    "alien_0['x_position'] = alien_0['x_position'] + x_increment \n",
    " \n",
    "print(f\"New position: {alien_0['x_position']}\")\n"
   ]
  },
  {
   "cell_type": "code",
   "execution_count": 14,
   "id": "72ec4e95-c066-471a-a8f7-e1d0806b4f0c",
   "metadata": {},
   "outputs": [
    {
     "name": "stdout",
     "output_type": "stream",
     "text": [
      "Original position: 0\n",
      "New position: 3\n"
     ]
    }
   ],
   "source": [
    "alien_0 = {'x_position': 0, 'y_position': 25, 'speed': 'medium'} \n",
    "print(f\"Original position: {alien_0['x_position']}\") \n",
    "alien_0['speed'] = 'fast'\n",
    " # 向右移动外星人  # 根据当前速度确定将外星人向右移动多远 \n",
    "if alien_0['speed'] == 'slow': \n",
    " x_increment = 1 \n",
    "elif alien_0['speed'] == 'medium': \n",
    " x_increment = 2 \n",
    "else: \n",
    " # 这个外星人的移动速度肯定很快 \n",
    " x_increment = 3 \n",
    " \n",
    " # 新位置为旧位置加上移动距离 \n",
    "alien_0['x_position'] = alien_0['x_position'] + x_increment \n",
    " \n",
    "print(f\"New position: {alien_0['x_position']}\")"
   ]
  },
  {
   "cell_type": "code",
   "execution_count": 15,
   "id": "3d38b096-9516-4127-846c-e8e73ad45d15",
   "metadata": {},
   "outputs": [
    {
     "name": "stdout",
     "output_type": "stream",
     "text": [
      "{'color': 'green', 'points': 5}\n",
      "{'color': 'green'}\n"
     ]
    }
   ],
   "source": [
    "alien_0 = {'color': 'green', 'points': 5} \n",
    "print(alien_0) \n",
    " \n",
    "del alien_0['points'] \n",
    "print(alien_0)\n"
   ]
  },
  {
   "cell_type": "code",
   "execution_count": 16,
   "id": "58e83fb9-1d62-4d3a-8bd2-a36e695b5ba3",
   "metadata": {},
   "outputs": [
    {
     "name": "stdout",
     "output_type": "stream",
     "text": [
      "Sarah's favorite language is C.\n"
     ]
    }
   ],
   "source": [
    "favorite_languages = { \n",
    " 'jen': 'python', \n",
    " 'sarah': 'c', \n",
    " 'edward': 'rust', \n",
    " 'phil': 'python', \n",
    " } \n",
    "language = favorite_languages['sarah'].title() \n",
    "print(f\"Sarah's favorite language is {language}.\")"
   ]
  },
  {
   "cell_type": "code",
   "execution_count": 17,
   "id": "2b62b8d8-e91a-4c35-8289-2ef1f2661748",
   "metadata": {},
   "outputs": [
    {
     "ename": "KeyError",
     "evalue": "'points'",
     "output_type": "error",
     "traceback": [
      "\u001b[1;31m---------------------------------------------------------------------------\u001b[0m",
      "\u001b[1;31mKeyError\u001b[0m                                  Traceback (most recent call last)",
      "Cell \u001b[1;32mIn[17], line 2\u001b[0m\n\u001b[0;32m      1\u001b[0m alien_0 \u001b[38;5;241m=\u001b[39m {\u001b[38;5;124m'\u001b[39m\u001b[38;5;124mcolor\u001b[39m\u001b[38;5;124m'\u001b[39m: \u001b[38;5;124m'\u001b[39m\u001b[38;5;124mgreen\u001b[39m\u001b[38;5;124m'\u001b[39m, \u001b[38;5;124m'\u001b[39m\u001b[38;5;124mspeed\u001b[39m\u001b[38;5;124m'\u001b[39m: \u001b[38;5;124m'\u001b[39m\u001b[38;5;124mslow\u001b[39m\u001b[38;5;124m'\u001b[39m} \n\u001b[1;32m----> 2\u001b[0m \u001b[38;5;28mprint\u001b[39m(alien_0[\u001b[38;5;124m'\u001b[39m\u001b[38;5;124mpoints\u001b[39m\u001b[38;5;124m'\u001b[39m])\n",
      "\u001b[1;31mKeyError\u001b[0m: 'points'"
     ]
    }
   ],
   "source": [
    "alien_0 = {'color': 'green', 'speed': 'slow'} \n",
    "print(alien_0['points'])\n"
   ]
  },
  {
   "cell_type": "code",
   "execution_count": 18,
   "id": "9a37fb56-a14a-46b2-9bd4-b96268285063",
   "metadata": {},
   "outputs": [
    {
     "name": "stdout",
     "output_type": "stream",
     "text": [
      "No point value assigned.\n"
     ]
    }
   ],
   "source": [
    "alien_0 = {'color': 'green', 'speed': 'slow'} \n",
    " \n",
    "point_value = alien_0.get('points', 'No point value assigned.')\n",
    "print(point_value)\n"
   ]
  },
  {
   "cell_type": "markdown",
   "id": "186efe9d-c330-4280-9740-e06bd14a0d84",
   "metadata": {},
   "source": [
    "#遍历字典"
   ]
  },
  {
   "cell_type": "code",
   "execution_count": 20,
   "id": "c6806bbc-806f-4965-a2a4-514e3be5950d",
   "metadata": {},
   "outputs": [
    {
     "name": "stdout",
     "output_type": "stream",
     "text": [
      "\n",
      "Key:username\n",
      "Value:efermi\n",
      "\n",
      "Key:first\n",
      "Value:enrico\n",
      "\n",
      "Key:last\n",
      "Value:fermi\n",
      "Jen's favorite language is Python.\n",
      "Sarah's favorite language is C.\n",
      "Edward's favorite language is Rust.\n",
      "Phil's favorite language is Python.\n"
     ]
    }
   ],
   "source": [
    "6.3\n",
    "user_0={\n",
    "'username':'efermi',\n",
    "'first':'enrico',\n",
    "'last':'fermi',\n",
    "}\n",
    "for key, value in user_0.items():\n",
    "    print(f\"\\nKey:{key}\")\n",
    "    print(f\"Value:{value}\")\n",
    "\n",
    "\n",
    "favorite_languages = { \n",
    " 'jen': 'python', \n",
    " 'sarah': 'c', \n",
    " 'edward': 'rust', \n",
    " 'phil': 'python', \n",
    " } \n",
    "for name,language in favorite_languages.items():\n",
    "    print(f\"{name.title()}'s favorite language is {language.title()}.\")"
   ]
  },
  {
   "cell_type": "code",
   "execution_count": 21,
   "id": "3a763c20-bbb6-4188-aa56-35705b542cac",
   "metadata": {},
   "outputs": [
    {
     "name": "stdout",
     "output_type": "stream",
     "text": [
      "Jen\n",
      "Sarah\n",
      "Edward\n",
      "Phil\n"
     ]
    }
   ],
   "source": [
    "favorite_languages = {\n",
    " 'jen': 'python',\n",
    " 'sarah': 'c',\n",
    " 'edward': 'rust',\n",
    " 'phil': 'python',\n",
    " }\n",
    "for name in favorite_languages.keys():\n",
    " print(name.title())"
   ]
  },
  {
   "cell_type": "code",
   "execution_count": 27,
   "id": "872b0d56-8473-4c7b-b152-27278fdf4e33",
   "metadata": {},
   "outputs": [
    {
     "ename": "SyntaxError",
     "evalue": "invalid syntax (2414857948.py, line 2)",
     "output_type": "error",
     "traceback": [
      "\u001b[1;36m  Cell \u001b[1;32mIn[27], line 2\u001b[1;36m\u001b[0m\n\u001b[1;33m    --snip-- }\u001b[0m\n\u001b[1;37m             ^\u001b[0m\n\u001b[1;31mSyntaxError\u001b[0m\u001b[1;31m:\u001b[0m invalid syntax\n"
     ]
    }
   ],
   "source": [
    " favorite_languages = { \n",
    " --snip-- } \n",
    " \n",
    " friends = ['phil', 'sarah'] \n",
    " for name in favorite_languages.keys(): \n",
    " print(f\"Hi {name.title()}.\") \n",
    " \n",
    " if name in friends: \n",
    " language = favorite_languages[name].title() \n",
    " print(f\"\\t{name.title()}, I see you love {language}!\")"
   ]
  },
  {
   "cell_type": "code",
   "execution_count": 26,
   "id": "0c5d5889-46ee-432b-87d6-0cc04bbf1c1d",
   "metadata": {},
   "outputs": [
    {
     "ename": "SyntaxError",
     "evalue": "invalid syntax (1141498759.py, line 3)",
     "output_type": "error",
     "traceback": [
      "\u001b[1;36m  Cell \u001b[1;32mIn[26], line 3\u001b[1;36m\u001b[0m\n\u001b[1;33m    } ,\u001b[0m\n\u001b[1;37m    ^\u001b[0m\n\u001b[1;31mSyntaxError\u001b[0m\u001b[1;31m:\u001b[0m invalid syntax\n"
     ]
    }
   ],
   "source": [
    "favorite_languages ={ \n",
    " --snip--\n",
    "  } \n",
    " \n",
    "if 'erin' not in favorite_languages.keys(): \n",
    " print(\"Erin, please take our poll!\")"
   ]
  },
  {
   "cell_type": "code",
   "execution_count": 28,
   "id": "126884cf-375c-4b45-918b-1649065cac75",
   "metadata": {},
   "outputs": [
    {
     "name": "stdout",
     "output_type": "stream",
     "text": [
      "Edward, thank you for taking the poll.\n",
      "Jen, thank you for taking the poll.\n",
      "Phil, thank you for taking the poll.\n",
      "Sarah, thank you for taking the poll.\n"
     ]
    }
   ],
   "source": [
    " favorite_languages = { \n",
    " 'jen': 'python', \n",
    " 'sarah': 'c', \n",
    " 'edward': 'rust', \n",
    " 'phil': 'python', \n",
    " } \n",
    " \n",
    "for name in sorted(favorite_languages.keys()): \n",
    "     print(f\"{name.title()}, thank you for taking the poll.\")\n"
   ]
  },
  {
   "cell_type": "code",
   "execution_count": 29,
   "id": "f7cfa745-0298-40ad-a54a-d5cf8fe7b959",
   "metadata": {},
   "outputs": [
    {
     "name": "stdout",
     "output_type": "stream",
     "text": [
      "The following languages have been mentioned:\n",
      "Python\n",
      "C\n",
      "Rust\n",
      "Python\n"
     ]
    }
   ],
   "source": [
    " favorite_languages = { \n",
    " 'jen': 'python', \n",
    " 'sarah': 'c', \n",
    " 'edward': 'rust', \n",
    " 'phil': 'python', \n",
    " } \n",
    " \n",
    "print(\"The following languages have been mentioned:\")\n",
    "for language in favorite_languages.values(): \n",
    "    print(language.title())"
   ]
  },
  {
   "cell_type": "code",
   "execution_count": null,
   "id": "c0d10581-3713-412d-b696-61c0284e4e10",
   "metadata": {},
   "outputs": [],
   "source": [
    "favorite_languages = { \n",
    " --snip-- \n",
    " } \n",
    " \n",
    "print(\"The following languages have been mentioned:\") \n",
    "for language in set(favorite_languages.values()): \n",
    " print(language.title()) \n"
   ]
  },
  {
   "cell_type": "markdown",
   "id": "73a7aa63-9f22-4d9a-bd53-9a43b1021e9d",
   "metadata": {},
   "source": [
    "#嵌套"
   ]
  },
  {
   "cell_type": "code",
   "execution_count": 31,
   "id": "122d1e32-e4ae-47d7-8d1d-018bb44d5959",
   "metadata": {},
   "outputs": [
    {
     "name": "stdout",
     "output_type": "stream",
     "text": [
      "{'color': 'green', 'points': 5}\n",
      "{'color': 'yellow', 'points': 10}\n",
      "{'color': 'red', 'points': 15}\n"
     ]
    }
   ],
   "source": [
    "6.4\n",
    "alien_0 = {'color': 'green', 'points': 5} \n",
    "alien_1 = {'color': 'yellow', 'points': 10} \n",
    "alien_2 = {'color': 'red', 'points': 15} \n",
    "aliens = [alien_0, alien_1, alien_2] \n",
    "for alien in aliens: \n",
    "  print(alien)\n"
   ]
  },
  {
   "cell_type": "code",
   "execution_count": 32,
   "id": "b4481be7-7697-4680-9b50-ad8386b85b5d",
   "metadata": {},
   "outputs": [
    {
     "name": "stdout",
     "output_type": "stream",
     "text": [
      "{'color': 'green', 'points': 5, 'speed': 'slow'}\n",
      "{'color': 'green', 'points': 5, 'speed': 'slow'}\n",
      "{'color': 'green', 'points': 5, 'speed': 'slow'}\n",
      "{'color': 'green', 'points': 5, 'speed': 'slow'}\n",
      "{'color': 'green', 'points': 5, 'speed': 'slow'}\n",
      "...\n",
      "Total number of aliens: 30\n"
     ]
    }
   ],
   "source": [
    "aliens = []\n",
    "for alien_number in range(30): \n",
    " new_alien = {'color': 'green', 'points': 5, 'speed': 'slow'} \n",
    " aliens.append(new_alien) \n",
    "for alien in aliens[:5]: \n",
    "  print(alien) \n",
    "print(\"...\") \n",
    "print(f\"Total number of aliens: {len(aliens)}\")"
   ]
  },
  {
   "cell_type": "code",
   "execution_count": 33,
   "id": "bfd97483-2330-410b-91a5-8c1c104801a3",
   "metadata": {},
   "outputs": [
    {
     "name": "stdout",
     "output_type": "stream",
     "text": [
      "{'color': 'yellow', 'points': 10, 'speed': 'medium'}\n",
      "{'color': 'yellow', 'points': 10, 'speed': 'medium'}\n",
      "{'color': 'yellow', 'points': 10, 'speed': 'medium'}\n",
      "{'color': 'green', 'points': 5, 'speed': 'slow'}\n",
      "{'color': 'green', 'points': 5, 'speed': 'slow'}\n",
      "...\n"
     ]
    }
   ],
   "source": [
    "aliens = [] \n",
    "for alien_number in range (30): \n",
    " new_alien = {'color': 'green', 'points': 5, 'speed': 'slow'} \n",
    " aliens.append(new_alien) \n",
    "for alien in aliens[:3]: \n",
    " if alien['color'] == 'green': \n",
    "  alien['color'] = 'yellow' \n",
    "  alien['speed'] = 'medium' \n",
    "  alien['points'] = 10 \n",
    "for alien in aliens[:5]: \n",
    " print(alien) \n",
    "print(\"...\") \n"
   ]
  },
  {
   "cell_type": "code",
   "execution_count": 34,
   "id": "e86c464f-a2fa-45bb-8ea9-845a7bab133a",
   "metadata": {},
   "outputs": [
    {
     "name": "stdout",
     "output_type": "stream",
     "text": [
      "{'color': 'red', 'points': 15, 'speed': 'fast'}\n",
      "{'color': 'red', 'points': 15, 'speed': 'fast'}\n",
      "{'color': 'red', 'points': 15, 'speed': 'fast'}\n",
      "{'color': 'green', 'points': 5, 'speed': 'slow'}\n",
      "{'color': 'green', 'points': 5, 'speed': 'slow'}\n",
      "...\n"
     ]
    }
   ],
   "source": [
    "aliens = [] \n",
    "for alien_number in range (30): \n",
    " new_alien = {'color': 'green', 'points': 5, 'speed': 'slow'} \n",
    " aliens.append(new_alien) \n",
    "for alien in aliens[:3]: \n",
    " if alien['color'] == 'green': \n",
    "  alien['color'] = 'yellow' \n",
    "  alien['speed'] = 'medium' \n",
    "  alien['points'] = 10 \n",
    "for alien in aliens[0:3]: \n",
    " if alien['color'] == 'green': \n",
    "  alien['color'] = 'yellow' \n",
    "  alien['speed'] = 'medium' \n",
    "  alien['points'] = 10 \n",
    " elif alien['color'] == 'yellow': \n",
    "  alien['color'] = 'red' \n",
    "  alien['speed'] = 'fast' \n",
    "  alien['points'] = 15\n",
    "\n",
    "for alien in aliens[:5]: \n",
    " print(alien) \n",
    "print(\"...\") "
   ]
  },
  {
   "cell_type": "code",
   "execution_count": 35,
   "id": "a2a61e92-a8bc-4e08-a384-bc33662026b7",
   "metadata": {},
   "outputs": [
    {
     "name": "stdout",
     "output_type": "stream",
     "text": [
      "You ordered a thick-crust pizza with the following toppings:\n",
      "\tmushrooms\n",
      "\textra cheese\n"
     ]
    }
   ],
   "source": [
    "pizza = { \n",
    " 'crust': 'thick', \n",
    " 'toppings': ['mushrooms', 'extra cheese'], \n",
    " } \n",
    " \n",
    "\n",
    "print(f\"You ordered a {pizza['crust']}-crust pizza \" \n",
    " \"with the following toppings:\") \n",
    "for topping in pizza['toppings']: \n",
    " print(f\"\\t{topping}\")"
   ]
  },
  {
   "cell_type": "code",
   "execution_count": 36,
   "id": "3f4d39a1-e5df-495a-bdda-c1feea968426",
   "metadata": {},
   "outputs": [
    {
     "name": "stdout",
     "output_type": "stream",
     "text": [
      "\n",
      "Jen's favorite languages are:\n",
      "\n",
      "Sarah's favorite languages are:\n",
      "\n",
      "Edward's favorite languages are:\n",
      "\n",
      "Phil's favorite languages are:\n",
      "\tPython\n",
      "\tHaskell\n"
     ]
    }
   ],
   "source": [
    " favorite_languages = { \n",
    " 'jen': ['python', 'rust'], \n",
    " 'sarah': ['c'], \n",
    " 'edward': ['rust', 'go'], \n",
    " 'phil': ['python', 'haskell'], \n",
    " } \n",
    " \n",
    "for name, languages in favorite_languages.items(): \n",
    "  print(f\"\\n{name.title()}'s favorite languages are:\") \n",
    "for language in languages: \n",
    "   print(f\"\\t{language.title()}\")"
   ]
  },
  {
   "cell_type": "code",
   "execution_count": 37,
   "id": "e771e0b9-a5de-42e4-a7e3-f4bf646d76cb",
   "metadata": {},
   "outputs": [
    {
     "name": "stdout",
     "output_type": "stream",
     "text": [
      "\n",
      "Username: aeinstein\n",
      "\n",
      "Username: mcurie\n",
      "\tFull name: Marie Curie\n",
      "\tLocation: Paris\n"
     ]
    }
   ],
   "source": [
    " users = { \n",
    " 'aeinstein': { \n",
    " 'first': 'albert', \n",
    " 'last': 'einstein', \n",
    " 'location': 'princeton', \n",
    " }, \n",
    " \n",
    " 'mcurie': { \n",
    " 'first': 'marie', \n",
    " 'last': 'curie', \n",
    " 'location': 'paris', \n",
    " }, \n",
    " \n",
    " } \n",
    " \n",
    "for username, user_info in users.items(): \n",
    "  print(f\"\\nUsername: {username}\") \n",
    " full_name = f\"{user_info['first']} {user_info['last']}\" \n",
    " location = user_info['location'] \n",
    " print(f\"\\tFull name: {full_name.title()}\") \n",
    "print(f\"\\tLocation: {location.title()}\")"
   ]
  },
  {
   "cell_type": "markdown",
   "id": "74aa1a56-5955-4f59-80f1-e78072dd5efa",
   "metadata": {},
   "source": [
    "####练习题"
   ]
  },
  {
   "cell_type": "code",
   "execution_count": 38,
   "id": "a04363d9-ca4e-4729-8cc4-08e138eb3a15",
   "metadata": {},
   "outputs": [
    {
     "name": "stdout",
     "output_type": "stream",
     "text": [
      "first_name: 张三\n",
      "last_name: 李四\n",
      "age: 30\n",
      "city: 北京\n"
     ]
    }
   ],
   "source": [
    "6.1\n",
    "person_info = {  \n",
    "    'first_name': '张三',  \n",
    "    'last_name': '李四',  \n",
    "    'age': 30,  \n",
    "    'city': '北京'  \n",
    "}  \n",
    "  \n",
    "\n",
    "for key, value in person_info.items():  \n",
    "    print(f\"{key}: {value}\")\n"
   ]
  },
  {
   "cell_type": "code",
   "execution_count": 49,
   "id": "07b1eb53-ff46-428e-b5ae-79d056f8ba31",
   "metadata": {},
   "outputs": [
    {
     "name": "stdout",
     "output_type": "stream",
     "text": [
      "Znz 's favourite number is 5.\n",
      "Ylt 's favourite number is 4.\n",
      "Ty 's favourite number is 3,.\n",
      "Qyx 's favourite number is 1.\n"
     ]
    }
   ],
   "source": [
    "6.2\n",
    "favorite_numbers = {\n",
    "    'Znz':'5',\n",
    "    'Ylt':'4',\n",
    "    'Ty':'3,',\n",
    "    'Qyx':'1',\n",
    "     }  \n",
    "for name, number in favorite_numbers.items():  \n",
    "  print(f\"{name} 's favourite number is {number}.\")"
   ]
  },
  {
   "cell_type": "code",
   "execution_count": 44,
   "id": "f2d3d7b7-b6a1-41f6-8ab7-5c3dbf4b4f5d",
   "metadata": {},
   "outputs": [
    {
     "name": "stdout",
     "output_type": "stream",
     "text": [
      "if:\n",
      "   assumeA\n",
      "\n",
      "elif:\n",
      "   assumeB\n",
      "\n",
      "else:\n",
      "   others\n",
      "\n",
      "x:\n",
      "   horizontalline\n",
      "\n",
      "y:\n",
      "   verticalline\n",
      "\n"
     ]
    }
   ],
   "source": [
    "6.3\n",
    " #抱歉老师我忘了编程术语了\n",
    "vocabulary = { \n",
    "    'if':'assumeA',\n",
    "    'elif':'assumeB',\n",
    "    'else':'others',\n",
    "    'x':'horizontalline',\n",
    "    'y':'verticalline',\n",
    "}\n",
    "for term,definition in vocabulary.items():\n",
    "    print(f\"{term}:\")\n",
    "    print(f\"   {definition}\")\n",
    "    print()"
   ]
  },
  {
   "cell_type": "code",
   "execution_count": 45,
   "id": "1cec4bff-c987-4b45-974d-892d2ed7987b",
   "metadata": {},
   "outputs": [
    {
     "name": "stdout",
     "output_type": "stream",
     "text": [
      "\n",
      "Key:username\n",
      "Value:efermi\n",
      "\n",
      "Key:first\n",
      "Value:enrico\n",
      "\n",
      "Key:last\n",
      "Value:fermi\n",
      "Jen's favorite language is Python.\n",
      "Sarah's favorite language is C.\n",
      "Edward's favorite language is Rust.\n",
      "Phil's favorite language is Python.\n"
     ]
    }
   ],
   "source": [
    "6.3\n",
    "user_0={\n",
    "'username':'efermi',\n",
    "'first':'enrico',\n",
    "'last':'fermi',\n",
    "}\n",
    "for key, value in user_0.items():\n",
    "    print(f\"\\nKey:{key}\")\n",
    "    print(f\"Value:{value}\")\n",
    "\n",
    "\n",
    "favorite_languages = { \n",
    " 'jen': 'python', \n",
    " 'sarah': 'c', \n",
    " 'edward': 'rust', \n",
    " 'phil': 'python', \n",
    " } \n",
    "for name,language in favorite_languages.items():\n",
    "    print(f\"{name.title()}'s favorite language is {language.title()}.\")"
   ]
  },
  {
   "cell_type": "code",
   "execution_count": 50,
   "id": "3379b1e2-d999-4214-b793-764e9d932488",
   "metadata": {},
   "outputs": [
    {
     "name": "stdout",
     "output_type": "stream",
     "text": [
      "if:\n",
      "   assumeA\n",
      "\n",
      "elif:\n",
      "   assumeB\n",
      "\n",
      "else:\n",
      "   others\n",
      "\n",
      "x:\n",
      "   horizontalline\n",
      "\n",
      "y:\n",
      "   verticalline\n",
      "\n",
      "del:\n",
      "   bs\n",
      "\n",
      "sort:\n",
      "   inorder\n",
      "\n",
      "list:\n",
      "   display\n",
      "\n",
      "for:\n",
      "   replace\n",
      "\n",
      "upper:\n",
      "   capitalization\n",
      "\n"
     ]
    }
   ],
   "source": [
    "6.4\n",
    "vocabulary = { \n",
    "    'if':'assumeA',\n",
    "    'elif':'assumeB',\n",
    "    'else':'others',\n",
    "    'x':'horizontalline',\n",
    "    'y':'verticalline',\n",
    "    'del':'bs',\n",
    "    'sort':'inorder',\n",
    "    'list':'display',\n",
    "    'for':'replace',\n",
    "    'upper':'capitalization'\n",
    "}\n",
    "for term,definition in vocabulary.items():\n",
    "    print(f\"{term}:\")\n",
    "    print(f\"   {definition}\")\n",
    "    print()\n",
    "    "
   ]
  },
  {
   "cell_type": "code",
   "execution_count": 51,
   "id": "5f76135c-74d9-4adb-a832-435f8d8f19da",
   "metadata": {},
   "outputs": [
    {
     "name": "stdout",
     "output_type": "stream",
     "text": [
      "The Nile runs through Egypt.\n",
      "The Amazon runs through Brazil.\n",
      "The Yangtze runs through China.\n",
      "Nile\n",
      "Amazon\n",
      "Yangtze\n",
      "Egypt\n",
      "Brazil\n",
      "China\n"
     ]
    }
   ],
   "source": [
    "6.5\n",
    "rivers_dict = {  \n",
    "    'nile': 'egypt',  \n",
    "    'amazon': 'brazil',  \n",
    "    'yangtze': 'china'  \n",
    "} \n",
    "for river, country in rivers_dict.items():  \n",
    "    print(f\"The {river.capitalize()} runs through {country.capitalize()}.\")  \n",
    "for river in rivers_dict.keys():  \n",
    "    print(river.capitalize())  \n",
    "for country in rivers_dict.values():  \n",
    "    print(country.capitalize())    "
   ]
  },
  {
   "cell_type": "code",
   "execution_count": 52,
   "id": "9b5cf838-16d5-4021-96c7-4f50651d841a",
   "metadata": {},
   "outputs": [
    {
     "name": "stdout",
     "output_type": "stream",
     "text": [
      "Jen's favorite language is Python.\n",
      "Sarah's favorite language is C.\n",
      "Edward's favorite language is Rust.\n",
      "Phil's favorite language is Python.\n",
      "Ivy's favorite language is Rust.\n",
      "Thank you for participating in the survey. \n",
      "If you have not yet participated in the survey, please participate。\n"
     ]
    }
   ],
   "source": [
    "6.6\n",
    " \n",
    "favorite_languages = { \n",
    " 'jen': 'python', \n",
    " 'sarah': 'c', \n",
    " 'edward': 'rust', \n",
    " 'phil': 'python', \n",
    " 'Ivy':'rust'\n",
    " } \n",
    " \n",
    "for name, language in favorite_languages.items(): \n",
    " print(f\"{name.title()}'s favorite language is {language.title()}.\")\n",
    "print(\"Thank you for participating in the survey. \")\n",
    "print(\"If you have not yet participated in the survey, please participate。\")"
   ]
  },
  {
   "cell_type": "code",
   "execution_count": 53,
   "id": "6d073ed0-e286-49be-bbae-42c4c4d7d84d",
   "metadata": {},
   "outputs": [
    {
     "name": "stdout",
     "output_type": "stream",
     "text": [
      "person_1: {'first_name': '张三', 'last_name': '李四', 'age': 30, 'city': '北京'}\n",
      "person_2: {'first_name': '明月', 'last_name': '沈懿珩', 'age': 21, 'city': '南京'}\n",
      "person_3: {'first_name': '萨菲罗斯', 'last_name': 'Cloud', 'age': 16, 'city': '涩谷'}\n"
     ]
    }
   ],
   "source": [
    "6.7\n",
    "person = {  \n",
    " 'person_1':{'first_name': '张三',  \n",
    "    'last_name': '李四',  \n",
    "    'age': 30,  \n",
    "    'city': '北京'  \n",
    "            },\n",
    " 'person_2':{'first_name':'明月',\n",
    "     'last_name':'沈懿珩',\n",
    "     'age':21,\n",
    "     'city':'南京'\n",
    "            },\n",
    "  'person_3':{'first_name':'萨菲罗斯',\n",
    "      'last_name':'Cloud',\n",
    "       'age':16,\n",
    "        'city':'涩谷'\n",
    "             },  \n",
    "}  \n",
    " \n",
    "  \n",
    "\n",
    "for key, value in person.items():  \n",
    "    print(f\"{key}: {value}\")"
   ]
  },
  {
   "cell_type": "code",
   "execution_count": 54,
   "id": "87f150f1-fe50-4b27-a3f2-a2b17e32e818",
   "metadata": {},
   "outputs": [
    {
     "name": "stdout",
     "output_type": "stream",
     "text": [
      "kind: 猫\n",
      "name of owner: 张三\n",
      "\n",
      "kind: 狗\n",
      "name of owner: 李四\n",
      "\n",
      "kind: 鸟\n",
      "name of owner: 王五\n",
      "\n"
     ]
    }
   ],
   "source": [
    "6.8\n",
    "pet1 = {'type': '猫', 'owner': '张三'}  \n",
    "pet2 = {'type': '狗', 'owner': '李四'}  \n",
    "pet3 = {'type': '鸟', 'owner': '王五'} \n",
    "pets = [pet1, pet2, pet3]  \n",
    "for pet in pets:  \n",
    "    print(f\"kind: {pet['type']}\")  \n",
    "    print(f\"name of owner: {pet['owner']}\")  \n",
    "    print()   "
   ]
  },
  {
   "cell_type": "code",
   "execution_count": 55,
   "id": "527a404c-0590-45b4-b314-be7fbc262c7e",
   "metadata": {},
   "outputs": [
    {
     "name": "stdout",
     "output_type": "stream",
     "text": [
      "Alice 's favorite places are：\n",
      "   - Paris\n",
      "   - Lundun\n",
      "   - Suzhou\n",
      "\n",
      "Bob 's favorite places are：\n",
      "   - 纽约\n",
      "   - 巴厘岛\n",
      "\n",
      "Charlie 's favorite places are：\n",
      "   - 悉尼歌剧院\n",
      "   - 亚马逊雨林\n",
      "\n"
     ]
    }
   ],
   "source": [
    "6.9\n",
    "favorite_places = {\n",
    "   'Alice':['Paris', \n",
    "                       'Lundun', \n",
    "                       'Suzhou']\n",
    "                      ,\n",
    "    'Bob':['纽约', \n",
    "                       '巴厘岛']\n",
    "                      ,  \n",
    "    'Charlie':['悉尼歌剧院',\n",
    "                       '亚马逊雨林']\n",
    "                      \n",
    "}  \n",
    "for person, places in favorite_places.items():  \n",
    "    print(f\"{person} 's favorite places are：\")  \n",
    "    for place in places:  \n",
    "        print(f\"   - {place}\")  \n",
    "    print()"
   ]
  },
  {
   "cell_type": "code",
   "execution_count": 57,
   "id": "55a23741-beb6-4ef6-8252-2ca37e866331",
   "metadata": {},
   "outputs": [
    {
     "name": "stdout",
     "output_type": "stream",
     "text": [
      "Znz 's favourite number is ['5', '2'].\n",
      "Ylt 's favourite number is ['4', '1'].\n",
      "Ty 's favourite number is ['3,', '5'].\n",
      "Qyx 's favourite number is ['1', '5'].\n"
     ]
    }
   ],
   "source": [
    "6.10\n",
    "favorite_numbers = {\n",
    "    'Znz':['5','2'],\n",
    "    'Ylt':['4','1'],\n",
    "    'Ty':['3,','5'],\n",
    "    'Qyx':['1','5']\n",
    "     }  \n",
    "for name, number in favorite_numbers.items():  \n",
    "  print(f\"{name} 's favourite number is {number}.\")"
   ]
  },
  {
   "cell_type": "code",
   "execution_count": 58,
   "id": "acf635c6-2130-401f-92ef-713ab38c3359",
   "metadata": {},
   "outputs": [
    {
     "name": "stdout",
     "output_type": "stream",
     "text": [
      "City: BeiJing\n",
      "Country: China\n",
      "Approximate population: 约2100万\n",
      "Facts about the city: It is the capital and political and cultural center of China, with a long history and rich cultural heritage\n",
      "\n",
      "City: New York\n",
      "Country: America\n",
      "Approximate population: 约860万\n",
      "Facts about the city: It is one of the largest cities in the world, known as the capital of the world, with numerous iconic buildings such as the Statue of Liberty and the Empire State Building.\n",
      "\n",
      "City: London\n",
      "Country: Britain\n",
      "Approximate population: 约900万\n",
      "Facts about the city: It is the capital of the UK, with a long history and rich museum resources, such as the British Museum and the Tate Gallery.\n",
      "\n"
     ]
    }
   ],
   "source": [
    "6.11\n",
    "cities = {  \n",
    "    'BeiJing': {  \n",
    "        'country': 'China',  \n",
    "        'population': '约2100万',  \n",
    "        'fact': 'It is the capital and political and cultural center of China, with a long history and rich cultural heritage'  \n",
    "    },  \n",
    "    'New York': {  \n",
    "        'country': 'America',  \n",
    "        'population': '约860万',  \n",
    "        'fact': 'It is one of the largest cities in the world, known as the capital of the world, with numerous iconic buildings such as the Statue of Liberty and the Empire State Building.'  \n",
    "    },  \n",
    "    'London': {  \n",
    "        'country': 'Britain',  \n",
    "        'population': '约900万',  \n",
    "        'fact': 'It is the capital of the UK, with a long history and rich museum resources, such as the British Museum and the Tate Gallery.'  \n",
    "    }  \n",
    "}  \n",
    "  \n",
    "for city, info in cities.items():  \n",
    "    print(f\"City: {city}\")  \n",
    "    print(f\"Country: {info['country']}\")  \n",
    "    print(f\"Approximate population: {info['population']}\")  \n",
    "    print(f\"Facts about the city: {info['fact']}\")  \n",
    "    print()"
   ]
  }
 ],
 "metadata": {
  "kernelspec": {
   "display_name": "Python 3 (ipykernel)",
   "language": "python",
   "name": "python3"
  },
  "language_info": {
   "codemirror_mode": {
    "name": "ipython",
    "version": 3
   },
   "file_extension": ".py",
   "mimetype": "text/x-python",
   "name": "python",
   "nbconvert_exporter": "python",
   "pygments_lexer": "ipython3",
   "version": "3.11.7"
  }
 },
 "nbformat": 4,
 "nbformat_minor": 5
}
