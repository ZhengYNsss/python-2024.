{
 "cells": [
  {
   "cell_type": "markdown",
   "id": "8aeea02b-e711-47c8-82b8-181f47253f4f",
   "metadata": {},
   "source": [
    "## 练习题"
   ]
  },
  {
   "cell_type": "code",
   "execution_count": 5,
   "id": "5490894d-31a8-4acb-954f-960b7ff37b77",
   "metadata": {},
   "outputs": [
    {
     "name": "stdout",
     "output_type": "stream",
     "text": [
      "I like Daml\n",
      "I like Bisk\n",
      "I like Biggge\n",
      "I really love pizza!\n"
     ]
    }
   ],
   "source": [
    "4.1\n",
    "pizzas=['Daml','Bisk','Biggge']\n",
    "for name in pizzas:\n",
    "    print(f\"I like {name.title()}\")\n",
    "print(\"I really love pizza!\")\n"
   ]
  },
  {
   "cell_type": "markdown",
   "id": "4977bf31-221a-4b11-a5ff-4c712edaec61",
   "metadata": {},
   "source": [
    "##避免缩进错误"
   ]
  },
  {
   "cell_type": "code",
   "execution_count": 6,
   "id": "02cb3ff9-aca6-4817-b748-1567cdd90f1e",
   "metadata": {},
   "outputs": [
    {
     "name": "stdout",
     "output_type": "stream",
     "text": [
      "I would like to have a cute pet,such as a dog\n",
      "I would like to have a cute pet,such as a cat\n",
      "I would like to have a cute pet,such as a rabbit\n",
      "Any of these animals would bring me happiness\n"
     ]
    }
   ],
   "source": [
    "4.2\n",
    "lovely_baby=['dog','cat','rabbit']\n",
    "for name in lovely_baby:\n",
    "    print(f\"I would like to have a cute pet,such as a {name}\")\n",
    "print(\"Any of these animals would bring me happiness\")"
   ]
  },
  {
   "cell_type": "markdown",
   "id": "a06b4c47-879a-4e0a-abde-686809ddbe4c",
   "metadata": {},
   "source": [
    "##创建数值列表"
   ]
  },
  {
   "cell_type": "code",
   "execution_count": 9,
   "id": "18d26b4c-8376-4ca5-941a-966fbbe26fd6",
   "metadata": {},
   "outputs": [
    {
     "name": "stdout",
     "output_type": "stream",
     "text": [
      "[0, 1, 2, 3, 4, 5, 6, 7, 8, 9, 10, 11, 12, 13, 14, 15, 16, 17, 18, 19, 20]\n"
     ]
    }
   ],
   "source": [
    "4.3\n",
    "bbia=list(range(0,21))\n",
    "print(bbia)"
   ]
  },
  {
   "cell_type": "code",
   "execution_count": 10,
   "id": "e63b064b-0ade-445d-a270-3b872465c5af",
   "metadata": {},
   "outputs": [
    {
     "data": {
      "text/plain": [
       "1000000"
      ]
     },
     "execution_count": 10,
     "metadata": {},
     "output_type": "execute_result"
    }
   ],
   "source": [
    "bbia=range(0,1000001)\n",
    "max(bbia)\n"
   ]
  },
  {
   "cell_type": "code",
   "execution_count": null,
   "id": "ce83f844-9acd-4b1e-a3f0-b8f5501ef53c",
   "metadata": {},
   "outputs": [],
   "source": [
    "bbia=range(0,1000001)\n",
    "for number in bbia:\n",
    "    print(number)"
   ]
  },
  {
   "cell_type": "code",
   "execution_count": 11,
   "id": "82634f16-7997-4346-9717-d0a909146a00",
   "metadata": {},
   "outputs": [
    {
     "data": {
      "text/plain": [
       "0"
      ]
     },
     "execution_count": 11,
     "metadata": {},
     "output_type": "execute_result"
    }
   ],
   "source": [
    "bbia=range(0,1000001)\n",
    "min(bbia)"
   ]
  },
  {
   "cell_type": "code",
   "execution_count": 12,
   "id": "97de7275-6837-4e3f-b688-46152a64f2df",
   "metadata": {},
   "outputs": [
    {
     "data": {
      "text/plain": [
       "500000500000"
      ]
     },
     "execution_count": 12,
     "metadata": {},
     "output_type": "execute_result"
    }
   ],
   "source": [
    "bbia=range(0,1000001)\n",
    "sum(bbia)"
   ]
  },
  {
   "cell_type": "code",
   "execution_count": 13,
   "id": "8f2b5eed-0109-4da8-a3db-5dcc07e35f45",
   "metadata": {},
   "outputs": [
    {
     "name": "stdout",
     "output_type": "stream",
     "text": [
      "1\n",
      "3\n",
      "5\n",
      "7\n",
      "9\n",
      "11\n",
      "13\n",
      "15\n",
      "17\n",
      "19\n"
     ]
    }
   ],
   "source": [
    "momochi=range(1,21,2)\n",
    "for damisy in momochi:\n",
    "    print(damisy)"
   ]
  },
  {
   "cell_type": "code",
   "execution_count": 14,
   "id": "c52fe6a3-7f79-4fc0-866b-713da59e8039",
   "metadata": {},
   "outputs": [
    {
     "name": "stdout",
     "output_type": "stream",
     "text": [
      "1\n",
      "3\n",
      "5\n",
      "7\n",
      "9\n",
      "11\n",
      "13\n",
      "15\n",
      "17\n",
      "19\n"
     ]
    }
   ],
   "source": [
    "momochi=range(1,21,2)\n",
    "for damisy in momochi:\n",
    "    print(damisy)"
   ]
  },
  {
   "cell_type": "code",
   "execution_count": 15,
   "id": "eb9a6df0-859d-434c-bf8a-b6f771c769df",
   "metadata": {},
   "outputs": [
    {
     "name": "stdout",
     "output_type": "stream",
     "text": [
      "0\n",
      "1\n",
      "8\n",
      "27\n",
      "64\n",
      "125\n",
      "216\n",
      "343\n",
      "512\n",
      "729\n",
      "1000\n"
     ]
    }
   ],
   "source": [
    "toma=[]\n",
    "for shin in range(0,11):\n",
    " aminate=shin ** 3\n",
    " toma.append(aminate)\n",
    " print(aminate)"
   ]
  },
  {
   "cell_type": "code",
   "execution_count": 16,
   "id": "4c244ed9-5c52-40f7-b8ce-2d0345da7a97",
   "metadata": {},
   "outputs": [
    {
     "name": "stdout",
     "output_type": "stream",
     "text": [
      "1\n",
      "8\n",
      "27\n",
      "64\n",
      "125\n",
      "216\n",
      "343\n",
      "512\n",
      "729\n",
      "1000\n"
     ]
    }
   ],
   "source": [
    "toma=[]\n",
    "for nany in range(1,11):\n",
    " sebby=nany**3\n",
    " toma.append(sebby)\n",
    " print(sebby)"
   ]
  },
  {
   "cell_type": "code",
   "execution_count": 33,
   "id": "84aa327e-7858-4d5a-a259-c8a850e02daa",
   "metadata": {},
   "outputs": [
    {
     "name": "stdout",
     "output_type": "stream",
     "text": [
      "The last three items in the list are:\n",
      "The\n"
     ]
    }
   ],
   "source": [
    "4.10\n",
    "message=\"The last three items in the list are:\"\n",
    "print(message)\n",
    "seeli=message[0:3]\n",
    "print(seeli)"
   ]
  },
  {
   "cell_type": "code",
   "execution_count": 35,
   "id": "384fe3ad-9ca3-4c36-b217-ada52effa468",
   "metadata": {},
   "outputs": [
    {
     "name": "stdout",
     "output_type": "stream",
     "text": [
      "Three items from the middle of the list are: [5, 6, 7]\n",
      "The last three items in the list are: [11, 12, 13]\n"
     ]
    }
   ],
   "source": [
    "4.11\n",
    "items = [1, 2, 3, 4, 5, 6, 7, 8, 9, 10, 11, 12, 13]  \n",
    "middle_start = len(items) // 3  \n",
    "middle_end = len(items) - len(items) // 3  \n",
    "print(\"Three items from the middle of the list are:\", items[middle_start:middle_end][:3])  \n",
    "    \n",
    "last_three = items[-3:]  \n",
    "print(\"The last three items in the list are:\", last_three)\n"
   ]
  },
  {
   "cell_type": "code",
   "execution_count": 65,
   "id": "acb53cab-5d97-4e56-82db-b035e66d53cc",
   "metadata": {},
   "outputs": [
    {
     "name": "stdout",
     "output_type": "stream",
     "text": [
      "My favorite pizzas are:\n",
      "Daml\n",
      "Bisk\n",
      "Biggge\n",
      "Pepperoni\n",
      "\n",
      "My friend's favorite pizzas are:\n",
      "Daml\n",
      "Bisk\n",
      "Biggge\n",
      "Vegetarian\n"
     ]
    }
   ],
   "source": [
    "4.12\n",
    "pizzas = ['Daml', 'Bisk', 'Biggge']  \n",
    "  \n",
    "friend_pizzas = pizzas.copy()  \n",
    "  \n",
    "pizzas.append('Pepperoni')  \n",
    "  \n",
    "friend_pizzas.append('Vegetarian')  \n",
    "  \n",
    "print(\"My favorite pizzas are:\")  \n",
    "for name in pizzas:  \n",
    "    print(f\"{name.title()}\")  \n",
    "  \n",
    "print(\"\\nMy friend's favorite pizzas are:\")  \n",
    "for name in friend_pizzas:  \n",
    "    print(f\"{name.title()}\")"
   ]
  },
  {
   "cell_type": "code",
   "execution_count": 66,
   "id": "6c404abb-d4a7-404f-be91-9a45d6394262",
   "metadata": {},
   "outputs": [
    {
     "name": "stdout",
     "output_type": "stream",
     "text": [
      "My favorite foods are:\n",
      "pizza\n",
      "falafel\n",
      "carrot cake\n",
      "\n",
      "My friend's favorite foods are:\n",
      "pizza\n",
      "falafel\n",
      "carrot cake\n"
     ]
    }
   ],
   "source": [
    "my_foods = ['pizza', 'falafel', 'carrot cake']  \n",
    "   \n",
    "friend_foods = my_foods[:]  \n",
    "  \n",
    "print(\"My favorite foods are:\")  \n",
    "for food in my_foods:  \n",
    "    print(food)  \n",
    "  \n",
    "print(\"\\nMy friend's favorite foods are:\")  \n",
    "for food in friend_foods:  \n",
    "    print(food)"
   ]
  },
  {
   "cell_type": "code",
   "execution_count": 67,
   "id": "571dfb10-5cb1-4ef7-85b9-cb8e5047c801",
   "metadata": {},
   "outputs": [
    {
     "name": "stdout",
     "output_type": "stream",
     "text": [
      "Hma\n",
      "Pizza\n",
      "Chi\n",
      "RICE\n",
      "Salad\n",
      "Hotdog\n",
      "Pizza\n",
      "Furry\n",
      "RICE\n",
      "Sandwich\n"
     ]
    }
   ],
   "source": [
    "4.13\n",
    "foods = (\"Hma\", \"Pizza\", \"Chi\", \"RICE\", \"Salad\") \n",
    "for food in foods:  \n",
    "    print(food)\n",
    "new_foods = (\"Hotdog\", foods[1], \"Furry\", foods[3], \"Sandwich\")  \n",
    "for new_food in new_foods:  \n",
    "    print(new_food)"
   ]
  },
  {
   "cell_type": "markdown",
   "id": "ba04d17f-e139-41e3-afd0-d984eaf33e66",
   "metadata": {},
   "source": [
    "## 遍历整个列表"
   ]
  },
  {
   "cell_type": "code",
   "execution_count": 36,
   "id": "0cb12012-ccbf-45cf-a69e-eddbdd535a9b",
   "metadata": {},
   "outputs": [
    {
     "name": "stdout",
     "output_type": "stream",
     "text": [
      "alice\n",
      "david\n",
      "carolina\n"
     ]
    }
   ],
   "source": [
    "4.1 \n",
    "magicians = ['alice', 'david', 'carolina']\n",
    "for magician in magicians:\n",
    " print(magician)"
   ]
  },
  {
   "cell_type": "code",
   "execution_count": 38,
   "id": "07454a79-8b58-455b-8552-df4b184f37ad",
   "metadata": {},
   "outputs": [
    {
     "name": "stdout",
     "output_type": "stream",
     "text": [
      "Seb\n",
      "Abe\n",
      "Sam\n"
     ]
    }
   ],
   "source": [
    "4.1\n",
    "cats=['Seb','Abe','Sam']\n",
    "for cat in cats:\n",
    "    print(cat)"
   ]
  },
  {
   "cell_type": "code",
   "execution_count": 39,
   "id": "bcebbd70-55c8-40b0-bf0c-fb90bcdd730f",
   "metadata": {},
   "outputs": [
    {
     "name": "stdout",
     "output_type": "stream",
     "text": [
      "Alice,that was a great trick!\n",
      "David,that was a great trick!\n",
      "Carolina,that was a great trick!\n"
     ]
    }
   ],
   "source": [
    "4.1\n",
    "magicians = ['alice', 'david', 'carolina']\n",
    "for magician in magicians:\n",
    "    print(f\"{magician.title()},that was a great trick!\")"
   ]
  },
  {
   "cell_type": "code",
   "execution_count": 40,
   "id": "15b15004-031d-4a8f-841c-6944a5f3b8b1",
   "metadata": {},
   "outputs": [
    {
     "name": "stdout",
     "output_type": "stream",
     "text": [
      "Alice, that was a great trick!\n",
      "I can't wait to see your next trick,Alice.\n",
      "\n",
      "David, that was a great trick!\n",
      "I can't wait to see your next trick,David.\n",
      "\n",
      "Carolina, that was a great trick!\n",
      "I can't wait to see your next trick,Carolina.\n",
      "\n"
     ]
    }
   ],
   "source": [
    "magicians = ['alice', 'david', 'carolina']\n",
    "for magician in magicians:\n",
    " print(f\"{magician.title()}, that was a great trick!\")\n",
    " print(f\"I can't wait to see your next trick,{magician.title()}.\\n\")"
   ]
  },
  {
   "cell_type": "code",
   "execution_count": 41,
   "id": "fc3622f4-5596-4e75-9c1d-9ea58b0ec778",
   "metadata": {},
   "outputs": [
    {
     "name": "stdout",
     "output_type": "stream",
     "text": [
      "Alice, that was a great trick!\n",
      "I can't wait to see your next trick, Alice.\n",
      "\n",
      "David, that was a great trick!\n",
      "I can't wait to see your next trick, David.\n",
      "\n",
      "Carolina, that was a great trick!\n",
      "I can't wait to see your next trick, Carolina.\n",
      "\n",
      "Thank you, everyone. That was a great magic show!\n"
     ]
    }
   ],
   "source": [
    "magicians = ['alice', 'david', 'carolina']\n",
    "for magician in magicians:\n",
    " print(f\"{magician.title()}, that was a great trick!\")\n",
    " print(f\"I can't wait to see your next trick, {magician.title()}.\\n\")\n",
    "print(\"Thank you, everyone. That was a great magic show!\")"
   ]
  },
  {
   "cell_type": "code",
   "execution_count": 42,
   "id": "e7c1e2ea-6fa2-43c5-a39d-0b95e14160c0",
   "metadata": {},
   "outputs": [
    {
     "name": "stdout",
     "output_type": "stream",
     "text": [
      "Alice, that was a great trick!\n",
      "I can't wait to see your next trick, Alice.\n",
      "\n",
      "Thank you, everyone. That was a great magic show!\n",
      "David, that was a great trick!\n",
      "I can't wait to see your next trick, David.\n",
      "\n",
      "Thank you, everyone. That was a great magic show!\n",
      "Carolina, that was a great trick!\n",
      "I can't wait to see your next trick, Carolina.\n",
      "\n",
      "Thank you, everyone. That was a great magic show!\n"
     ]
    }
   ],
   "source": [
    "magicians = ['alice', 'david', 'carolina']\n",
    "for magician in magicians:\n",
    " print(f\"{magician.title()}, that was a great trick!\")\n",
    " print(f\"I can't wait to see your next trick, {magician.title()}.\\n\")\n",
    " print(\"Thank you, everyone. That was a great magic show!\")"
   ]
  },
  {
   "cell_type": "markdown",
   "id": "ba155a5d-483f-4b77-a1df-2756c5372829",
   "metadata": {},
   "source": [
    "#避免缩进错误"
   ]
  },
  {
   "cell_type": "code",
   "execution_count": 43,
   "id": "912975fd-4d37-42fb-ab8e-c29379b80d27",
   "metadata": {},
   "outputs": [
    {
     "name": "stdout",
     "output_type": "stream",
     "text": [
      "alice\n",
      "david\n",
      "carolina\n"
     ]
    }
   ],
   "source": [
    "4.2\n",
    "magicians = ['alice', 'david', 'carolina']\n",
    "for magician in magicians:\n",
    " print(magician)"
   ]
  },
  {
   "cell_type": "code",
   "execution_count": 44,
   "id": "5e78defe-03a4-4aad-88d1-314a16fd3e53",
   "metadata": {},
   "outputs": [
    {
     "name": "stdout",
     "output_type": "stream",
     "text": [
      "Alice, that was a great trick!\n",
      "I can't wait to see your next trick, Alice.\n",
      "\n",
      "David, that was a great trick!\n",
      "I can't wait to see your next trick, David.\n",
      "\n",
      "Carolina, that was a great trick!\n",
      "I can't wait to see your next trick, Carolina.\n",
      "\n"
     ]
    }
   ],
   "source": [
    "magicians = ['alice', 'david', 'carolina']\n",
    "for magician in magicians:\n",
    " print(f\"{magician.title()}, that was a great trick!\")\n",
    " print(f\"I can't wait to see your next trick, {magician.title()}.\\n\")"
   ]
  },
  {
   "cell_type": "code",
   "execution_count": 45,
   "id": "7d365758-32fd-43fe-813c-8005fac57f84",
   "metadata": {},
   "outputs": [
    {
     "ename": "IndentationError",
     "evalue": "unexpected indent (3899986146.py, line 2)",
     "output_type": "error",
     "traceback": [
      "\u001b[1;36m  Cell \u001b[1;32mIn[45], line 2\u001b[1;36m\u001b[0m\n\u001b[1;33m    print(message)\u001b[0m\n\u001b[1;37m    ^\u001b[0m\n\u001b[1;31mIndentationError\u001b[0m\u001b[1;31m:\u001b[0m unexpected indent\n"
     ]
    }
   ],
   "source": [
    "message = \"Hello Python world!\"\n",
    " print(message)"
   ]
  },
  {
   "cell_type": "code",
   "execution_count": 46,
   "id": "6017ff15-0a58-4479-b86c-7dc6d7a31315",
   "metadata": {},
   "outputs": [
    {
     "name": "stdout",
     "output_type": "stream",
     "text": [
      "Hello Python world!\n"
     ]
    }
   ],
   "source": [
    "message = \"Hello Python world!\"\n",
    "print(message)"
   ]
  },
  {
   "cell_type": "code",
   "execution_count": 47,
   "id": "124ceb6a-7c07-4163-8e12-3dc695785d67",
   "metadata": {},
   "outputs": [
    {
     "ename": "IndentationError",
     "evalue": "unexpected indent (4179123978.py, line 5)",
     "output_type": "error",
     "traceback": [
      "\u001b[1;36m  Cell \u001b[1;32mIn[47], line 5\u001b[1;36m\u001b[0m\n\u001b[1;33m    print(\"Thank you everyone, that was a great magic show!\")\u001b[0m\n\u001b[1;37m    ^\u001b[0m\n\u001b[1;31mIndentationError\u001b[0m\u001b[1;31m:\u001b[0m unexpected indent\n"
     ]
    }
   ],
   "source": [
    "magicians = ['alice', 'david', 'carolina']\n",
    "for magician in magicians:\n",
    " print(f\"{magician.title()}, that was a great trick!\")\n",
    " print(f\"I can't wait to see your next trick, {magician.title()}.\\n\")\n",
    "  print(\"Thank you everyone, that was a great magic show!\")"
   ]
  },
  {
   "cell_type": "code",
   "execution_count": 48,
   "id": "351f637d-8d0a-4f06-bacb-b7e04fdebd41",
   "metadata": {},
   "outputs": [
    {
     "name": "stdout",
     "output_type": "stream",
     "text": [
      "Alice, that was a great trick!\n",
      "I can't wait to see your next trick, Alice.\n",
      "\n",
      "David, that was a great trick!\n",
      "I can't wait to see your next trick, David.\n",
      "\n",
      "Carolina, that was a great trick!\n",
      "I can't wait to see your next trick, Carolina.\n",
      "\n",
      "Thank you everyone, that was a great magic show!\n"
     ]
    }
   ],
   "source": [
    "magicians = ['alice', 'david', 'carolina']\n",
    "for magician in magicians:\n",
    " print(f\"{magician.title()}, that was a great trick!\")\n",
    " print(f\"I can't wait to see your next trick, {magician.title()}.\\n\")\n",
    "print(\"Thank you everyone, that was a great magic show!\")"
   ]
  },
  {
   "cell_type": "code",
   "execution_count": 50,
   "id": "91c09a2c-2fb9-4ade-91eb-efd8dfd8e1d3",
   "metadata": {},
   "outputs": [
    {
     "name": "stdout",
     "output_type": "stream",
     "text": [
      "Alice, that was a great trick!\n",
      "I can't wait to see your next trick, Alice.\n",
      "\n",
      "Thank you everyone, that was a great magic show!\n",
      "David, that was a great trick!\n",
      "I can't wait to see your next trick, David.\n",
      "\n",
      "Thank you everyone, that was a great magic show!\n",
      "Carolina, that was a great trick!\n",
      "I can't wait to see your next trick, Carolina.\n",
      "\n",
      "Thank you everyone, that was a great magic show!\n"
     ]
    }
   ],
   "source": [
    "magicians = ['alice', 'david', 'carolina']\n",
    "for magician in magicians:\n",
    " print(f\"{magician.title()}, that was a great trick!\")\n",
    " print(f\"I can't wait to see your next trick, {magician.title()}.\\n\")\n",
    " print(\"Thank you everyone, that was a great magic show!\")"
   ]
  },
  {
   "cell_type": "code",
   "execution_count": 54,
   "id": "b30bfa45-5553-42b1-8b9a-561b96330661",
   "metadata": {},
   "outputs": [
    {
     "name": "stdout",
     "output_type": "stream",
     "text": [
      "alice\n",
      "david\n",
      "carolina\n"
     ]
    }
   ],
   "source": [
    "magicians = ['alice', 'david', 'carolina']\n",
    "for magician in magicians:\n",
    " print(magician)"
   ]
  },
  {
   "cell_type": "markdown",
   "id": "0816f7ca-adef-41da-9c25-5424360b6804",
   "metadata": {},
   "source": [
    "#创建数值列表"
   ]
  },
  {
   "cell_type": "code",
   "execution_count": 55,
   "id": "540fd222-d566-4ffd-b3cf-de1c3e8c7d68",
   "metadata": {},
   "outputs": [
    {
     "name": "stdout",
     "output_type": "stream",
     "text": [
      "1\n",
      "2\n",
      "3\n",
      "4\n"
     ]
    }
   ],
   "source": [
    "4.3\n",
    "for value in range(1, 5):\n",
    " print(value)"
   ]
  },
  {
   "cell_type": "code",
   "execution_count": 56,
   "id": "9311096f-df66-4da6-86ba-ccdbb5f22d54",
   "metadata": {},
   "outputs": [
    {
     "name": "stdout",
     "output_type": "stream",
     "text": [
      "1\n",
      "2\n",
      "3\n",
      "4\n",
      "5\n"
     ]
    }
   ],
   "source": [
    "for value in range(1, 6):\n",
    " print(value)"
   ]
  },
  {
   "cell_type": "code",
   "execution_count": 57,
   "id": "52b8e643-85d5-4a35-bac2-76b0487ac6af",
   "metadata": {},
   "outputs": [
    {
     "name": "stdout",
     "output_type": "stream",
     "text": [
      "[1, 2, 3, 4, 5]\n"
     ]
    }
   ],
   "source": [
    "numbers = list(range(1, 6))\n",
    "print(numbers)"
   ]
  },
  {
   "cell_type": "code",
   "execution_count": 58,
   "id": "97230c06-57d4-4dc1-9153-a8a8677e62f5",
   "metadata": {},
   "outputs": [
    {
     "name": "stdout",
     "output_type": "stream",
     "text": [
      "[2, 4, 6, 8, 10]\n"
     ]
    }
   ],
   "source": [
    "even_numbers = list(range(2, 11, 2))\n",
    "print(even_numbers)"
   ]
  },
  {
   "cell_type": "code",
   "execution_count": 59,
   "id": "b2c3313c-a6bd-47e5-b794-5deac9be5496",
   "metadata": {},
   "outputs": [
    {
     "name": "stdout",
     "output_type": "stream",
     "text": [
      "[2, 5, 8, 11, 14, 17]\n"
     ]
    }
   ],
   "source": [
    "even_numbers = list(range(2, 19, 3))\n",
    "print(even_numbers)"
   ]
  },
  {
   "cell_type": "code",
   "execution_count": 60,
   "id": "cac6d38f-f560-42be-8aa2-a16e17e8a9b0",
   "metadata": {},
   "outputs": [
    {
     "name": "stdout",
     "output_type": "stream",
     "text": [
      "[1, 4, 9, 16, 25, 36, 49, 64, 81, 100]\n"
     ]
    }
   ],
   "source": [
    "squares = []\n",
    "for value in range(1, 11):\n",
    " square = value ** 2\n",
    " squares.append(square)\n",
    "print(squares)"
   ]
  },
  {
   "cell_type": "code",
   "execution_count": 61,
   "id": "f04073dd-e0e9-4f73-8b0b-689c068e1210",
   "metadata": {},
   "outputs": [
    {
     "name": "stdout",
     "output_type": "stream",
     "text": [
      "[1]\n",
      "[1, 4]\n",
      "[1, 4, 9]\n",
      "[1, 4, 9, 16]\n",
      "[1, 4, 9, 16, 25]\n",
      "[1, 4, 9, 16, 25, 36]\n",
      "[1, 4, 9, 16, 25, 36, 49]\n",
      "[1, 4, 9, 16, 25, 36, 49, 64]\n",
      "[1, 4, 9, 16, 25, 36, 49, 64, 81]\n",
      "[1, 4, 9, 16, 25, 36, 49, 64, 81, 100]\n"
     ]
    }
   ],
   "source": [
    "squares = []\n",
    "for value in range(1, 11):\n",
    " square = value ** 2\n",
    " squares.append(square)\n",
    " print(squares)"
   ]
  },
  {
   "cell_type": "code",
   "execution_count": 62,
   "id": "e6a8cd6d-603b-4aaa-9cbf-a4fdba6ef2ed",
   "metadata": {},
   "outputs": [
    {
     "data": {
      "text/plain": [
       "0"
      ]
     },
     "execution_count": 62,
     "metadata": {},
     "output_type": "execute_result"
    }
   ],
   "source": [
    "digits = [1, 2, 3, 4, 5, 6, 7, 8, 9, 0]\n",
    "min(digits)\n"
   ]
  },
  {
   "cell_type": "code",
   "execution_count": 63,
   "id": "97e1ddeb-7625-4ff2-96a5-873251c656ed",
   "metadata": {},
   "outputs": [
    {
     "name": "stdout",
     "output_type": "stream",
     "text": [
      "[1, 4, 9, 16, 25, 36, 49, 64, 81, 100]\n"
     ]
    }
   ],
   "source": [
    "squares = [value**2 for value in range(1, 11)]\n",
    "print(squares)"
   ]
  },
  {
   "cell_type": "markdown",
   "id": "03451117-1c7d-455e-a2c3-c0aae7c94b86",
   "metadata": {},
   "source": [
    "#使用列表的一部分"
   ]
  },
  {
   "cell_type": "code",
   "execution_count": 17,
   "id": "8442669e-7c0a-4842-9679-276d2a28f16e",
   "metadata": {},
   "outputs": [
    {
     "name": "stdout",
     "output_type": "stream",
     "text": [
      "['charles', 'martina', 'michael']\n"
     ]
    }
   ],
   "source": [
    "players = ['charles', 'martina', 'michael', 'florence', 'eli'] \n",
    "print(players[0:3])"
   ]
  },
  {
   "cell_type": "code",
   "execution_count": 18,
   "id": "a5bb4c97-856d-43bf-8b3d-eb06bbe49b9b",
   "metadata": {},
   "outputs": [
    {
     "name": "stdout",
     "output_type": "stream",
     "text": [
      "['martina', 'michael', 'florence']\n"
     ]
    }
   ],
   "source": [
    "players = ['charles', 'martina', 'michael', 'florence', 'eli'] \n",
    "print(players[1:4])"
   ]
  },
  {
   "cell_type": "code",
   "execution_count": 19,
   "id": "4c9ea7e8-5836-4da9-8a2d-caf72ca84234",
   "metadata": {},
   "outputs": [
    {
     "name": "stdout",
     "output_type": "stream",
     "text": [
      "['charles', 'martina', 'michael', 'florence']\n"
     ]
    }
   ],
   "source": [
    "players = ['charles', 'martina', 'michael', 'florence', 'eli'] \n",
    "print(players[:4])"
   ]
  },
  {
   "cell_type": "code",
   "execution_count": 20,
   "id": "414a935a-fd97-4be3-8417-6c9b74d7aa35",
   "metadata": {},
   "outputs": [
    {
     "name": "stdout",
     "output_type": "stream",
     "text": [
      "['michael', 'florence', 'eli']\n"
     ]
    }
   ],
   "source": [
    "players = ['charles', 'martina', 'michael', 'florence', 'eli'] \n",
    "print(players[2:])"
   ]
  },
  {
   "cell_type": "code",
   "execution_count": 21,
   "id": "8f0d69db-0ecc-40cb-b3ea-654085293099",
   "metadata": {},
   "outputs": [
    {
     "name": "stdout",
     "output_type": "stream",
     "text": [
      "['michael', 'florence', 'eli']\n"
     ]
    }
   ],
   "source": [
    "players = ['charles', 'martina', 'michael', 'florence', 'eli'] \n",
    "print(players[-3:])"
   ]
  },
  {
   "cell_type": "code",
   "execution_count": 24,
   "id": "3b2a46d5-84dc-4762-baf6-35e499bd7aa7",
   "metadata": {},
   "outputs": [
    {
     "name": "stdout",
     "output_type": "stream",
     "text": [
      "Here are the first three players on my team:\n",
      "Charles\n",
      "Martina\n",
      "Michael\n"
     ]
    }
   ],
   "source": [
    "players = ['charles', 'martina', 'michael', 'florence', 'eli'] \n",
    " \n",
    "print(\"Here are the first three players on my team:\") \n",
    "for player in players[:3]: \n",
    "  print(player.title())"
   ]
  },
  {
   "cell_type": "code",
   "execution_count": 25,
   "id": "02afe12f-bc99-4ab0-b33a-ca14c1f332ca",
   "metadata": {},
   "outputs": [
    {
     "name": "stdout",
     "output_type": "stream",
     "text": [
      "My favorite foods are:\n",
      "['pizza', 'falafel', 'carrot cake']\n",
      "\n",
      "My friend's favorite foods are:\n",
      "['pizza', 'falafel', 'carrot cake']\n"
     ]
    }
   ],
   "source": [
    "my_foods = ['pizza', 'falafel', 'carrot cake'] \n",
    "friend_foods = my_foods[:] \n",
    " \n",
    "print(\"My favorite foods are:\") \n",
    "print(my_foods) \n",
    " \n",
    "print(\"\\nMy friend's favorite foods are:\") \n",
    "print(friend_foods)"
   ]
  },
  {
   "cell_type": "code",
   "execution_count": 26,
   "id": "478bbc96-9334-4219-8446-e058a61e8025",
   "metadata": {},
   "outputs": [
    {
     "name": "stdout",
     "output_type": "stream",
     "text": [
      "My favorite foods are:\n",
      "['pizza', 'falafel', 'carrot cake', 'cannoli']\n",
      "\n",
      "My friend's favorite foods are:\n",
      "['pizza', 'falafel', 'carrot cake', 'ice cream']\n"
     ]
    }
   ],
   "source": [
    "my_foods = ['pizza', 'falafel', 'carrot cake'] \n",
    "friend_foods = my_foods[:] \n",
    " \n",
    "my_foods.append('cannoli') \n",
    "friend_foods.append('ice cream') \n",
    " \n",
    "print(\"My favorite foods are:\") \n",
    "print(my_foods) \n",
    " \n",
    "print(\"\\nMy friend's favorite foods are:\") \n",
    "print(friend_foods)"
   ]
  },
  {
   "cell_type": "code",
   "execution_count": 27,
   "id": "dbaca419-5484-4b09-8b43-bf0420e55fe9",
   "metadata": {},
   "outputs": [
    {
     "name": "stdout",
     "output_type": "stream",
     "text": [
      "My favorite foods are:\n",
      "['pizza', 'falafel', 'carrot cake', 'cannoli', 'ice cream']\n",
      "\n",
      "My friend's favorite foods are:\n",
      "['pizza', 'falafel', 'carrot cake', 'cannoli', 'ice cream']\n"
     ]
    }
   ],
   "source": [
    " my_foods = ['pizza', 'falafel', 'carrot cake'] \n",
    " \n",
    "friend_foods = my_foods \n",
    " \n",
    "my_foods.append('cannoli') \n",
    "friend_foods.append('ice cream') \n",
    " \n",
    "print(\"My favorite foods are:\") \n",
    "print(my_foods) \n",
    " \n",
    "print(\"\\nMy friend's favorite foods are:\") \n",
    "print(friend_foods)"
   ]
  },
  {
   "cell_type": "markdown",
   "id": "7d75b2d3-dccf-4799-a4a0-507ff6db8118",
   "metadata": {},
   "source": [
    "##元组"
   ]
  },
  {
   "cell_type": "code",
   "execution_count": 29,
   "id": "87b2353d-7592-4515-a5a4-4747bd839ab0",
   "metadata": {},
   "outputs": [
    {
     "name": "stdout",
     "output_type": "stream",
     "text": [
      "200\n",
      "50\n"
     ]
    }
   ],
   "source": [
    "4.5\n",
    "dimensions = (200, 50)\n",
    "print(dimensions[0])\n",
    "print(dimensions[1])"
   ]
  },
  {
   "cell_type": "code",
   "execution_count": 30,
   "id": "a958dabb-e6fd-4f40-bb40-397e1bb01de3",
   "metadata": {},
   "outputs": [
    {
     "name": "stdout",
     "output_type": "stream",
     "text": [
      "200\n",
      "50\n"
     ]
    }
   ],
   "source": [
    "4.5\n",
    "dimensions = (200, 50)\n",
    "print(dimensions[0])\n",
    "print(dimensions[1])"
   ]
  },
  {
   "cell_type": "code",
   "execution_count": 31,
   "id": "85ed1852-ec32-4fee-808c-611c52dfb64e",
   "metadata": {},
   "outputs": [
    {
     "name": "stdout",
     "output_type": "stream",
     "text": [
      "200\n",
      "50\n"
     ]
    }
   ],
   "source": [
    "dimensions = (200, 50)\n",
    "for dimension in dimensions:\n",
    " print(dimension)"
   ]
  },
  {
   "cell_type": "code",
   "execution_count": 32,
   "id": "48ac6e47-062c-4da5-bb15-486d8b30d19a",
   "metadata": {},
   "outputs": [
    {
     "name": "stdout",
     "output_type": "stream",
     "text": [
      "Original dimensions:\n",
      "200\n",
      "50\n",
      "\n",
      "Modified dimensions:\n",
      "400\n",
      "100\n"
     ]
    }
   ],
   "source": [
    "dimensions = (200, 50)\n",
    "print(\"Original dimensions:\")\n",
    "for dimension in dimensions:\n",
    " print(dimension)\n",
    "dimensions = (400, 100)\n",
    "print(\"\\nModified dimensions:\")\n",
    "for dimension in dimensions:\n",
    " print(dimension)"
   ]
  }
 ],
 "metadata": {
  "kernelspec": {
   "display_name": "Python 3 (ipykernel)",
   "language": "python",
   "name": "python3"
  },
  "language_info": {
   "codemirror_mode": {
    "name": "ipython",
    "version": 3
   },
   "file_extension": ".py",
   "mimetype": "text/x-python",
   "name": "python",
   "nbconvert_exporter": "python",
   "pygments_lexer": "ipython3",
   "version": "3.11.7"
  }
 },
 "nbformat": 4,
 "nbformat_minor": 5
}
