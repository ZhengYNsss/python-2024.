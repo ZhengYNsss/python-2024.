{
 "cells": [
  {
   "cell_type": "markdown",
   "id": "6effc850-3326-4404-9e8f-44aa25ad5cfd",
   "metadata": {},
   "source": [
    "# 第十一章 测试代码"
   ]
  },
  {
   "cell_type": "markdown",
   "id": "3f7d871b-20ad-42ae-8e9f-09d3b882cf97",
   "metadata": {},
   "source": [
    "## 11.1 安装pytest（已完成）"
   ]
  },
  {
   "cell_type": "markdown",
   "id": "dcdd1249-4311-469a-a38b-1babf234ccf6",
   "metadata": {},
   "source": [
    "## 11.2 测试函数"
   ]
  },
  {
   "cell_type": "code",
   "execution_count": 3,
   "id": "7d1119ed-8aef-4f16-bad6-0ae3d52b7813",
   "metadata": {},
   "outputs": [
    {
     "name": "stdout",
     "output_type": "stream",
     "text": [
      "Enter 'q' at any time to quit.\n"
     ]
    },
    {
     "name": "stdin",
     "output_type": "stream",
     "text": [
      "\n",
      "Please give me a first name:  q\n"
     ]
    }
   ],
   "source": [
    "from name_function import get_formatted_name\n",
    "\n",
    "print(\"Enter 'q' at any time to quit.\")\n",
    "while True:\n",
    "    first = input(\"\\nPlease give me a first name: \")\n",
    "    if first == 'q':\n",
    "        break\n",
    "    last = input(\"Please give me a last name: \")\n",
    "    if last == 'q':\n",
    "        break\n",
    "        \n",
    "    formatted_name = get_formatted_name(first, last)\n",
    "    print(f\"\\tNeatly formatted name: {formatted_name}.\")"
   ]
  },
  {
   "cell_type": "markdown",
   "id": "824b2a78-eb1d-4444-aa6b-5b976d040ff8",
   "metadata": {},
   "source": [
    "# 11.2.2 可通过的测试\n"
   ]
  },
  {
   "cell_type": "code",
   "execution_count": 4,
   "id": "da00d521-77b1-4e61-8e4a-9cabc4ab0e0e",
   "metadata": {},
   "outputs": [],
   "source": [
    "def test_first_last_name():\n",
    "    \"\"\"能够正确地处理像Janis Joplin这样的姓名吗？\"\"\"\n",
    "    formatted_name=get_formatted_name('janis','joplin')\n",
    "    assert formatted_name=='Janis Joplin'"
   ]
  },
  {
   "cell_type": "markdown",
   "id": "5639e14b-968e-48c2-8581-7d167ce7dcc1",
   "metadata": {},
   "source": [
    "## 11.2.3 运行测试"
   ]
  },
  {
   "cell_type": "code",
   "execution_count": 6,
   "id": "6fb893aa-b40a-48ee-a96f-7751b3227b16",
   "metadata": {},
   "outputs": [
    {
     "ename": "NameError",
     "evalue": "name 'pytest' is not defined",
     "output_type": "error",
     "traceback": [
      "\u001b[1;31m---------------------------------------------------------------------------\u001b[0m",
      "\u001b[1;31mNameError\u001b[0m                                 Traceback (most recent call last)",
      "Cell \u001b[1;32mIn[6], line 1\u001b[0m\n\u001b[1;32m----> 1\u001b[0m pytest\n",
      "\u001b[1;31mNameError\u001b[0m: name 'pytest' is not defined"
     ]
    }
   ],
   "source": [
    " pytest"
   ]
  },
  {
   "cell_type": "markdown",
   "id": "cecdf772-43b0-4345-b77b-636d997aa188",
   "metadata": {},
   "source": [
    "## 11.2.4"
   ]
  },
  {
   "cell_type": "code",
   "execution_count": 7,
   "id": "794e0404-721f-4381-b59b-17094bdca4cd",
   "metadata": {},
   "outputs": [],
   "source": [
    "def get_formatted_name(first,middle,last):\n",
    "    \"\"\"生成格式规范的姓名\"\"\"\n",
    "    full_name=f\"{first} {middle} {last}\"\n",
    "    return full_name.title()"
   ]
  },
  {
   "cell_type": "markdown",
   "id": "723a5c1e-f7b8-4852-b49e-093a71956f15",
   "metadata": {},
   "source": [
    "## 11.2.5"
   ]
  },
  {
   "cell_type": "code",
   "execution_count": 8,
   "id": "c7f3608b-06bf-46c8-ab57-8477fd7ff08f",
   "metadata": {},
   "outputs": [],
   "source": [
    "def get_formatted_name(first,last,middle=''):\n",
    "    \"\"\"生成格式规范的姓名\"\"\"\n",
    "    if middle:\n",
    "        full_name=f\"{first} {middle} {last}\"\n",
    "    else:\n",
    "        full_name=f\"{first} {last}\"\n",
    "    return full_name.title()"
   ]
  },
  {
   "cell_type": "markdown",
   "id": "870501f8-55e4-496d-b0fa-d6d48d552b5c",
   "metadata": {},
   "source": [
    "## 11.2.6"
   ]
  },
  {
   "cell_type": "code",
   "execution_count": 9,
   "id": "d405f59f-fc9d-4cc2-a944-a87a77373c14",
   "metadata": {},
   "outputs": [],
   "source": [
    "from name_function import get_formatted_name\n",
    "\n",
    "def test_first_last_name():\n",
    "    \"\"\"能够正确地处理像Janis Joplin这样的姓名吗？\"\"\"\n",
    "    formatted_name=get_formatted_name('janis','joplin')\n",
    "    assert formatted_name=='Janis Joplin'"
   ]
  },
  {
   "cell_type": "markdown",
   "id": "6f2db387-6b78-40af-8efa-64ab60e35a43",
   "metadata": {},
   "source": [
    "# 11.3测试类"
   ]
  },
  {
   "cell_type": "markdown",
   "id": "15c5e79a-d48b-44ec-b3e2-f440725c6aa2",
   "metadata": {},
   "source": [
    "## 11.3.2"
   ]
  },
  {
   "cell_type": "code",
   "execution_count": 24,
   "id": "959b0fa4-3635-4ffe-bd2c-5a221a7e663f",
   "metadata": {},
   "outputs": [
    {
     "ename": "ImportError",
     "evalue": "cannot import name 'AnonymousSurvey' from 'survey' (C:\\Users\\联想\\Desktop\\python_work\\survey.py)",
     "output_type": "error",
     "traceback": [
      "\u001b[1;31m---------------------------------------------------------------------------\u001b[0m",
      "\u001b[1;31mImportError\u001b[0m                               Traceback (most recent call last)",
      "Cell \u001b[1;32mIn[24], line 2\u001b[0m\n\u001b[0;32m      1\u001b[0m \u001b[38;5;66;03m##language_survey.py\u001b[39;00m\n\u001b[1;32m----> 2\u001b[0m \u001b[38;5;28;01mfrom\u001b[39;00m \u001b[38;5;21;01msurvey\u001b[39;00m \u001b[38;5;28;01mimport\u001b[39;00m AnonymousSurvey \n\u001b[0;32m      4\u001b[0m \u001b[38;5;66;03m# 定义一个问题，并创建一个表示调查的 AnonymousSurvey 对象 \u001b[39;00m\n\u001b[0;32m      5\u001b[0m question \u001b[38;5;241m=\u001b[39m \u001b[38;5;124m\"\u001b[39m\u001b[38;5;124mWhat language did you first learn to speak?\u001b[39m\u001b[38;5;124m\"\u001b[39m \n",
      "\u001b[1;31mImportError\u001b[0m: cannot import name 'AnonymousSurvey' from 'survey' (C:\\Users\\联想\\Desktop\\python_work\\survey.py)"
     ]
    }
   ],
   "source": [
    "##language_survey.py\n",
    "from survey import AnonymousSurvey \n",
    " \n",
    "# 定义一个问题，并创建一个表示调查的 AnonymousSurvey 对象 \n",
    "question = \"What language did you first learn to speak?\" \n",
    "language_survey = AnonymousSurvey(question) \n",
    " \n",
    "# 显示问题并存储答案 \n",
    "language_survey.show_question() \n",
    "print(\"Enter 'q' at any time to quit.\\n\") \n",
    "while True: \n",
    " response = input(\"Language: \") \n",
    " if response == 'q': \n",
    "  break \n",
    " language_survey.store_response(response) \n",
    " \n",
    "# 显示调查结果 \n",
    "print(\"\\nThank you to everyone who participated in the survey!\") \n",
    "language_survey.show_results()\n"
   ]
  },
  {
   "cell_type": "markdown",
   "id": "d5904c9b-94cc-43a5-abd3-05a289f53072",
   "metadata": {},
   "source": [
    "## 11.3.3"
   ]
  },
  {
   "cell_type": "code",
   "execution_count": 34,
   "id": "3bf48d61-c10d-4fa8-a0c5-08623efab3a5",
   "metadata": {},
   "outputs": [
    {
     "ename": "ImportError",
     "evalue": "cannot import name 'AnonymousSurvey' from 'survey' (C:\\Users\\联想\\Desktop\\python_work\\survey.py)",
     "output_type": "error",
     "traceback": [
      "\u001b[1;31m---------------------------------------------------------------------------\u001b[0m",
      "\u001b[1;31mImportError\u001b[0m                               Traceback (most recent call last)",
      "Cell \u001b[1;32mIn[34], line 2\u001b[0m\n\u001b[0;32m      1\u001b[0m \u001b[38;5;66;03m#test_survey.py\u001b[39;00m\n\u001b[1;32m----> 2\u001b[0m \u001b[38;5;28;01mfrom\u001b[39;00m \u001b[38;5;21;01msurvey\u001b[39;00m \u001b[38;5;28;01mimport\u001b[39;00m AnonymousSurvey \n\u001b[0;32m      4\u001b[0m \u001b[38;5;28;01mdef\u001b[39;00m \u001b[38;5;21mtest_store_single_response\u001b[39m(): \n\u001b[0;32m      5\u001b[0m \u001b[38;5;250m \u001b[39m\u001b[38;5;124;03m\"\"\"测试单个答案会被妥善地存储\"\"\"\u001b[39;00m \n",
      "\u001b[1;31mImportError\u001b[0m: cannot import name 'AnonymousSurvey' from 'survey' (C:\\Users\\联想\\Desktop\\python_work\\survey.py)"
     ]
    }
   ],
   "source": [
    "#test_survey.py\n",
    "from survey import AnonymousSurvey \n",
    " \n",
    "def test_store_single_response(): \n",
    " \"\"\"测试单个答案会被妥善地存储\"\"\" \n",
    " question = \"What language did you first learn to speak?\" \n",
    " language_survey = AnonymousSurvey(question) \n",
    " language_survey.store_response('English') \n",
    " assert 'English' in language_survey.responses\n"
   ]
  },
  {
   "cell_type": "code",
   "execution_count": 35,
   "id": "ef4d2b64-f62f-4c9e-9596-2216ab67f433",
   "metadata": {},
   "outputs": [
    {
     "ename": "ImportError",
     "evalue": "cannot import name 'AnonymousSurvey' from 'survey' (C:\\Users\\联想\\Desktop\\python_work\\survey.py)",
     "output_type": "error",
     "traceback": [
      "\u001b[1;31m---------------------------------------------------------------------------\u001b[0m",
      "\u001b[1;31mImportError\u001b[0m                               Traceback (most recent call last)",
      "Cell \u001b[1;32mIn[35], line 1\u001b[0m\n\u001b[1;32m----> 1\u001b[0m \u001b[38;5;28;01mfrom\u001b[39;00m \u001b[38;5;21;01msurvey\u001b[39;00m \u001b[38;5;28;01mimport\u001b[39;00m AnonymousSurvey\n\u001b[0;32m      3\u001b[0m \u001b[38;5;28;01mdef\u001b[39;00m \u001b[38;5;21mtest_store_single_response\u001b[39m():\n\u001b[0;32m      4\u001b[0m \u001b[38;5;250m    \u001b[39m\u001b[38;5;124;03m\"\"\"测试单个答案会被妥善地存储\"\"\"\u001b[39;00m\n",
      "\u001b[1;31mImportError\u001b[0m: cannot import name 'AnonymousSurvey' from 'survey' (C:\\Users\\联想\\Desktop\\python_work\\survey.py)"
     ]
    }
   ],
   "source": [
    "from survey import AnonymousSurvey\n",
    "\n",
    "def test_store_single_response():\n",
    "    \"\"\"测试单个答案会被妥善地存储\"\"\"\n",
    "    question='What language did you first learn to speak?'\n",
    "    language_survey=AnonymousSurvey(question)\n",
    "    language_survey.store_response('English')\n",
    "    assert 'English' in language_survey.responses\n",
    "\n",
    "def test_step_three_responses():\n",
    "    \"\"\"测试三个答案会被妥善地存储\"\"\"\n",
    "    question='What language did you first learn to speak?'\n",
    "    language_survey=AnonymousSurvey(question)\n",
    "    responses=['English','Spanish','Mandarin']\n",
    "    for response in responses:\n",
    "        language_survey.store_response(response)\n",
    "\n",
    "    for response in responses:\n",
    "        assert response in language_survey.responses"
   ]
  },
  {
   "cell_type": "markdown",
   "id": "3ef03cf0-a1f7-4ef0-9722-3de1dd6278cb",
   "metadata": {},
   "source": [
    "## 11.3.4"
   ]
  },
  {
   "cell_type": "code",
   "execution_count": 36,
   "id": "c650c543-6cde-499a-8c6f-517db1ccefa9",
   "metadata": {},
   "outputs": [
    {
     "ename": "ImportError",
     "evalue": "cannot import name 'AnonymousSurvey' from 'survey' (C:\\Users\\联想\\Desktop\\python_work\\survey.py)",
     "output_type": "error",
     "traceback": [
      "\u001b[1;31m---------------------------------------------------------------------------\u001b[0m",
      "\u001b[1;31mImportError\u001b[0m                               Traceback (most recent call last)",
      "Cell \u001b[1;32mIn[36], line 2\u001b[0m\n\u001b[0;32m      1\u001b[0m \u001b[38;5;28;01mimport\u001b[39;00m \u001b[38;5;21;01mpytest\u001b[39;00m\n\u001b[1;32m----> 2\u001b[0m \u001b[38;5;28;01mfrom\u001b[39;00m \u001b[38;5;21;01msurvey\u001b[39;00m \u001b[38;5;28;01mimport\u001b[39;00m AnonymousSurvey\n\u001b[0;32m      4\u001b[0m \u001b[38;5;129m@pytest\u001b[39m\u001b[38;5;241m.\u001b[39mfixture\n\u001b[0;32m      5\u001b[0m \u001b[38;5;28;01mdef\u001b[39;00m \u001b[38;5;21mlanguage_survey\u001b[39m():\n\u001b[0;32m      6\u001b[0m \u001b[38;5;250m    \u001b[39m\u001b[38;5;124;03m\"\"\"一个可供所有测试函数使用的AnonymousSurvey实例\"\"\"\u001b[39;00m\n",
      "\u001b[1;31mImportError\u001b[0m: cannot import name 'AnonymousSurvey' from 'survey' (C:\\Users\\联想\\Desktop\\python_work\\survey.py)"
     ]
    }
   ],
   "source": [
    "import pytest\n",
    "from survey import AnonymousSurvey\n",
    "\n",
    "@pytest.fixture\n",
    "def language_survey():\n",
    "    \"\"\"一个可供所有测试函数使用的AnonymousSurvey实例\"\"\"\n",
    "    question='What language did you first learn to speak?'\n",
    "    language_survey=AnonymousSurvey(question)\n",
    "    return language_survey\n",
    "\n",
    "def test_store_single_response(language_survey):\n",
    "    language_survey.store_response('English')\n",
    "    assert 'English' in language_survey.responses\n",
    "\n",
    "def test_store_three_responses(language_survey):\n",
    "    responses=['English','Spanish','Mandarin']\n",
    "    for response in responses:\n",
    "        language_survey.store_response(response) \n",
    "    for response in responses:\n",
    "        assert response in language_survey.responses"
   ]
  },
  {
   "cell_type": "markdown",
   "id": "3442e19e-82bc-446c-9f57-263743e96719",
   "metadata": {},
   "source": [
    "# 练习"
   ]
  },
  {
   "cell_type": "code",
   "execution_count": 42,
   "id": "f1f0679f-2000-406f-9f46-f12da5f704e0",
   "metadata": {},
   "outputs": [
    {
     "ename": "SyntaxError",
     "evalue": "invalid syntax (4072690325.py, line 18)",
     "output_type": "error",
     "traceback": [
      "\u001b[1;36m  Cell \u001b[1;32mIn[42], line 18\u001b[1;36m\u001b[0m\n\u001b[1;33m    pytest test_cities.py\u001b[0m\n\u001b[1;37m           ^\u001b[0m\n\u001b[1;31mSyntaxError\u001b[0m\u001b[1;31m:\u001b[0m invalid syntax\n"
     ]
    }
   ],
   "source": [
    "#11.1\n",
    "# city_functions.py  \n",
    "  \n",
    "def city_country(city, country):  \n",
    "    \"\"\"  \n",
    "    返回格式为 \"City, Country\" 的字符串  \n",
    "    \"\"\"  \n",
    "    return f\"{city}, {country}\"\n",
    "# test_cities.py  \n",
    "  \n",
    "import pytest  \n",
    "from city_functions import city_country  \n",
    "  \n",
    "def test_city_country():  \n",
    "    assert city_country('santiago', 'chile') == 'Santiago, Chile'  \n",
    "  \n",
    "\n",
    "pytest test_cities.py"
   ]
  },
  {
   "cell_type": "code",
   "execution_count": null,
   "id": "0cf2d1e1-7195-4f16-9a97-066fba065c26",
   "metadata": {},
   "outputs": [],
   "source": [
    "#11.2\n",
    "# city_functions.py  \n",
    "  \n",
    "def city_country(city, country, population=None):  \n",
    "    \"\"\"  \n",
    "    返回格式为 \"City, Country - population xxx\"（如果提供了 population）的字符串  \n",
    "    \"\"\"  \n",
    "    if population is None:  \n",
    "        return f\"{city}, {country}\"  \n",
    "    else:  \n",
    "        return f\"{city}, {country} - population {population}\"\n",
    "# test_cities.py  \n",
    "  \n",
    "import pytest  \n",
    "from city_functions import city_country  \n",
    "  \n",
    "def test_city_country():  \n",
    "    assert city_country('santiago', 'chile') == 'Santiago, Chile'  \n",
    "  \n",
    "def test_city_country_population():  \n",
    "    assert city_country('santiago', 'chile', 5000000) == 'Santiago, Chile - population 5000000'  \n",
    "  \n",
    "pytest test_cities.py"
   ]
  },
  {
   "cell_type": "code",
   "execution_count": 46,
   "id": "af68835c-ec46-4a4d-901b-0be3a5901556",
   "metadata": {},
   "outputs": [
    {
     "name": "stderr",
     "output_type": "stream",
     "text": [
      "E\n",
      "======================================================================\n",
      "ERROR: C:\\Users\\联想\\AppData\\Roaming\\jupyter\\runtime\\kernel-6351c708-cc27-4f2c-a889-1ee9949d7640 (unittest.loader._FailedTest.C:\\Users\\联想\\AppData\\Roaming\\jupyter\\runtime\\kernel-6351c708-cc27-4f2c-a889-1ee9949d7640)\n",
      "----------------------------------------------------------------------\n",
      "AttributeError: module '__main__' has no attribute 'C:\\Users\\联想\\AppData\\Roaming\\jupyter\\runtime\\kernel-6351c708-cc27-4f2c-a889-1ee9949d7640'\n",
      "\n",
      "----------------------------------------------------------------------\n",
      "Ran 1 test in 0.001s\n",
      "\n",
      "FAILED (errors=1)\n"
     ]
    },
    {
     "ename": "SystemExit",
     "evalue": "True",
     "output_type": "error",
     "traceback": [
      "An exception has occurred, use %tb to see the full traceback.\n",
      "\u001b[1;31mSystemExit\u001b[0m\u001b[1;31m:\u001b[0m True\n"
     ]
    },
    {
     "name": "stderr",
     "output_type": "stream",
     "text": [
      "C:\\ProgramData\\anaconda3\\Lib\\site-packages\\IPython\\core\\interactiveshell.py:3561: UserWarning: To exit: use 'exit', 'quit', or Ctrl-D.\n",
      "  warn(\"To exit: use 'exit', 'quit', or Ctrl-D.\", stacklevel=1)\n"
     ]
    }
   ],
   "source": [
    "#11.3\n",
    "# employee.py  \n",
    "  \n",
    "class Employee:  \n",
    "    def __init__(self, first_name, last_name, annual_salary):  \n",
    "        self.first_name = first_name  \n",
    "        self.last_name = last_name  \n",
    "        self.annual_salary = annual_salary  \n",
    "  \n",
    "    def give_raise(self, amount=5000):  \n",
    "        \"\"\"默认增加 5000 美元的年薪，或者根据提供的金额增加。\"\"\"  \n",
    "        self.annual_salary += amount  \n",
    "        return self.annual_salary\n",
    "# test_employee.py  \n",
    "  \n",
    "import unittest  \n",
    "from employee import Employee  \n",
    "  \n",
    "class TestEmployee(unittest.TestCase):  \n",
    "    def test_give_default_raise(self):  \n",
    "        employee = Employee('John', 'Doe', 50000)  \n",
    "        self.assertEqual(employee.give_raise(), 55000)  \n",
    "  \n",
    "    def test_give_custom_raise(self):  \n",
    "        employee = Employee('Jane', 'Doe', 60000)  \n",
    "        self.assertEqual(employee.give_raise(10000), 70000)  \n",
    "  \n",
    "if __name__ == '__main__':  \n",
    "    unittest.main()\n",
    "\n",
    "# test_employee_with_fixture.py  \n",
    "  \n",
    "import unittest  \n",
    "from employee import Employee  \n",
    "  \n",
    "class TestEmployeeWithFixture(unittest.TestCase):  \n",
    "    def setUp(self):  \n",
    "        # 在每个测试之前运行，创建一个 Employee 对象  \n",
    "        self.employee = Employee('John', 'Doe', 50000)  \n",
    "  \n",
    "    def test_give_default_raise(self):  \n",
    "        self.assertEqual(self.employee.give_raise(), 55000)  \n",
    "  \n",
    "    def test_give_custom_raise(self):  \n",
    "        self.assertEqual(self.employee.give_raise(10000), 65000)  \n",
    "  \n",
    "if __name__ == '__main__':  \n",
    "    unittest.main()"
   ]
  }
 ],
 "metadata": {
  "kernelspec": {
   "display_name": "Python 3 (ipykernel)",
   "language": "python",
   "name": "python3"
  },
  "language_info": {
   "codemirror_mode": {
    "name": "ipython",
    "version": 3
   },
   "file_extension": ".py",
   "mimetype": "text/x-python",
   "name": "python",
   "nbconvert_exporter": "python",
   "pygments_lexer": "ipython3",
   "version": "3.11.7"
  }
 },
 "nbformat": 4,
 "nbformat_minor": 5
}
