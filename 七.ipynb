{
 "cells": [
  {
   "cell_type": "markdown",
   "id": "5d2392c2-43d7-432a-b352-668262c68230",
   "metadata": {},
   "source": [
    "# 第七章 用户输入和while循环"
   ]
  },
  {
   "cell_type": "markdown",
   "id": "9ed60dee-2b2b-4e79-9973-60dc1f2329c8",
   "metadata": {},
   "source": [
    "## 7.1"
   ]
  },
  {
   "cell_type": "code",
   "execution_count": 1,
   "id": "00f38e09-df65-4255-8795-f0901960cf97",
   "metadata": {},
   "outputs": [
    {
     "name": "stdin",
     "output_type": "stream",
     "text": [
      "Tell me something, and I will repeat it back to you:  5\n"
     ]
    },
    {
     "name": "stdout",
     "output_type": "stream",
     "text": [
      "5\n"
     ]
    }
   ],
   "source": [
    "message = input(\"Tell me something, and I will repeat it back to you: \") \n",
    "print(message)"
   ]
  },
  {
   "cell_type": "markdown",
   "id": "7ab6a413-7b2e-4059-a85d-85c85e30e584",
   "metadata": {},
   "source": [
    "### 7.1.1"
   ]
  },
  {
   "cell_type": "code",
   "execution_count": 2,
   "id": "a12af9fb-1206-4f23-b611-4d2f0c815119",
   "metadata": {},
   "outputs": [
    {
     "name": "stdin",
     "output_type": "stream",
     "text": [
      "Please enter your name:  e\n"
     ]
    },
    {
     "name": "stdout",
     "output_type": "stream",
     "text": [
      "\n",
      "Hello, e!\n"
     ]
    }
   ],
   "source": [
    "name = input(\"Please enter your name: \") \n",
    "print(f\"\\nHello, {name}!\")"
   ]
  },
  {
   "cell_type": "code",
   "execution_count": 3,
   "id": "b0455e8e-1fab-4148-bb03-c192bc2b7abe",
   "metadata": {},
   "outputs": [
    {
     "name": "stdin",
     "output_type": "stream",
     "text": [
      "If you share your name, we can personalize the messages you see.\n",
      "What is your first name?  e\n"
     ]
    },
    {
     "name": "stdout",
     "output_type": "stream",
     "text": [
      "\n",
      "Hello, e!\n"
     ]
    }
   ],
   "source": [
    "prompt = \"If you share your name, we can personalize the messages you see.\"\n",
    "prompt += \"\\nWhat is your first name? \" \n",
    " \n",
    "name = input(prompt) \n",
    "print(f\"\\nHello, {name}!\") \n"
   ]
  },
  {
   "cell_type": "markdown",
   "id": "60e2ea83-37b8-46c4-9ecf-0bf73a03d209",
   "metadata": {},
   "source": [
    "### 7.1.2"
   ]
  },
  {
   "cell_type": "code",
   "execution_count": 4,
   "id": "8d4e086e-1f37-4069-ae2c-75901285ac18",
   "metadata": {},
   "outputs": [
    {
     "name": "stdin",
     "output_type": "stream",
     "text": [
      "How old are you?  58\n"
     ]
    }
   ],
   "source": [
    " age = input(\"How old are you? \") \n"
   ]
  },
  {
   "cell_type": "code",
   "execution_count": 5,
   "id": "61c8f5cb-e05a-4890-884e-0f8deda88b01",
   "metadata": {},
   "outputs": [
    {
     "ename": "SyntaxError",
     "evalue": "invalid syntax. Perhaps you forgot a comma? (634621996.py, line 4)",
     "output_type": "error",
     "traceback": [
      "\u001b[1;36m  Cell \u001b[1;32mIn[5], line 4\u001b[1;36m\u001b[0m\n\u001b[1;33m    Traceback (most recent call last):\u001b[0m\n\u001b[1;37m               ^\u001b[0m\n\u001b[1;31mSyntaxError\u001b[0m\u001b[1;31m:\u001b[0m invalid syntax. Perhaps you forgot a comma?\n"
     ]
    }
   ],
   "source": [
    "age = input(\"How old are you? \") \n",
    "\n",
    "age >= 18 \n",
    "Traceback (most recent call last): \n",
    " File \"<stdin>\", line 1, in <module> \n",
    "TypeError: '>=' not supported between instances of 'str' and 'int' "
   ]
  },
  {
   "cell_type": "code",
   "execution_count": 8,
   "id": "0473471d-f41b-43ae-b040-709a3ad11762",
   "metadata": {},
   "outputs": [
    {
     "name": "stdin",
     "output_type": "stream",
     "text": [
      "How old are you?  89\n"
     ]
    },
    {
     "data": {
      "text/plain": [
       "True"
      ]
     },
     "execution_count": 8,
     "metadata": {},
     "output_type": "execute_result"
    }
   ],
   "source": [
    ">>> age = input(\"How old are you? \") \n",
    "\n",
    ">>> age = int(age) \n",
    ">>> age >= 18 \n",
    "True \n"
   ]
  },
  {
   "cell_type": "code",
   "execution_count": 9,
   "id": "e3478cdc-82a7-474f-837b-8d3775d262cf",
   "metadata": {},
   "outputs": [
    {
     "name": "stdin",
     "output_type": "stream",
     "text": [
      "How tall are you, in inches?  89\n"
     ]
    },
    {
     "name": "stdout",
     "output_type": "stream",
     "text": [
      "\n",
      "You're tall enough to ride!\n"
     ]
    }
   ],
   "source": [
    "height = input(\"How tall are you, in inches? \") \n",
    "height = int(height) \n",
    " \n",
    "if height >= 48: \n",
    " print(\"\\nYou're tall enough to ride!\") \n",
    "else: \n",
    " print(\"\\nYou'll be able to ride when you're a little older.\")\n"
   ]
  },
  {
   "cell_type": "markdown",
   "id": "adea0bf1-feb7-434a-81df-cd54891ed145",
   "metadata": {},
   "source": [
    "### 7.1.3"
   ]
  },
  {
   "cell_type": "code",
   "execution_count": 10,
   "id": "16322c54-9875-4230-97f4-1daa5d59c1f4",
   "metadata": {},
   "outputs": [
    {
     "data": {
      "text/plain": [
       "1"
      ]
     },
     "execution_count": 10,
     "metadata": {},
     "output_type": "execute_result"
    }
   ],
   "source": [
    ">>> 4 % 3 \n",
    "1 \n",
    ">>> 5 % 3 \n",
    "2 \n",
    ">>> 6 % 3 \n",
    "0 \n",
    ">>> 7 % 3\n",
    "1"
   ]
  },
  {
   "cell_type": "code",
   "execution_count": 11,
   "id": "6590aa2b-abaf-40b2-a0a1-12b6b5e9b803",
   "metadata": {},
   "outputs": [
    {
     "name": "stdin",
     "output_type": "stream",
     "text": [
      "Enter a number, and I'll tell you if it's even or odd:  5\n"
     ]
    },
    {
     "name": "stdout",
     "output_type": "stream",
     "text": [
      "\n",
      "The number 5 is odd.\n"
     ]
    }
   ],
   "source": [
    "number = input(\"Enter a number, and I'll tell you if it's even or odd: \") \n",
    "number = int(number) \n",
    " \n",
    "if number % 2 == 0: \n",
    " print(f\"\\nThe number {number} is even.\") \n",
    "else: \n",
    " print(f\"\\nThe number {number} is odd.\")"
   ]
  },
  {
   "cell_type": "markdown",
   "id": "6e0dc20a-8018-4de9-8f90-f63036505846",
   "metadata": {},
   "source": [
    "## 7.2"
   ]
  },
  {
   "cell_type": "markdown",
   "id": "5e7fc490-848b-44ce-875e-6af427b13f10",
   "metadata": {},
   "source": [
    "### 7.2.1"
   ]
  },
  {
   "cell_type": "code",
   "execution_count": 12,
   "id": "1503a194-86c9-40a3-97e8-112e445fcd0a",
   "metadata": {},
   "outputs": [
    {
     "name": "stdout",
     "output_type": "stream",
     "text": [
      "1\n",
      "2\n",
      "3\n",
      "4\n",
      "5\n"
     ]
    }
   ],
   "source": [
    "current_number = 1 \n",
    "while current_number <= 5: \n",
    " print(current_number) \n",
    " current_number += 1"
   ]
  },
  {
   "cell_type": "markdown",
   "id": "146cc620-a5b6-4a4e-93ef-5894a4a73f50",
   "metadata": {},
   "source": [
    "### 7.2.2"
   ]
  },
  {
   "cell_type": "code",
   "execution_count": 13,
   "id": "5202743b-4821-4b41-b951-99c2b6d019df",
   "metadata": {},
   "outputs": [
    {
     "name": "stdin",
     "output_type": "stream",
     "text": [
      "\n",
      "Tell me something, and I will repeat it back to you:\n",
      "Enter 'quit' to end the program.  2\n"
     ]
    },
    {
     "name": "stdout",
     "output_type": "stream",
     "text": [
      "2\n"
     ]
    },
    {
     "name": "stdin",
     "output_type": "stream",
     "text": [
      "\n",
      "Tell me something, and I will repeat it back to you:\n",
      "Enter 'quit' to end the program.  1\n"
     ]
    },
    {
     "name": "stdout",
     "output_type": "stream",
     "text": [
      "1\n"
     ]
    },
    {
     "name": "stdin",
     "output_type": "stream",
     "text": [
      "\n",
      "Tell me something, and I will repeat it back to you:\n",
      "Enter 'quit' to end the program.  6\n"
     ]
    },
    {
     "name": "stdout",
     "output_type": "stream",
     "text": [
      "6\n"
     ]
    },
    {
     "name": "stdin",
     "output_type": "stream",
     "text": [
      "\n",
      "Tell me something, and I will repeat it back to you:\n",
      "Enter 'quit' to end the program.  7\n"
     ]
    },
    {
     "name": "stdout",
     "output_type": "stream",
     "text": [
      "7\n"
     ]
    },
    {
     "name": "stdin",
     "output_type": "stream",
     "text": [
      "\n",
      "Tell me something, and I will repeat it back to you:\n",
      "Enter 'quit' to end the program.  !\n"
     ]
    },
    {
     "name": "stdout",
     "output_type": "stream",
     "text": [
      "!\n"
     ]
    },
    {
     "name": "stdin",
     "output_type": "stream",
     "text": [
      "\n",
      "Tell me something, and I will repeat it back to you:\n",
      "Enter 'quit' to end the program.  quit\n"
     ]
    },
    {
     "name": "stdout",
     "output_type": "stream",
     "text": [
      "quit\n"
     ]
    }
   ],
   "source": [
    "prompt = \"\\nTell me something, and I will repeat it back to you:\" \n",
    "prompt += \"\\nEnter 'quit' to end the program. \" \n",
    " \n",
    "message = \"\" \n",
    "while message != 'quit': \n",
    " message = input(prompt) \n",
    " print(message)"
   ]
  },
  {
   "cell_type": "code",
   "execution_count": 15,
   "id": "2c0057ed-53a8-4ed5-8f0a-e12b6cea2451",
   "metadata": {},
   "outputs": [
    {
     "name": "stdin",
     "output_type": "stream",
     "text": [
      "\n",
      "Tell me something, and I will repeat it back to you:\n",
      "Enter 'quit' to end the program.  quit\n"
     ]
    }
   ],
   "source": [
    "prompt = \"\\nTell me something, and I will repeat it back to you:\" \n",
    "prompt += \"\\nEnter 'quit' to end the program. \" \n",
    " \n",
    "message = \"\" \n",
    "while message != 'quit': \n",
    " message = input(prompt) \n",
    " \n",
    " if message != 'quit': \n",
    "   print(message) "
   ]
  },
  {
   "cell_type": "markdown",
   "id": "92718e7a-5d82-4b4b-977a-d859134bd5dc",
   "metadata": {},
   "source": [
    "### 7.2.3"
   ]
  },
  {
   "cell_type": "code",
   "execution_count": 16,
   "id": "d57cc52f-483d-4215-bf21-3dcc75212f11",
   "metadata": {},
   "outputs": [
    {
     "name": "stdin",
     "output_type": "stream",
     "text": [
      "\n",
      "Tell me something, and I will repeat it back to you:\n",
      "Enter 'quit' to end the program.  quit\n"
     ]
    },
    {
     "name": "stdout",
     "output_type": "stream",
     "text": [
      "quit\n"
     ]
    }
   ],
   "source": [
    " prompt = \"\\nTell me something, and I will repeat it back to you:\" \n",
    " prompt += \"\\nEnter 'quit' to end the program. \" \n",
    " \n",
    " active = True \n",
    " while active: \n",
    "  message = input(prompt) \n",
    " \n",
    "  if message == 'quit': \n",
    "    active = False \n",
    " else: \n",
    "    print(message)"
   ]
  },
  {
   "cell_type": "markdown",
   "id": "e2297e0f-8a5f-4516-85d5-6304f90cb476",
   "metadata": {},
   "source": [
    "### 7.2.4"
   ]
  },
  {
   "cell_type": "code",
   "execution_count": 18,
   "id": "cd8f42c3-d9fe-441b-be33-e5fe333ee6ee",
   "metadata": {},
   "outputs": [
    {
     "name": "stdin",
     "output_type": "stream",
     "text": [
      "\n",
      "Please enter the name of a city you have visited:\n",
      "(Enter 'quit' when you are finished.)  quit\n"
     ]
    }
   ],
   "source": [
    " prompt = \"\\nPlease enter the name of a city you have visited:\" \n",
    " prompt += \"\\n(Enter 'quit' when you are finished.) \" \n",
    " \n",
    " while True: \n",
    "  city = input(prompt) \n",
    " \n",
    "  if city == 'quit': \n",
    "   break \n",
    "  else: \n",
    "   print(f\"I'd love to go to {city.title()}!\")"
   ]
  },
  {
   "cell_type": "markdown",
   "id": "dcd2eb39-2641-4a0a-aa87-f0dab8112a91",
   "metadata": {},
   "source": [
    "### 7.2.5"
   ]
  },
  {
   "cell_type": "code",
   "execution_count": 19,
   "id": "4acf8962-6384-4157-8234-0f9156bbcfdc",
   "metadata": {},
   "outputs": [
    {
     "name": "stdout",
     "output_type": "stream",
     "text": [
      "10\n"
     ]
    }
   ],
   "source": [
    " current_number = 0 \n",
    " while current_number < 10: \n",
    "  current_number += 1 \n",
    "  if current_number % 2 == 0: \n",
    "    continue \n",
    " \n",
    " print(current_number)"
   ]
  },
  {
   "cell_type": "markdown",
   "id": "7a3dd409-a6c2-4f3a-bc42-2ba7495bfb88",
   "metadata": {},
   "source": [
    "### 7.2.6"
   ]
  },
  {
   "cell_type": "code",
   "execution_count": 20,
   "id": "cd28b3c3-81e8-41e3-8ea7-178bbb00be30",
   "metadata": {},
   "outputs": [
    {
     "name": "stdout",
     "output_type": "stream",
     "text": [
      "1\n",
      "2\n",
      "3\n",
      "4\n",
      "5\n"
     ]
    }
   ],
   "source": [
    "x = 1 \n",
    "while x <= 5: \n",
    " print(x) \n",
    " x += 1"
   ]
  },
  {
   "cell_type": "code",
   "execution_count": null,
   "id": "f8d03ac6-fe70-410d-b924-3f0cdf774002",
   "metadata": {},
   "outputs": [],
   "source": [
    "x = 1 \n",
    "while x <= 5: \n",
    " print(x) "
   ]
  },
  {
   "cell_type": "markdown",
   "id": "d5a76080-a916-4416-827b-a90b5d258f6e",
   "metadata": {},
   "source": [
    "## 7.3"
   ]
  },
  {
   "cell_type": "markdown",
   "id": "04b1ef2e-272f-4c68-9d50-61f91e39fe5c",
   "metadata": {},
   "source": [
    "### 7.3.1"
   ]
  },
  {
   "cell_type": "code",
   "execution_count": null,
   "id": "ad5eb22b-e1fe-47c1-b29c-3cd43c9bf6b2",
   "metadata": {},
   "outputs": [],
   "source": [
    " # 首先，创建一个待验证用户列表 \n",
    " # 和一个用于存储已验证用户的空列表 \n",
    " unconfirmed_users = ['alice', 'brian', 'candace'] \n",
    " confirmed_users = [] \n",
    " \n",
    " # 验证每个用户，直到没有未验证用户为止 \n",
    " # 将每个经过验证的用户都移到已验证用户列表中 \n",
    " while unconfirmed_users: \n",
    "   current_user = unconfirmed_users.pop() \n",
    " \n",
    "   print(f\"Verifying user: {current_user.title()}\") \n",
    "   confirmed_users.append(current_user) \n",
    " \n",
    " # 显示所有的已验证用户 \n",
    " print(\"\\nThe following users have been confirmed:\") \n",
    " for confirmed_user in confirmed_users: \n",
    "    print(confirmed_user.title())\n"
   ]
  },
  {
   "cell_type": "markdown",
   "id": "ff20c78c-bad9-423e-93ed-f86678c6fef9",
   "metadata": {},
   "source": [
    "### 7.3.2"
   ]
  },
  {
   "cell_type": "code",
   "execution_count": null,
   "id": "7734bdbf-c5e6-43bf-8e9c-b6ea55931c0e",
   "metadata": {},
   "outputs": [],
   "source": [
    "pets = ['dog', 'cat', 'dog', 'goldfish', 'cat', 'rabbit', 'cat'] \n",
    "print(pets) \n",
    " \n",
    "while 'cat' in pets: \n",
    " pets.remove('cat') \n",
    " \n",
    "print(pets)"
   ]
  },
  {
   "cell_type": "markdown",
   "id": "4fc2d2b5-a9ed-4187-a10e-adf6a7aa60f8",
   "metadata": {},
   "source": [
    "### 7.3.3"
   ]
  },
  {
   "cell_type": "code",
   "execution_count": null,
   "id": "acf92e46-fa7c-4f47-9f45-6ea0dac61aff",
   "metadata": {},
   "outputs": [],
   "source": [
    " responses = {} \n",
    " # 设置一个标志，指出调查是否继续 \n",
    " polling_active = True \n",
    " \n",
    " while polling_active: \n",
    "   # 提示输入被调查者的名字和回答 \n",
    "   name = input(\"\\nWhat is your name? \") \n",
    "   response = input(\"Which mountain would you like to climb someday? \") \n",
    " \n",
    " # 将回答存储在字典中 \n",
    "   responses[name] = response \n",
    " \n",
    " # 看看是否还有人要参与调查 \n",
    "   repeat = input(\"Would you like to let another person respond? (yes/no) \") \n",
    "   if repeat == 'no': \n",
    "    polling_active = False \n",
    " \n",
    " # 调查结束，显示结果 \n",
    " print(\"\\n--- Poll Results ---\") \n",
    " for name, response in responses.items(): \n",
    "    print(f\"{name} would like to climb {response}.\")"
   ]
  },
  {
   "cell_type": "markdown",
   "id": "f8dfb5ad-a1b4-44d9-beff-215a4ce3eb7f",
   "metadata": {},
   "source": [
    "## 练习"
   ]
  },
  {
   "cell_type": "code",
   "execution_count": 45,
   "id": "f8f55715-ae43-4a2e-85c5-925d647ab31f",
   "metadata": {},
   "outputs": [
    {
     "name": "stdin",
     "output_type": "stream",
     "text": [
      "What type of car you would like to rent？ Subaru\n"
     ]
    },
    {
     "ename": "NameError",
     "evalue": "name 'car_type' is not defined",
     "output_type": "error",
     "traceback": [
      "\u001b[1;31m---------------------------------------------------------------------------\u001b[0m",
      "\u001b[1;31mNameError\u001b[0m                                 Traceback (most recent call last)",
      "Cell \u001b[1;32mIn[45], line 3\u001b[0m\n\u001b[0;32m      1\u001b[0m \u001b[38;5;241m7.1\u001b[39m\n\u001b[0;32m      2\u001b[0m car\u001b[38;5;241m=\u001b[39m\u001b[38;5;28minput\u001b[39m(\u001b[38;5;124m\"\u001b[39m\u001b[38;5;124mWhat type of car you would like to rent？\u001b[39m\u001b[38;5;124m\"\u001b[39m)\n\u001b[1;32m----> 3\u001b[0m \u001b[38;5;28;01mif\u001b[39;00m car_type\u001b[38;5;241m.\u001b[39mlower() \u001b[38;5;241m==\u001b[39m \u001b[38;5;124m\"\u001b[39m\u001b[38;5;124msubaru\u001b[39m\u001b[38;5;124m\"\u001b[39m: \n\u001b[0;32m      4\u001b[0m     \u001b[38;5;28mprint\u001b[39m(\u001b[38;5;124m\"\u001b[39m\u001b[38;5;124mLet me see if I can find you a Subaru.\u001b[39m\u001b[38;5;124m\"\u001b[39m)  \n\u001b[0;32m      5\u001b[0m \u001b[38;5;28;01melse\u001b[39;00m:  \n",
      "\u001b[1;31mNameError\u001b[0m: name 'car_type' is not defined"
     ]
    }
   ],
   "source": [
    "7.1\n",
    "car=input(\"What type of car you would like to rent？\")\n",
    "if car_type.lower() == \"subaru\": \n",
    "    print(\"Let me see if I can find you a Subaru.\")  \n",
    "else:  \n",
    "    print(f\"Let me see if I can find you a {car_type}。\")"
   ]
  },
  {
   "cell_type": "code",
   "execution_count": 46,
   "id": "d240b361-dd8e-4661-9b55-a292f03557a5",
   "metadata": {},
   "outputs": [
    {
     "name": "stdin",
     "output_type": "stream",
     "text": [
      "How many people are dining? 5\n"
     ]
    },
    {
     "name": "stdout",
     "output_type": "stream",
     "text": [
      "A table is available, please come and have a meal.\n"
     ]
    }
   ],
   "source": [
    "7.2\n",
    "num_people = int(input(\"How many people are dining?\"))  \n",
    "if num_people > 8:  \n",
    "    print(\"Sorry, there are no available tables.\")  \n",
    "else:  \n",
    "    print(\"A table is available, please come and have a meal.\")"
   ]
  },
  {
   "cell_type": "code",
   "execution_count": 47,
   "id": "5b9bb253-3ed4-4b52-822b-a27d89ac783d",
   "metadata": {},
   "outputs": [
    {
     "name": "stdin",
     "output_type": "stream",
     "text": [
      "Enter a number, and I'll tell you if it's even or odd:  21\n"
     ]
    },
    {
     "name": "stdout",
     "output_type": "stream",
     "text": [
      "\n",
      "The number 21 is odd.\n"
     ]
    }
   ],
   "source": [
    "7.3\n",
    "number = input(\"Enter a number, and I'll tell you if it's even or odd: \") \n",
    "number = int(number) \n",
    " \n",
    "if number % 10 == 0: \n",
    " print(f\"\\nThe number {number} is even.\") \n",
    "else: \n",
    " print(f\"\\nThe number {number} is odd.\")"
   ]
  },
  {
   "cell_type": "code",
   "execution_count": 51,
   "id": "2a16da2c-11e0-4968-8d34-e042cc5dafd0",
   "metadata": {},
   "outputs": [
    {
     "name": "stdin",
     "output_type": "stream",
     "text": [
      "\n",
      "Please tell me the pizza toppings you want:\n",
      "(Enter 'quit' when you are finished.)  cheese\n"
     ]
    },
    {
     "name": "stdout",
     "output_type": "stream",
     "text": [
      "We will add this Cheese .\n"
     ]
    },
    {
     "name": "stdin",
     "output_type": "stream",
     "text": [
      "\n",
      "Please tell me the pizza toppings you want:\n",
      "(Enter 'quit' when you are finished.)  quit\n"
     ]
    }
   ],
   "source": [
    "7.4\n",
    "prompt = \"\\nPlease tell me the pizza toppings you want:\"\n",
    "prompt += \"\\n(Enter 'quit' when you are finished.) \" \n",
    "while True:  \n",
    "    topping = input(prompt)\n",
    "    if topping.lower() == 'quit':  \n",
    "        break\n",
    "    else:\n",
    "        print(f\"We will add this {topping.title()} .\")  "
   ]
  },
  {
   "cell_type": "code",
   "execution_count": 71,
   "id": "b6ff4e47-24b0-4d7f-b93b-15e6361a99f0",
   "metadata": {},
   "outputs": [
    {
     "name": "stdin",
     "output_type": "stream",
     "text": [
      "\n",
      "Please input your age:\n",
      "(Enter 'quit' when you are finished.)  5\n"
     ]
    },
    {
     "name": "stdout",
     "output_type": "stream",
     "text": [
      "The money you need pay for tickets is：('10 dollars',)\n"
     ]
    }
   ],
   "source": [
    "7.5\n",
    "prompt=\"\\nPlease input your age:\"\n",
    "prompt += \"\\n(Enter 'quit' when you are finished.) \" \n",
    "age=input(prompt)\n",
    "age=int(age)\n",
    "if age<3:\n",
    "        ticket_price = \"free\",  \n",
    "elif 3 <= age <= 12:  \n",
    "        ticket_price = \"10 dollars\" , \n",
    "else:  \n",
    "        ticket_price = \"15 dollars\" \n",
    "print(f\"The money you need pay for tickets is：{ticket_price}\")      "
   ]
  },
  {
   "cell_type": "code",
   "execution_count": 74,
   "id": "88e50232-eba7-4f0e-a9ae-8fde4b9d57ef",
   "metadata": {},
   "outputs": [
    {
     "name": "stdin",
     "output_type": "stream",
     "text": [
      "\n",
      "Please tell me the pizza toppings you want:\n",
      "(Enter 'quit' when you are finished.)  车色\n"
     ]
    },
    {
     "name": "stdout",
     "output_type": "stream",
     "text": [
      "We will add this 车色 .\n"
     ]
    },
    {
     "name": "stdin",
     "output_type": "stream",
     "text": [
      "\n",
      "Please tell me the pizza toppings you want:\n",
      "(Enter 'quit' when you are finished.)  quit\n"
     ]
    }
   ],
   "source": [
    "7.6\n",
    "active = True  \n",
    "while active:  \n",
    "    prompt = \"\\nPlease tell me the pizza toppings you want:\"\n",
    "    prompt += \"\\n(Enter 'quit' when you are finished.) \" \n",
    "    topping = input(prompt)\n",
    "    if topping.lower() == 'quit':  \n",
    "        active = False  \n",
    "        break\n",
    "    else:\n",
    "        print(f\"We will add this {topping.title()} .\")  "
   ]
  },
  {
   "cell_type": "code",
   "execution_count": null,
   "id": "8c2bd5b6-9d3d-4843-ba25-af2432251945",
   "metadata": {},
   "outputs": [],
   "source": [
    "7.7\n",
    "while True:  \n",
    "    print(\"私はあなたに余計な感情を抱いた...\")"
   ]
  },
  {
   "cell_type": "code",
   "execution_count": null,
   "id": "0fb2c75e-018c-4e03-b71e-094384e69033",
   "metadata": {},
   "outputs": [],
   "source": [
    "7.8\n",
    "sandwich_orders = [\"tuna sandwich\", \"ham sandwich\", \"cheese sandwich\", \"chicken sandwich\"] \n",
    "finished_sandwiches = []  \n",
    "for sandwich in sandwich_orders:  \n",
    "    print(f\"I made your {sandwich}.\")  \n",
    "    finished_sandwiches.append(sandwich)  \n",
    "print(\"All sandwiches have been made!\")  \n",
    "print(\"Finished sandwiches:\")  \n",
    "for sandwich in finished_sandwiches:  \n",
    "    print(sandwich)"
   ]
  },
  {
   "cell_type": "code",
   "execution_count": null,
   "id": "41bef53d-67b8-4d03-8296-bd532cfd3e83",
   "metadata": {},
   "outputs": [],
   "source": [
    "7.9\n",
    "sandwich_orders = [\"tuna sandwich\", \"ham sandwich\", \"pastrami sandwich\", \"cheese sandwich\", \"chicken sandwich\", \"pastrami sandwich\", \"pastrami sandwich\"]  \n",
    "  \n",
    "print(\"Sorry, all the pastrami is sold out.\")  \n",
    "  \n",
    "while 'pastrami sandwich' in sandwich_orders:  \n",
    "    sandwich_orders.remove('pastrami sandwich')  \n",
    "  \n",
    "finished_sandwiches = []  \n",
    "  \n",
    "for sandwich in sandwich_orders:  \n",
    "\n",
    "    print(f\"I made your {sandwich}.\")  \n",
    "      \n",
    "\n",
    "    finished_sandwiches.append(sandwich)  \n",
    "\n",
    "print(\"All sandwiches have been made!\")  \n",
    "print(\"Finished sandwiches:\")  \n",
    "for sandwich in finished_sandwiches:  \n",
    "    print(sandwich)  \n",
    "\n",
    "if 'pastrami sandwich' not in finished_sandwiches:  \n",
    "    print(\"No pastrami sandwiches in the finished list.\")  \n",
    "else:  \n",
    "    print(\"Error: Pastrami sandwiches are still in the finished list!\")"
   ]
  },
  {
   "cell_type": "code",
   "execution_count": null,
   "id": "389c92c1-ea6d-429e-9ba4-97b8ef532584",
   "metadata": {},
   "outputs": [],
   "source": [
    "7.10\n",
    "def survey_dream_vacation():  \n",
    "    dream_place = input(\"If you could visit one place in the world, where would you go? \")  \n",
    "    return dream_place  \n",
    "  \n",
    "def print_survey_result(dream_place):  \n",
    "    print(f\"Your dream vacation spot is: {dream_place}\")  \n",
    "  \n",
    "def main():  \n",
    "\n",
    "    dream_vacation_place = survey_dream_vacation()  \n",
    "\n",
    "    print_survey_result(dream_vacation_place)  \n",
    "  \n",
    "if __name__ == \"__main__\":  \n",
    "    main()"
   ]
  },
  {
   "cell_type": "code",
   "execution_count": null,
   "id": "b5a1faf2-b9d2-4c3e-91aa-c9783830f794",
   "metadata": {},
   "outputs": [],
   "source": []
  }
 ],
 "metadata": {
  "kernelspec": {
   "display_name": "Python 3 (ipykernel)",
   "language": "python",
   "name": "python3"
  },
  "language_info": {
   "codemirror_mode": {
    "name": "ipython",
    "version": 3
   },
   "file_extension": ".py",
   "mimetype": "text/x-python",
   "name": "python",
   "nbconvert_exporter": "python",
   "pygments_lexer": "ipython3",
   "version": "3.11.7"
  }
 },
 "nbformat": 4,
 "nbformat_minor": 5
}
